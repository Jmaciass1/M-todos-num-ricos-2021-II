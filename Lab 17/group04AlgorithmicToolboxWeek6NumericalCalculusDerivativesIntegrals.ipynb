{
  "nbformat": 4,
  "nbformat_minor": 0,
  "metadata": {
    "colab": {
      "name": "group04AlgorithmicToolboxWeek6NumericalCalculusDerivativesIntegrals.ipynb",
      "provenance": [],
      "collapsed_sections": []
    },
    "kernelspec": {
      "name": "python3",
      "display_name": "Python 3"
    }
  },
  "cells": [
    {
      "cell_type": "markdown",
      "metadata": {
        "id": "VwqCELXDd-vn"
      },
      "source": [
        "# Part I. One-sided finite differences"
      ]
    },
    {
      "cell_type": "markdown",
      "metadata": {
        "id": "akxgtZGWeBBn"
      },
      "source": [
        "Write a function, `deriv`, which computes a derivative of its argument at a given point, $x$, using a one-sided finite difference rule with a given step side $h$, with the approximation order of $O(h^2)$. "
      ]
    },
    {
      "cell_type": "markdown",
      "metadata": {
        "id": "AurKLoCzOAxe"
      },
      "source": [
        "Example: construct a one-sided scheme of the order $O(h^2)$ for the\n",
        "frst derivative.\n",
        "$$f′(x) = \\frac{-\\frac{3}{2}f(x) + 2f(x + h)-  \\frac{1}{2}\n",
        "2f(x + 2h)}{h}+ O(h^2)\n",
        "$$\n"
      ]
    },
    {
      "cell_type": "code",
      "metadata": {
        "id": "strTaDxbd61G"
      },
      "source": [
        "def deriv(f, x, h):\n",
        "    \"\"\" Compute a derivative of `f` at point `x` with step size `h`.\n",
        "    \n",
        "    Compute the derivative using the one-sided rule of the approximation order of $O(h^2)$.\n",
        "    \n",
        "    Parameters\n",
        "    ----------\n",
        "    f : callable\n",
        "        The function to differentiate\n",
        "    x : float\n",
        "        The point to compute the derivative at.\n",
        "    h : float\n",
        "        The step size for the finite different rule.\n",
        "        \n",
        "    Returns\n",
        "    -------\n",
        "    fder : derivative of f(x) at point x using the step size h.\n",
        "    \"\"\"\n",
        "   \n",
        "    \n",
        "    return  (-3/2*f(x)+2*f(x+h)-1/2*f(x+2*h))/h"
      ],
      "execution_count": 1,
      "outputs": []
    },
    {
      "cell_type": "markdown",
      "metadata": {
        "id": "ERoh6YVQeGCN"
      },
      "source": [
        "#### Test I.1\n",
        "\n",
        "Test your function on a simple test case: differentiate $f(x) = x^3$ at $x=0$. Comment on whether your results are consistent with the expected value of $f'(x) = 0$ and on an expected scaling with $h\\to 0$.\n",
        "\n",
        " (10% of the total grade)"
      ]
    },
    {
      "cell_type": "code",
      "metadata": {
        "id": "EgbXvNPaeI5O",
        "colab": {
          "base_uri": "https://localhost:8080/"
        },
        "outputId": "7757d8ae-35e3-4f2e-ee13-5139f223857e"
      },
      "source": [
        "x = 0\n",
        "print(\"    h    --    err  --   h**2\" )\n",
        "for h in [1e-2, 1e-3, 1e-4, 1e-5, 1e-6, 1e-7]:\n",
        "    err = deriv(lambda x: x**3, x, h) - 3*x**2\n",
        "    print(\"%5f -- %7.4g --%7.4g\" % (h, err,h**2))"
      ],
      "execution_count": 2,
      "outputs": [
        {
          "output_type": "stream",
          "name": "stdout",
          "text": [
            "    h    --    err  --   h**2\n",
            "0.010000 -- -0.0002 -- 0.0001\n",
            "0.001000 --  -2e-06 --  1e-06\n",
            "0.000100 --  -2e-08 --  1e-08\n",
            "0.000010 --  -2e-10 --  1e-10\n",
            "0.000001 --  -2e-12 --  1e-12\n",
            "0.000000 --  -2e-14 --  1e-14\n"
          ]
        }
      ]
    },
    {
      "cell_type": "markdown",
      "metadata": {
        "id": "msl7Z00jeLas"
      },
      "source": [
        "As ilustrated in the table when using  $h\\to 0$, we use values $h \\in [1e-2, 1e-3, 1e-4, 1e-5]$, the approximation of the derivative vaule if of order of $O(h^2)$. "
      ]
    },
    {
      "cell_type": "markdown",
      "metadata": {
        "id": "XhOJDlW4eMUM"
      },
      "source": [
        "### Test I.2\n",
        "\n",
        "Now use a slightly more complicated function, $f(x) = x^2 \\log{x}$, evaluate the derivative at $x=1$ using your one-sided rule and a two-point one-sided rule. Roughly estimate the value of $h$ where the error stops decreasing, for these two schemes. \n",
        "(15% of the total grade)"
      ]
    },
    {
      "cell_type": "code",
      "metadata": {
        "id": "NOEPHutqRnU_"
      },
      "source": [
        "def  deriv_two_points_scheme(f, x, h):\n",
        "    return (f(x+h)-f(x))/h"
      ],
      "execution_count": 3,
      "outputs": []
    },
    {
      "cell_type": "code",
      "metadata": {
        "id": "FHNgM2V_eK8U"
      },
      "source": [
        "from math import log\n",
        "\n",
        "def f(x):\n",
        "    return x**2 * log(x)\n",
        "    \n",
        "def fder(x):\n",
        "    return x * (2.*log(x) + 1)"
      ],
      "execution_count": 4,
      "outputs": []
    },
    {
      "cell_type": "code",
      "metadata": {
        "id": "42aHoSnSeRLN",
        "colab": {
          "base_uri": "https://localhost:8080/",
          "height": 285
        },
        "outputId": "c624a8e1-0fbf-4575-caa1-c8158324b4e3"
      },
      "source": [
        "import matplotlib.pyplot as plt\n",
        "\n",
        "err_deriv = [abs(fder(1) - deriv(f, 1, pow(10, -i))) for i in range(1, 15)] \n",
        "err_deriv_two_points_scheme = [abs(fder(1) - deriv_two_points_scheme(f, 1, pow(10, -i))) for i in range(1, 15)] \n",
        "\n",
        "plt.plot(list(range(1, 15)), err_deriv)\n",
        "plt.plot(list(range(1, 15)), err_deriv_two_points_scheme)\n",
        "plt.legend(labels = [\"one-sided rule\", \"two point one-sided rule\"])"
      ],
      "execution_count": 5,
      "outputs": [
        {
          "output_type": "execute_result",
          "data": {
            "text/plain": [
              "<matplotlib.legend.Legend at 0x7f86d8b07850>"
            ]
          },
          "metadata": {},
          "execution_count": 5
        },
        {
          "output_type": "display_data",
          "data": {
            "image/png": "[encoded data removed]",
            "text/plain": [
              "<Figure size 432x288 with 1 Axes>"
            ]
          },
          "metadata": {
            "needs_background": "light"
          }
        }
      ]
    },
    {
      "cell_type": "markdown",
      "metadata": {
        "id": "RLJK2ml-S9b_"
      },
      "source": [
        "error stops decresing at $10^{-4}$ for both schemes"
      ]
    },
    {
      "cell_type": "markdown",
      "metadata": {
        "id": "4cbSCWCUeUzs"
      },
      "source": [
        "### Test I.3 \n",
        "\n",
        "Now try differentiating $x^2 \\log(x)$ at $x=0$. Use the three-point one-sided rule. Note that to evaluate the function at zero, you need to special-case this value. Check the scaling of the error with $h$, explain your results. \n",
        "(25% of the total grade)"
      ]
    },
    {
      "cell_type": "code",
      "metadata": {
        "id": "rem0KKXkkuzQ"
      },
      "source": [
        "def deriv_three_points_scheme(f ,x ,h):\n",
        "    return (-3/2*f(x) + 2*f(x + h) -1/2*f(x+2*h))/h"
      ],
      "execution_count": 6,
      "outputs": []
    },
    {
      "cell_type": "code",
      "metadata": {
        "id": "v3zfjshPeWwl",
        "colab": {
          "base_uri": "https://localhost:8080/"
        },
        "outputId": "f48910bb-2aae-4592-9945-4249a71f29b5"
      },
      "source": [
        "from math import log\n",
        "\n",
        "def f(x):\n",
        "    if x == 0:\n",
        "        # the limit of $x^2 log(x)$ at $x-> 0$ is zero, even though log(x) is undefined at x=0\n",
        "        return 0.0\n",
        "    else:\n",
        "        return x**2 * log(x)\n",
        "    \n",
        "def fder(x):\n",
        "    if x == 0:\n",
        "        return 0.0\n",
        "    else:\n",
        "        return x*(2*log(x) + 1)\n",
        "\n",
        "x = 0\n",
        "print(\"    h    --    err  \" )\n",
        "for h in [1e-2, 1e-3, 1e-4, 1e-5,1e-6]:\n",
        "    err = deriv_three_points_scheme(f, x, h) - fder(x)\n",
        "    print(\"%5f -- %7.4g \" % (h, err))"
      ],
      "execution_count": 7,
      "outputs": [
        {
          "output_type": "stream",
          "name": "stdout",
          "text": [
            "    h    --    err  \n",
            "0.010000 -- -0.01386 \n",
            "0.001000 -- -0.001386 \n",
            "0.000100 -- -0.0001386 \n",
            "0.000010 -- -1.386e-05 \n",
            "0.000001 -- -1.386e-06 \n"
          ]
        }
      ]
    },
    {
      "cell_type": "markdown",
      "metadata": {
        "id": "zMosJGyYeZAt"
      },
      "source": [
        "In the case of $\\lim_{x\\to\\infty} f'''(x) = \\lim_{x\\to\\infty} \\frac{1}{x} = \\infty$, error, which is given by $err = C\\cdot f'''(x)\\cdot h^2$ - has other convergency speed"
      ]
    },
    {
      "cell_type": "markdown",
      "metadata": {
        "id": "MxlwZpnBeb1M"
      },
      "source": [
        "# Part II. Midpoint rule "
      ]
    },
    {
      "cell_type": "markdown",
      "metadata": {
        "id": "mu_wGJUjeehD"
      },
      "source": [
        "Write a function which computes a definite integral using the midpoint rule up to a given error,  ϵ . Estimate the error by comparing the estimates of the integral at  N  and  2N  elementary intervals."
      ]
    },
    {
      "cell_type": "code",
      "metadata": {
        "id": "zIp4umLleg3U"
      },
      "source": [
        "def midpoint_rule(func, a, b, eps):\n",
        "    \"\"\" Calculate the integral of f from a to b using the midpoint rule.\n",
        "    \n",
        "    Parameters\n",
        "    ----------\n",
        "    func : callable\n",
        "        The function to integrate.\n",
        "    a : float\n",
        "        The lower limit of integration.\n",
        "    b : float\n",
        "        The upper limit of integration.\n",
        "    eps : float\n",
        "        The target accuracy of the estimate.\n",
        "        \n",
        "    Returns\n",
        "    -------\n",
        "    integral : float\n",
        "        The estimate of $\\int_a^b f(x) dx$.\n",
        "    \"\"\"\n",
        "    N = 5\n",
        "    err = eps+1\n",
        "    prev_iter = 1e30\n",
        "    \n",
        "    while err > eps and N<1e5:\n",
        "        h = (b - a)/N\n",
        "        intg = 0\n",
        "        for i in range(1, N+1):\n",
        "            intg += func(h*i-h/2.0)*h\n",
        "        err = abs(prev_iter - intg)\n",
        "        prev_iter = intg\n",
        "        N*=2\n",
        "        \n",
        "    return prev_iter, N/2"
      ],
      "execution_count": 8,
      "outputs": []
    },
    {
      "cell_type": "markdown",
      "metadata": {
        "id": "9vY5ssTWemjk"
      },
      "source": [
        "### Test II.1\n",
        "\n",
        "Test your midpoint rule on a simple integral, which you can calculate by paper and pencil.\n",
        "\n",
        "Compare the rate of convergence to the expected $O(N^{-2})$ scaling by studying the number of intervals required for a given accuracy $\\epsilon$.\n",
        "\n",
        "Compare the numerical results to the value you calculated by hand. Does the deviation agree with your estimate of the numerical error?\n",
        "(20% of the total grade)\n"
      ]
    },
    {
      "cell_type": "code",
      "metadata": {
        "colab": {
          "base_uri": "https://localhost:8080/"
        },
        "id": "Ff9NMoosmhoq",
        "outputId": "f0e3a38a-9ea0-4feb-e26f-d5ab1e6a184f"
      },
      "source": [
        "for h in [1e-2, 1e-3, 1e-4, 1e-10]:\n",
        "    err = midpoint_rule(lambda x: x**3, 0, 1, h)\n",
        "    print(err[1])\n",
        "    print(\"%5f -- %7.4g\" % (h, err[0]-0.25))"
      ],
      "execution_count": 9,
      "outputs": [
        {
          "output_type": "stream",
          "name": "stdout",
          "text": [
            "10.0\n",
            "0.010000 -- -0.00125\n",
            "20.0\n",
            "0.001000 -- -0.0003125\n",
            "80.0\n",
            "0.000100 -- -1.953e-05\n",
            "81920.0\n",
            "0.000000 -- -1.863e-11\n"
          ]
        }
      ]
    },
    {
      "cell_type": "markdown",
      "metadata": {
        "id": "_cw55vIUermL"
      },
      "source": [
        "### Test II.2\n",
        "\n",
        "Now use your midpoint rule to compute the value of\n",
        "\n",
        "$$\n",
        "\\int_0^1\\! \\frac{\\sin{\\sqrt{x}}}{x}\\, dx\n",
        "$$\n",
        "\n",
        "up to a predefined accuracy of $\\epsilon=10^{-4}$.\n",
        "\n",
        "Note that the integral contains an integrable singularity at the lower limit. Do calculations two ways: first, do a straightforward computation; next, subtract the singularity. Compare the number of iterations required to achieve the accuracy of $\\epsilon$.\n",
        "\n",
        "(30% of the total grade)"
      ]
    },
    {
      "cell_type": "code",
      "metadata": {
        "id": "JzBVxYiRetkz",
        "colab": {
          "base_uri": "https://localhost:8080/"
        },
        "outputId": "4738332b-a438-4abc-b724-bf2d8d42f146"
      },
      "source": [
        "import numpy as np\n",
        "\n",
        "func = lambda x: np.sin(np.sqrt(x))/x\n",
        "modified_func = lambda x: (np.sqrt(x)*np.sin(np.sqrt(x))-x)/(x*np.sqrt(x))\n",
        "\n",
        "true_integral = 1.8921661407343660298827066\n",
        "\n",
        "for h in [1e-2, 1e-3, 1e-4, 1e-5]:\n",
        "    err = midpoint_rule(func, 0, 1, h)\n",
        "    print(err[1])\n",
        "    print(\"%5f -- %7.4g\" % (h, err[0]-true_integral))\n",
        "    \n",
        "    err = midpoint_rule(modified_func, 0, 1, h)\n",
        "    print(err[1])\n",
        "    print(\"%5f -- %7.4g\" % (h, err[0]+2 - true_integral))\n",
        "    \n",
        "    \n",
        "    print(\"---------------\")"
      ],
      "execution_count": 10,
      "outputs": [
        {
          "output_type": "stream",
          "name": "stdout",
          "text": [
            "640.0\n",
            "0.010000 -- -0.02391\n",
            "10.0\n",
            "0.010000 -- -0.0002908\n",
            "---------------\n",
            "81920.0\n",
            "0.001000 -- -0.002113\n",
            "10.0\n",
            "0.001000 -- -0.0002908\n",
            "---------------\n",
            "81920.0\n",
            "0.000100 -- -0.002113\n",
            "40.0\n",
            "0.000100 -- -3.824e-05\n",
            "---------------\n",
            "81920.0\n",
            "0.000010 -- -0.002113\n",
            "160.0\n",
            "0.000010 -- -4.898e-06\n",
            "---------------\n"
          ]
        }
      ]
    }
  ]
}