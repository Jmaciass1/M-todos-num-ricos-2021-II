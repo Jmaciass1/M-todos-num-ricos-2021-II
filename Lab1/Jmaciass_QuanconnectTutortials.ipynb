{
  "nbformat": 4,
  "nbformat_minor": 0,
  "metadata": {
    "colab": {
      "name": "Jmaciass_QuanconnectTutortials.ipynb",
      "provenance": [],
      "collapsed_sections": []
    },
    "kernelspec": {
      "display_name": "Python 3",
      "language": "python",
      "name": "python3"
    },
    "language_info": {
      "codemirror_mode": {
        "name": "ipython",
        "version": 3
      },
      "file_extension": ".py",
      "mimetype": "text/x-python",
      "name": "python",
      "nbconvert_exporter": "python",
      "pygments_lexer": "ipython3",
      "version": "3.6.4"
    }
  },
  "cells": [
    {
      "cell_type": "markdown",
      "metadata": {
        "id": "eQzBbvyKQymx"
      },
      "source": [
        "<div align=\"center\">\n",
        "<img style=\"display: block; margin: auto;\" alt=\"photo\" src=\"https://cdn.quantconnect.com/web/i/icon.png\">\n",
        "\n",
        "Quantconnect\n",
        "\n",
        "Introduction to Financial Python\n",
        "</div>\n",
        "\n",
        "# 01 Data Types and Data Structures\n",
        "\n",
        "# Introduction\n",
        "\n",
        "This tutorial provides a basic introduction to the Python programming language. If you are new to Python, you should run the code snippets while reading this tutorial. If you are an advanced Python user, please feel free to skip this chapter.\n",
        "\n",
        "# Basic Variable Types\n",
        "The basic types of variables in Python are: strings, integers, floating point numbers and booleans.\n",
        "\n",
        "Strings in python are identified as a contiguous set of characters represented in either single quotes (' ') or double quotes (\" \").\n"
      ]
    },
    {
      "cell_type": "code",
      "metadata": {
        "colab": {
          "base_uri": "https://localhost:8080/"
        },
        "id": "N5t-UrcfOqid",
        "outputId": "6588ae94-97f4-4566-bec8-16064c7ab680"
      },
      "source": [
        "my_string1 = 'Welcome to'\n",
        "my_string2 = \"QuantConnect\"\n",
        "print(my_string1 + ' ' + my_string2)"
      ],
      "execution_count": null,
      "outputs": [
        {
          "output_type": "stream",
          "name": "stdout",
          "text": [
            "Welcome to QuantConnect\n"
          ]
        }
      ]
    },
    {
      "cell_type": "code",
      "metadata": {
        "colab": {
          "base_uri": "https://localhost:8080/"
        },
        "id": "kkoA0buoKLQs",
        "outputId": "4af3cea5-bc56-4357-a207-80a1e7cbe2b8"
      },
      "source": [
        "my_string1 = 'Hola'\n",
        "my_string2 = \"señor\"\n",
        "print(my_string1 + ' ' + my_string2)"
      ],
      "execution_count": 1,
      "outputs": [
        {
          "output_type": "stream",
          "name": "stdout",
          "text": [
            "Hola señor\n"
          ]
        }
      ]
    },
    {
      "cell_type": "markdown",
      "metadata": {
        "id": "bXHnxZyHSd1M"
      },
      "source": [
        "An integer is a round number with no values after the decimal point."
      ]
    },
    {
      "cell_type": "code",
      "metadata": {
        "colab": {
          "base_uri": "https://localhost:8080/"
        },
        "id": "pNjuz3toOqif",
        "outputId": "d543c41e-0f15-487d-93f2-c0f4beab09bb"
      },
      "source": [
        "my_int = 10\n",
        "print(my_int)\n",
        "print(type(my_int))"
      ],
      "execution_count": null,
      "outputs": [
        {
          "output_type": "stream",
          "name": "stdout",
          "text": [
            "10\n",
            "<class 'int'>\n"
          ]
        }
      ]
    },
    {
      "cell_type": "code",
      "metadata": {
        "colab": {
          "base_uri": "https://localhost:8080/"
        },
        "id": "w2KzrzRtKkRP",
        "outputId": "d9db9846-7738-406d-9fd2-50dda61883ec"
      },
      "source": [
        "my_int = 210\n",
        "print(my_int)\n",
        "print(type(my_int))"
      ],
      "execution_count": 2,
      "outputs": [
        {
          "output_type": "stream",
          "name": "stdout",
          "text": [
            "210\n",
            "<class 'int'>\n"
          ]
        }
      ]
    },
    {
      "cell_type": "markdown",
      "metadata": {
        "id": "_1ZanWrYSnzF"
      },
      "source": [
        "The built-in function int() can convert a string into an integer."
      ]
    },
    {
      "cell_type": "code",
      "metadata": {
        "colab": {
          "base_uri": "https://localhost:8080/"
        },
        "id": "zPwGb20FOqif",
        "outputId": "578dce75-668e-4668-c593-f72214175888"
      },
      "source": [
        "my_string = \"100\"\n",
        "print(type(my_string))\n",
        "my_int = int(my_string)\n",
        "print(type(my_int))"
      ],
      "execution_count": null,
      "outputs": [
        {
          "output_type": "stream",
          "name": "stdout",
          "text": [
            "<class 'str'>\n",
            "<class 'int'>\n"
          ]
        }
      ]
    },
    {
      "cell_type": "code",
      "metadata": {
        "colab": {
          "base_uri": "https://localhost:8080/"
        },
        "id": "zjOdoa7ZKnGe",
        "outputId": "a18a8667-8da1-439b-f404-9f4206728286"
      },
      "source": [
        "my_string = \"210\"\n",
        "print(type(my_string))\n",
        "my_int = int(my_string)\n",
        "print(type(my_int))"
      ],
      "execution_count": 3,
      "outputs": [
        {
          "output_type": "stream",
          "name": "stdout",
          "text": [
            "<class 'str'>\n",
            "<class 'int'>\n"
          ]
        }
      ]
    },
    {
      "cell_type": "markdown",
      "metadata": {
        "id": "WqMDPDTHSrE9"
      },
      "source": [
        "A floating point number, or a float, is a real number in mathematics. In Python we need to include a value after a decimal point to define it as a float"
      ]
    },
    {
      "cell_type": "code",
      "metadata": {
        "colab": {
          "base_uri": "https://localhost:8080/"
        },
        "id": "otCzKKW9Oqig",
        "outputId": "a86233ed-3b60-44dd-dbbb-a6ba7b212918"
      },
      "source": [
        "my_string = \"100\"\n",
        "my_float = float(my_string)\n",
        "print(type(my_float))"
      ],
      "execution_count": null,
      "outputs": [
        {
          "output_type": "stream",
          "name": "stdout",
          "text": [
            "<class 'float'>\n"
          ]
        }
      ]
    },
    {
      "cell_type": "code",
      "metadata": {
        "colab": {
          "base_uri": "https://localhost:8080/"
        },
        "id": "reStuPakK6n1",
        "outputId": "5a7780fd-cf6f-4efc-b45a-2383f0d7b1c8"
      },
      "source": [
        "my_string = \"350\"\n",
        "my_float = float(my_string)\n",
        "print(type(my_float))"
      ],
      "execution_count": 4,
      "outputs": [
        {
          "output_type": "stream",
          "name": "stdout",
          "text": [
            "<class 'float'>\n"
          ]
        }
      ]
    },
    {
      "cell_type": "markdown",
      "metadata": {
        "id": "2iuyv8Q7StTJ"
      },
      "source": [
        "As you can see above, if we don't include a decimal value, the variable would be defined as an integer. The built-in function float() can convert a string or an integer into a float."
      ]
    },
    {
      "cell_type": "code",
      "metadata": {
        "colab": {
          "base_uri": "https://localhost:8080/"
        },
        "id": "wwLw5VthOqig",
        "outputId": "d9da1137-5370-4cdb-bced-c27acb8ccf68"
      },
      "source": [
        "my_bool = False\n",
        "print(my_bool)\n",
        "print(type(my_bool))"
      ],
      "execution_count": null,
      "outputs": [
        {
          "output_type": "stream",
          "name": "stdout",
          "text": [
            "False\n",
            "<class 'bool'>\n"
          ]
        }
      ]
    },
    {
      "cell_type": "code",
      "metadata": {
        "colab": {
          "base_uri": "https://localhost:8080/"
        },
        "id": "7d9SFvceK-R5",
        "outputId": "2fc24234-0525-4057-b95e-e009f5934019"
      },
      "source": [
        "my_bool = True\n",
        "print(my_bool)\n",
        "print(type(my_bool))"
      ],
      "execution_count": 6,
      "outputs": [
        {
          "output_type": "stream",
          "name": "stdout",
          "text": [
            "True\n",
            "<class 'bool'>\n"
          ]
        }
      ]
    },
    {
      "cell_type": "markdown",
      "metadata": {
        "id": "bnGMwH21Szr_"
      },
      "source": [
        "A boolean, or bool, is a binary variable. Its value can only be True or False. It is useful when we do some logic operations, which would be covered in our next chapter."
      ]
    },
    {
      "cell_type": "code",
      "metadata": {
        "colab": {
          "base_uri": "https://localhost:8080/"
        },
        "id": "DMa6pDl5Oqig",
        "outputId": "c95fb06b-10d2-4860-ee5c-70c3e768ae75"
      },
      "source": [
        "print(\"Addition \", 1+1)\n",
        "print(\"Subtraction \", 5-2)\n",
        "print(\"Multiplication \", 2*3)\n",
        "print(\"Division \", 10/2)\n",
        "print('exponent', 2**3)"
      ],
      "execution_count": null,
      "outputs": [
        {
          "output_type": "stream",
          "name": "stdout",
          "text": [
            "Addition  2\n",
            "Subtraction  3\n",
            "Multiplication  6\n",
            "Division  5.0\n",
            "exponent 8\n"
          ]
        }
      ]
    },
    {
      "cell_type": "code",
      "metadata": {
        "colab": {
          "base_uri": "https://localhost:8080/"
        },
        "id": "touYuQedLCRX",
        "outputId": "8d12ac4d-4e94-4a31-b8a4-a4a75d466ee5"
      },
      "source": [
        "print(\"Addition \", 10+10)\n",
        "print(\"Subtraction \", 50-20)\n",
        "print(\"Multiplication \", 25*32)\n",
        "print(\"Division \", 100/3)\n",
        "print('exponent', 3**5)"
      ],
      "execution_count": 5,
      "outputs": [
        {
          "output_type": "stream",
          "name": "stdout",
          "text": [
            "Addition  20\n",
            "Subtraction  30\n",
            "Multiplication  800\n",
            "Division  33.333333333333336\n",
            "exponent 243\n"
          ]
        }
      ]
    },
    {
      "cell_type": "markdown",
      "metadata": {
        "id": "1Xc9G9_sS2ju"
      },
      "source": [
        "# Basic Math Operations\n",
        "\n",
        "The basic math operators in python are demonstrated below:"
      ]
    },
    {
      "cell_type": "code",
      "metadata": {
        "colab": {
          "base_uri": "https://localhost:8080/"
        },
        "id": "KE9gUryAOqig",
        "outputId": "82343653-3452-4cc1-a0d6-510cbc54d7cb"
      },
      "source": [
        "print(1/3)\n",
        "print(1.0/3)"
      ],
      "execution_count": null,
      "outputs": [
        {
          "output_type": "stream",
          "name": "stdout",
          "text": [
            "0.3333333333333333\n",
            "0.3333333333333333\n"
          ]
        }
      ]
    },
    {
      "cell_type": "code",
      "metadata": {
        "colab": {
          "base_uri": "https://localhost:8080/"
        },
        "id": "NQZZx0qoLMWa",
        "outputId": "70bd8141-dec8-4c77-c580-9cdf2396019c"
      },
      "source": [
        "print(100/30)\n",
        "print(1.0/30)"
      ],
      "execution_count": 7,
      "outputs": [
        {
          "output_type": "stream",
          "name": "stdout",
          "text": [
            "3.3333333333333335\n",
            "0.03333333333333333\n"
          ]
        }
      ]
    },
    {
      "cell_type": "markdown",
      "metadata": {
        "id": "AN5Oa3DoS_Nf"
      },
      "source": [
        "# Data Collections\n",
        "\n",
        "## List\n",
        "A list is an ordered collection of values. A list is mutable, which means you can change a list's value without changing the list itself. Creating a list is simply putting different comma-separated values between square brackets."
      ]
    },
    {
      "cell_type": "code",
      "metadata": {
        "colab": {
          "base_uri": "https://localhost:8080/"
        },
        "id": "-tQdNqCvOqig",
        "outputId": "946aa60d-c7d5-4e4c-860a-1b2fa00c3ceb"
      },
      "source": [
        "my_list = ['Quant', 'Connect', 1,2,3]\n",
        "print(my_list)"
      ],
      "execution_count": null,
      "outputs": [
        {
          "output_type": "stream",
          "name": "stdout",
          "text": [
            "['Quant', 'Connect', 1, 2, 3]\n"
          ]
        }
      ]
    },
    {
      "cell_type": "code",
      "metadata": {
        "colab": {
          "base_uri": "https://localhost:8080/"
        },
        "id": "syD29PvALVQN",
        "outputId": "56e5cac9-b9e9-4400-854e-a1d3c8129b11"
      },
      "source": [
        "my_list = ['Vaca', 'Muuuu', 1,2,3]\n",
        "print(my_list)"
      ],
      "execution_count": 8,
      "outputs": [
        {
          "output_type": "stream",
          "name": "stdout",
          "text": [
            "['Vaca', 'Muuuu', 1, 2, 3]\n"
          ]
        }
      ]
    },
    {
      "cell_type": "markdown",
      "metadata": {
        "id": "1O0TsgZCTHrM"
      },
      "source": [
        "The values in a list are called \"elements\". We can access list elements by indexing. Python index starts from 0. So if you have a list of length n, the index of the first element will be 0, and that of the last element will be n − 1. By the way, the length of a list can be obtained by the built-in function len()."
      ]
    },
    {
      "cell_type": "code",
      "metadata": {
        "colab": {
          "base_uri": "https://localhost:8080/"
        },
        "id": "QhuVhRR5Oqih",
        "outputId": "e8fa26aa-353f-4697-9701-6e8111a46ce4"
      },
      "source": [
        "my_list = ['Quant', 'Connect', 1,2,3]\n",
        "print(len(my_list))\n",
        "print(my_list[0])\n",
        "print(my_list[len(my_list) -1])"
      ],
      "execution_count": null,
      "outputs": [
        {
          "output_type": "stream",
          "name": "stdout",
          "text": [
            "5\n",
            "Quant\n",
            "3\n"
          ]
        }
      ]
    },
    {
      "cell_type": "code",
      "metadata": {
        "colab": {
          "base_uri": "https://localhost:8080/"
        },
        "id": "_FauOXaaLbua",
        "outputId": "2920eb6f-c029-4fae-d4ca-4bdf5be3cf27"
      },
      "source": [
        "my_list = ['Vaca', 'Muuuu', 1,2,3]\n",
        "print(len(my_list))\n",
        "print(my_list[0])\n",
        "print(my_list[len(my_list) -1])"
      ],
      "execution_count": 9,
      "outputs": [
        {
          "output_type": "stream",
          "name": "stdout",
          "text": [
            "5\n",
            "Vaca\n",
            "3\n"
          ]
        }
      ]
    },
    {
      "cell_type": "markdown",
      "metadata": {
        "id": "jgSZy1VGTKSc"
      },
      "source": [
        "You can also change the elements in the list by accessing an index and assigning a new value."
      ]
    },
    {
      "cell_type": "code",
      "metadata": {
        "colab": {
          "base_uri": "https://localhost:8080/"
        },
        "id": "NQBNLjAvOqih",
        "outputId": "476b8e55-d299-41aa-9215-9c0098bbf43c"
      },
      "source": [
        "my_list = ['Quant','Connect',1,2,3]\n",
        "my_list[2] = 'go'\n",
        "print(my_list)"
      ],
      "execution_count": null,
      "outputs": [
        {
          "output_type": "stream",
          "name": "stdout",
          "text": [
            "['Quant', 'Connect', 'go', 2, 3]\n"
          ]
        }
      ]
    },
    {
      "cell_type": "code",
      "metadata": {
        "colab": {
          "base_uri": "https://localhost:8080/"
        },
        "id": "GPpCY3U6Lfx1",
        "outputId": "f54b6ade-2f1d-4635-f435-b303ec0f37f2"
      },
      "source": [
        "my_list = ['Pollito','Pio',1,2,3]\n",
        "my_list[2] = 'go'\n",
        "print(my_list)"
      ],
      "execution_count": 10,
      "outputs": [
        {
          "output_type": "stream",
          "name": "stdout",
          "text": [
            "['Pollito', 'Pio', 'go', 2, 3]\n"
          ]
        }
      ]
    },
    {
      "cell_type": "markdown",
      "metadata": {
        "id": "EQPs5ojoTVrk"
      },
      "source": [
        "A list can also be sliced with a colon:"
      ]
    },
    {
      "cell_type": "code",
      "metadata": {
        "colab": {
          "base_uri": "https://localhost:8080/"
        },
        "id": "keNX2RbtOqii",
        "outputId": "01219718-8be6-4b02-b241-f1747bea9ab5"
      },
      "source": [
        "my_list = ['Quant','Connect',1,2,3]\n",
        "print(my_list[1:3])"
      ],
      "execution_count": null,
      "outputs": [
        {
          "output_type": "stream",
          "name": "stdout",
          "text": [
            "['Connect', 1]\n"
          ]
        }
      ]
    },
    {
      "cell_type": "code",
      "metadata": {
        "colab": {
          "base_uri": "https://localhost:8080/"
        },
        "id": "L_BEAAiuLlVY",
        "outputId": "f6bee19b-329e-4e7f-ce1a-4bec6bc77c60"
      },
      "source": [
        "my_list = ['Coyote','Pajarito',1,2,3]\n",
        "print(my_list[1:3])"
      ],
      "execution_count": 11,
      "outputs": [
        {
          "output_type": "stream",
          "name": "stdout",
          "text": [
            "['Pajarito', 1]\n"
          ]
        }
      ]
    },
    {
      "cell_type": "markdown",
      "metadata": {
        "id": "AZqQd0K8TYul"
      },
      "source": [
        "The slice starts from the first element indicated, but excludes the last element indicated. Here we select all elements starting from index 1, which refers to the second element:"
      ]
    },
    {
      "cell_type": "code",
      "metadata": {
        "colab": {
          "base_uri": "https://localhost:8080/"
        },
        "id": "0-76sLfkOqii",
        "outputId": "e0507043-0cd4-491b-bb9f-26100bf5ffd1"
      },
      "source": [
        "print(my_list[1:])"
      ],
      "execution_count": null,
      "outputs": [
        {
          "output_type": "stream",
          "name": "stdout",
          "text": [
            "['Connect', 1, 2, 3]\n"
          ]
        }
      ]
    },
    {
      "cell_type": "code",
      "metadata": {
        "colab": {
          "base_uri": "https://localhost:8080/"
        },
        "id": "eeL3vMxWLxmU",
        "outputId": "0fd0da08-2214-4c19-fa26-83c81b226e67"
      },
      "source": [
        "print(my_list[2:])"
      ],
      "execution_count": 12,
      "outputs": [
        {
          "output_type": "stream",
          "name": "stdout",
          "text": [
            "[1, 2, 3]\n"
          ]
        }
      ]
    },
    {
      "cell_type": "markdown",
      "metadata": {
        "id": "XBqvhUdZVKWs"
      },
      "source": [
        "And all elements up to but excluding index 3:"
      ]
    },
    {
      "cell_type": "code",
      "metadata": {
        "colab": {
          "base_uri": "https://localhost:8080/"
        },
        "id": "5NWr75L9Oqii",
        "outputId": "4b51d4c2-40d5-495c-cc54-cefab7fbea0e"
      },
      "source": [
        "print(my_list[:3])"
      ],
      "execution_count": null,
      "outputs": [
        {
          "output_type": "stream",
          "name": "stdout",
          "text": [
            "['Quant', 'Connect', 1]\n"
          ]
        }
      ]
    },
    {
      "cell_type": "code",
      "metadata": {
        "colab": {
          "base_uri": "https://localhost:8080/"
        },
        "id": "Xxt4GCbQL3Q7",
        "outputId": "dd5af804-5bd7-4e9a-ae64-a17d3df68292"
      },
      "source": [
        "print(my_list[:3])"
      ],
      "execution_count": 13,
      "outputs": [
        {
          "output_type": "stream",
          "name": "stdout",
          "text": [
            "['Coyote', 'Pajarito', 1]\n"
          ]
        }
      ]
    },
    {
      "cell_type": "markdown",
      "metadata": {
        "id": "eAFmM6bkTZz9"
      },
      "source": [
        "If you wish to add or remove an element from a list, you can use the append() and remove() methods for lists as follows:"
      ]
    },
    {
      "cell_type": "code",
      "metadata": {
        "colab": {
          "base_uri": "https://localhost:8080/"
        },
        "id": "pHmgTPElTo19",
        "outputId": "ec107852-3c63-4766-a60e-5ac8afc66008"
      },
      "source": [
        "my_list = ['Hello', 'Quant']\n",
        "my_list.append('Hello')\n",
        "print(my_list)\n",
        "\n"
      ],
      "execution_count": null,
      "outputs": [
        {
          "output_type": "stream",
          "name": "stdout",
          "text": [
            "['Hello', 'Quant', 'Hello']\n"
          ]
        }
      ]
    },
    {
      "cell_type": "code",
      "metadata": {
        "colab": {
          "base_uri": "https://localhost:8080/"
        },
        "id": "4C4U1Yf0Tr8l",
        "outputId": "e53d3f80-9f08-4bc7-8659-655418704265"
      },
      "source": [
        "my_list.remove('Hello')\n",
        "print(my_list)"
      ],
      "execution_count": null,
      "outputs": [
        {
          "output_type": "stream",
          "name": "stdout",
          "text": [
            "['Quant', 'Hello']\n"
          ]
        }
      ]
    },
    {
      "cell_type": "code",
      "metadata": {
        "colab": {
          "base_uri": "https://localhost:8080/"
        },
        "id": "0OFi4lkkMGPw",
        "outputId": "1545ef1d-bdb5-4382-8d73-f0c72fd37748"
      },
      "source": [
        "mi_lista=[\"Vaca\",\"Coyote\"]\n",
        "mi_lista.append('Gato')\n",
        "print(mi_lista)\n",
        "mi_lista.remove(\"Gato\")\n",
        "print(mi_lista)\n"
      ],
      "execution_count": 14,
      "outputs": [
        {
          "output_type": "stream",
          "name": "stdout",
          "text": [
            "['Vaca', 'Coyote', 'Gato']\n",
            "['Vaca', 'Coyote']\n"
          ]
        }
      ]
    },
    {
      "cell_type": "markdown",
      "metadata": {
        "id": "11W1gG-cVmOU"
      },
      "source": [
        "When there are repeated instances of \"Hello\", the first one is removed.\n",
        "\n",
        "## Tuple\n",
        "A tuple is a data structure type similar to a list. The difference is that a tuple is immutable, which means you can't change the elements in it once it's defined. We create a tuple by putting comma-separated values between parentheses."
      ]
    },
    {
      "cell_type": "code",
      "metadata": {
        "collapsed": true,
        "id": "vPmn6BAaOqii"
      },
      "source": [
        "my_tuple = ('Welcome','to','QuantConnect')"
      ],
      "execution_count": null,
      "outputs": []
    },
    {
      "cell_type": "code",
      "metadata": {
        "id": "eH5SuiIgMaxU"
      },
      "source": [
        "mi_tupla = (\"Gato\",\"bonito\",\"comiendo\")"
      ],
      "execution_count": 15,
      "outputs": []
    },
    {
      "cell_type": "markdown",
      "metadata": {
        "id": "zMIme4dDV0Wz"
      },
      "source": [
        "Just like a list, a tuple can be sliced by using index."
      ]
    },
    {
      "cell_type": "code",
      "metadata": {
        "colab": {
          "base_uri": "https://localhost:8080/"
        },
        "id": "8P-ddO0sOqii",
        "outputId": "59410ade-8f39-420d-e0cc-cae6c015e1cf"
      },
      "source": [
        "my_tuple = ('Welcome','to','QuantConnect')\n",
        "print(my_tuple[1:])"
      ],
      "execution_count": null,
      "outputs": [
        {
          "output_type": "stream",
          "name": "stdout",
          "text": [
            "('to', 'QuantConnect')\n"
          ]
        }
      ]
    },
    {
      "cell_type": "code",
      "metadata": {
        "colab": {
          "base_uri": "https://localhost:8080/"
        },
        "id": "uUcVlBN2MkEG",
        "outputId": "7e944f99-79a2-4e78-f8d4-c07df0058519"
      },
      "source": [
        "mi_tupla = (\"Gato\",\"bonito\",\"comiendo\")\n",
        "print(mi_tupla[1:])"
      ],
      "execution_count": 16,
      "outputs": [
        {
          "output_type": "stream",
          "name": "stdout",
          "text": [
            "('bonito', 'comiendo')\n"
          ]
        }
      ]
    },
    {
      "cell_type": "markdown",
      "metadata": {
        "id": "l2JqbusAV1Y2"
      },
      "source": [
        "## Set\n",
        "A set is an **unordered**  collection with **no duplicate** elements. The built-in function **set()** can be used to create sets."
      ]
    },
    {
      "cell_type": "code",
      "metadata": {
        "colab": {
          "base_uri": "https://localhost:8080/"
        },
        "id": "Plau8r-UOqij",
        "outputId": "38956220-c75c-4046-ebfa-810880ea19f4"
      },
      "source": [
        "stock_list = ['AAPL','GOOG','IBM','AAPL','IBM','FB','F','GOOG']\n",
        "stock_set = set(stock_list)\n",
        "print(stock_set)"
      ],
      "execution_count": null,
      "outputs": [
        {
          "output_type": "stream",
          "name": "stdout",
          "text": [
            "{'FB', 'IBM', 'AAPL', 'GOOG', 'F'}\n"
          ]
        }
      ]
    },
    {
      "cell_type": "code",
      "metadata": {
        "colab": {
          "base_uri": "https://localhost:8080/"
        },
        "id": "OlavOLJkNOwv",
        "outputId": "37487114-2aab-48f7-b83e-0ab1b8dd521d"
      },
      "source": [
        "stock_list = ['Abeja','Golondrina','Iguana','Abejorro','Iguana','Foca','Foca','Golondrina']\n",
        "stock_set = set(stock_list)\n",
        "print(stock_set)"
      ],
      "execution_count": 17,
      "outputs": [
        {
          "output_type": "stream",
          "name": "stdout",
          "text": [
            "{'Abeja', 'Foca', 'Abejorro', 'Golondrina', 'Iguana'}\n"
          ]
        }
      ]
    },
    {
      "cell_type": "markdown",
      "metadata": {
        "id": "Jyb4GGIoWIHk"
      },
      "source": [
        "Set is an easy way to remove duplicate elements from a list.\n",
        "\n",
        "##Dictionary\n",
        "A dictionary is one of the most important data structures in Python. Unlike sequences which are indexed by integers, dictionaries are indexed by keys which can be either strings or floats.\n",
        "\n",
        "A dictionary is an **unordered** collection of key : value pairs, with the requirement that the keys are unique. We create a dictionary by placing a comma-separated list of key : value pairs within the braces."
      ]
    },
    {
      "cell_type": "code",
      "metadata": {
        "collapsed": true,
        "id": "36mTe5BaOqij"
      },
      "source": [
        "my_dic = {'AAPL':'AAPLE', 'FB':'FaceBook', 'GOOG':'Alphabet'}"
      ],
      "execution_count": null,
      "outputs": []
    },
    {
      "cell_type": "code",
      "metadata": {
        "colab": {
          "base_uri": "https://localhost:8080/"
        },
        "id": "KUfdVf43Oqij",
        "outputId": "4295a710-1edd-4b8c-b1fd-2610cfbf9146"
      },
      "source": [
        "print(my_dic['GOOG'])"
      ],
      "execution_count": null,
      "outputs": [
        {
          "output_type": "stream",
          "name": "stdout",
          "text": [
            "Alphabet\n"
          ]
        }
      ]
    },
    {
      "cell_type": "code",
      "metadata": {
        "colab": {
          "base_uri": "https://localhost:8080/"
        },
        "id": "dxYQYmwoOp10",
        "outputId": "92c05a42-9ddc-4ca3-c78b-82ba040769db"
      },
      "source": [
        "mi_diccionario = {'Panadería':'Pan', 'D1':'Vino', 'RAE':'Alfabeto'}\n",
        "print(mi_diccionario['RAE'])"
      ],
      "execution_count": 18,
      "outputs": [
        {
          "output_type": "stream",
          "name": "stdout",
          "text": [
            "Alfabeto\n"
          ]
        }
      ]
    },
    {
      "cell_type": "markdown",
      "metadata": {
        "id": "gSicoNqDWP4c"
      },
      "source": [
        "After defining a dictionary, we can access any value by indicating its key in brackets."
      ]
    },
    {
      "cell_type": "code",
      "metadata": {
        "colab": {
          "base_uri": "https://localhost:8080/"
        },
        "id": "IrTZdq9FOqij",
        "outputId": "d5ccdda2-e268-4fe7-b79a-05487f00cf0e"
      },
      "source": [
        "my_dic['GOOG'] = 'Alphabet Company'\n",
        "print(my_dic['GOOG'])"
      ],
      "execution_count": null,
      "outputs": [
        {
          "output_type": "stream",
          "name": "stdout",
          "text": [
            "Alphabet Company\n"
          ]
        }
      ]
    },
    {
      "cell_type": "code",
      "metadata": {
        "colab": {
          "base_uri": "https://localhost:8080/"
        },
        "id": "oEZfZyXxPb0R",
        "outputId": "c1a9de54-75a0-4a2f-d388-172780b1b2b6"
      },
      "source": [
        "mi_diccionario['RAE'] = 'Manejan el alfabeto'\n",
        "print(mi_diccionario['RAE'])"
      ],
      "execution_count": 19,
      "outputs": [
        {
          "output_type": "stream",
          "name": "stdout",
          "text": [
            "Manejan el alfabeto\n"
          ]
        }
      ]
    },
    {
      "cell_type": "markdown",
      "metadata": {
        "id": "M9sDsTEMWQvc"
      },
      "source": [
        "We can also change the value associated with a specified key:"
      ]
    },
    {
      "cell_type": "code",
      "metadata": {
        "colab": {
          "base_uri": "https://localhost:8080/"
        },
        "id": "lupRHf1_Oqij",
        "outputId": "315ce30c-459c-4a59-fef1-8844e30253bb"
      },
      "source": [
        "print(my_dic.keys())"
      ],
      "execution_count": null,
      "outputs": [
        {
          "output_type": "stream",
          "name": "stdout",
          "text": [
            "dict_keys(['AAPL', 'FB', 'GOOG'])\n"
          ]
        }
      ]
    },
    {
      "cell_type": "code",
      "metadata": {
        "colab": {
          "base_uri": "https://localhost:8080/"
        },
        "id": "2EOc0bl_PkMO",
        "outputId": "3d45a228-17f4-435d-b18f-02d558f74ac4"
      },
      "source": [
        "print(mi_diccionario.keys())"
      ],
      "execution_count": 20,
      "outputs": [
        {
          "output_type": "stream",
          "name": "stdout",
          "text": [
            "dict_keys(['Panadería', 'D1', 'RAE'])\n"
          ]
        }
      ]
    },
    {
      "cell_type": "markdown",
      "metadata": {
        "id": "VPuDinlwWS9D"
      },
      "source": [
        "The built-in method of the dictionary object dict.keys() returns a list of all the keys used in the dictionary."
      ]
    },
    {
      "cell_type": "markdown",
      "metadata": {
        "id": "kSGzgNb2Womz"
      },
      "source": [
        "# Common String Operations\n",
        "A string is an immutable sequence of characters. It can be sliced by index just like a tuple:"
      ]
    },
    {
      "cell_type": "code",
      "metadata": {
        "colab": {
          "base_uri": "https://localhost:8080/"
        },
        "id": "xPojDnm9Oqik",
        "outputId": "6566c80c-e15d-4a63-e34a-6e3c9393d71e"
      },
      "source": [
        "my_str = 'Welcome to QuantConnect'\n",
        "print(my_str[8:])"
      ],
      "execution_count": null,
      "outputs": [
        {
          "output_type": "stream",
          "name": "stdout",
          "text": [
            "to QuantConnect\n"
          ]
        }
      ]
    },
    {
      "cell_type": "code",
      "metadata": {
        "colab": {
          "base_uri": "https://localhost:8080/"
        },
        "id": "4wlWM2kdPrZ8",
        "outputId": "d90f3f4b-743d-4647-cac3-6306f8a1fcb1"
      },
      "source": [
        "my_str = 'Buenas tardes'\n",
        "print(my_str[8:])"
      ],
      "execution_count": 21,
      "outputs": [
        {
          "output_type": "stream",
          "name": "stdout",
          "text": [
            "ardes\n"
          ]
        }
      ]
    },
    {
      "cell_type": "markdown",
      "metadata": {
        "id": "wuJYy7tvWtM7"
      },
      "source": [
        "There are many methods associated with strings. We can use string.count() to count the occurrences of a character in a string, use string.find() to return the index of a specific character, and use string.replace() to replace characters"
      ]
    },
    {
      "cell_type": "code",
      "metadata": {
        "colab": {
          "base_uri": "https://localhost:8080/"
        },
        "id": "u9deZq1SOqik",
        "outputId": "76dd7ace-0e6c-4768-f67d-4eaeac8d5bd8"
      },
      "source": [
        "print('Counting the number of e appears in this sentence'.count('e'))\n",
        "print('The first time e appears in this sentence'.find('e'))\n",
        "print('all the a in this sentence now becomes e'.replace('a','e'))"
      ],
      "execution_count": null,
      "outputs": [
        {
          "output_type": "stream",
          "name": "stdout",
          "text": [
            "7\n",
            "2\n",
            "ell the e in this sentence now becomes e\n"
          ]
        }
      ]
    },
    {
      "cell_type": "code",
      "metadata": {
        "colab": {
          "base_uri": "https://localhost:8080/"
        },
        "id": "Q0dHyo7KQSSP",
        "outputId": "1dbb2438-472c-490e-a28f-aa63191a8b11"
      },
      "source": [
        "print('Counting the number of i appears in this sentence'.count('i'))\n",
        "print('The first time i appears in this sentence'.find('i'))\n",
        "print('all the a in this sentence now becomes i'.replace('a','i'))"
      ],
      "execution_count": 23,
      "outputs": [
        {
          "output_type": "stream",
          "name": "stdout",
          "text": [
            "4\n",
            "5\n",
            "ill the i in this sentence now becomes i\n"
          ]
        }
      ]
    },
    {
      "cell_type": "markdown",
      "metadata": {
        "id": "sJPn3rkvWwHN"
      },
      "source": [
        "The most commonly used method for strings is string.split(). This method will split the string by the indicated character and return a list:"
      ]
    },
    {
      "cell_type": "code",
      "metadata": {
        "colab": {
          "base_uri": "https://localhost:8080/"
        },
        "id": "hbIaFLFHOqik",
        "outputId": "e135eb46-22eb-4a87-8042-eed2ad79c828"
      },
      "source": [
        "Time = '2016-04-01 09:43:00'\n",
        "splited_list = Time.split(' ')\n",
        "date = splited_list[0]\n",
        "time = splited_list[1]\n",
        "print(date, time)\n",
        "hour = time.split(':')[0]\n",
        "print(hour)"
      ],
      "execution_count": null,
      "outputs": [
        {
          "output_type": "stream",
          "name": "stdout",
          "text": [
            "2016-04-01 09:43:00\n",
            "09\n"
          ]
        }
      ]
    },
    {
      "cell_type": "code",
      "metadata": {
        "colab": {
          "base_uri": "https://localhost:8080/"
        },
        "id": "Vsm_WOeKQki7",
        "outputId": "0a36f502-ca08-4f0a-bb2e-d258e4ca63e7"
      },
      "source": [
        "Time = '2000-01-05 10:00:00'\n",
        "splited_list = Time.split(' ')\n",
        "date = splited_list[0]\n",
        "time = splited_list[1]\n",
        "print(date, time)\n",
        "hour = time.split(':')[0]\n",
        "print(hour)"
      ],
      "execution_count": 24,
      "outputs": [
        {
          "output_type": "stream",
          "name": "stdout",
          "text": [
            "2000-01-05 10:00:00\n",
            "10\n"
          ]
        }
      ]
    },
    {
      "cell_type": "markdown",
      "metadata": {
        "id": "9cJQGk96WyVc"
      },
      "source": [
        "We can replace parts of a string by our variable. This is called string formatting."
      ]
    },
    {
      "cell_type": "code",
      "metadata": {
        "colab": {
          "base_uri": "https://localhost:8080/"
        },
        "id": "-E_rIvv6Oqik",
        "outputId": "bec9b731-c4d5-4905-9154-ef979efd6dd0"
      },
      "source": [
        "my_time = 'Hour: {}, Minute:{}'.format('09','43')\n",
        "print(my_time)"
      ],
      "execution_count": null,
      "outputs": [
        {
          "output_type": "stream",
          "name": "stdout",
          "text": [
            "Hour: 09, Minute:43\n"
          ]
        }
      ]
    },
    {
      "cell_type": "code",
      "metadata": {
        "colab": {
          "base_uri": "https://localhost:8080/"
        },
        "id": "WsPw-hsFQzy9",
        "outputId": "7648cda7-6d66-46b0-e856-c8c3e73b0ab7"
      },
      "source": [
        "my_time = 'Hour: {}, Minute:{}'.format('07','17')\n",
        "print(my_time)"
      ],
      "execution_count": 25,
      "outputs": [
        {
          "output_type": "stream",
          "name": "stdout",
          "text": [
            "Hour: 07, Minute:17\n"
          ]
        }
      ]
    },
    {
      "cell_type": "markdown",
      "metadata": {
        "id": "1_NbVldpWzAs"
      },
      "source": [
        "Another way to format a string is to use the % symbol."
      ]
    },
    {
      "cell_type": "code",
      "metadata": {
        "colab": {
          "base_uri": "https://localhost:8080/"
        },
        "id": "4rZ4rkD2Oqik",
        "outputId": "cd5d93b8-56d7-4406-9c43-d84144bded85"
      },
      "source": [
        "print('the pi number is %f'%3.14)\n",
        "print('%s to %s'%('Welcome','Quantconnect'))"
      ],
      "execution_count": null,
      "outputs": [
        {
          "output_type": "stream",
          "name": "stdout",
          "text": [
            "the pi number is 3.140000\n",
            "Welcome to Quantconnect\n"
          ]
        }
      ]
    },
    {
      "cell_type": "code",
      "metadata": {
        "colab": {
          "base_uri": "https://localhost:8080/"
        },
        "id": "HUuGZVdBQ7-a",
        "outputId": "3661e656-836e-43e7-b2ed-5775d7aae57b"
      },
      "source": [
        "print('the e number is %f'%2.718)\n",
        "print('%s %s compañero'%('Buenas','tardes'))"
      ],
      "execution_count": 26,
      "outputs": [
        {
          "output_type": "stream",
          "name": "stdout",
          "text": [
            "the e number is 2.718000\n",
            "Buenas tardes compañero\n"
          ]
        }
      ]
    },
    {
      "cell_type": "markdown",
      "metadata": {
        "id": "v_5cocrDW3MN"
      },
      "source": [
        "# Summary\n",
        "\n",
        "Weave seen the basic data types and data structures in Python. It's important to keep practicing to become familiar with these data structures. In the next tutorial, we will cover for and while loops and logical operations in Python."
      ]
    },
    {
      "cell_type": "markdown",
      "metadata": {
        "id": "QL6dNxwCXNEt"
      },
      "source": [
        "<div align=\"center\">\n",
        "<img style=\"display: block; margin: auto;\" alt=\"photo\" src=\"https://cdn.quantconnect.com/web/i/icon.png\">\n",
        "\n",
        "Quantconnect\n",
        "\n",
        "Introduction to Financial Python\n",
        "</div>\n",
        "\n",
        "# 02 Logical Operations and Loops\n",
        "\n",
        "# Introduction\n",
        "We discussed the basic data types and data structures in Python in the last tutorial. This chapter covers logical operations and loops in Python, which are very common in programming.\n",
        "\n",
        "# Logical Operations\n",
        "Like most programming languages, Python has comparison operators:"
      ]
    },
    {
      "cell_type": "code",
      "metadata": {
        "colab": {
          "base_uri": "https://localhost:8080/"
        },
        "id": "70Guys_rOv7a",
        "outputId": "220ac34e-d9dd-4a30-9400-0fd74d9a0158"
      },
      "source": [
        "print(1 == 0)\n",
        "print(1 == 1)\n",
        "print(1 != 0)\n",
        "print(5 >= 5)\n",
        "print(5 >= 6)"
      ],
      "execution_count": null,
      "outputs": [
        {
          "output_type": "stream",
          "name": "stdout",
          "text": [
            "False\n",
            "True\n",
            "True\n",
            "True\n",
            "False\n"
          ]
        }
      ]
    },
    {
      "cell_type": "code",
      "metadata": {
        "colab": {
          "base_uri": "https://localhost:8080/"
        },
        "id": "1-8LCkQFROe0",
        "outputId": "bc57b638-39a7-45b5-8c59-6571d2594055"
      },
      "source": [
        "print(1 == 2)\n",
        "print(7 == 7)\n",
        "print(1 != 20)\n",
        "print(50 >= 50)\n",
        "print(60 >= 12)"
      ],
      "execution_count": 27,
      "outputs": [
        {
          "output_type": "stream",
          "name": "stdout",
          "text": [
            "False\n",
            "True\n",
            "True\n",
            "True\n",
            "True\n"
          ]
        }
      ]
    },
    {
      "cell_type": "markdown",
      "metadata": {
        "id": "8aFHYDj-YTXt"
      },
      "source": [
        "Each statement above has a boolean value, which must be either True or False, but not both.\n",
        "\n",
        "We can combine simple statements P and Q to form complex statements using logical operators:\n",
        "\n",
        "- The statement \"P and Q\" is true if both P and Q are true, otherwise it is false.\n",
        "- The statement \"P or Q\" is false if both P and Q are false, otherwise it is true.\n",
        "- The statement \"not P\" is true if P is false, and vice versa."
      ]
    },
    {
      "cell_type": "code",
      "metadata": {
        "colab": {
          "base_uri": "https://localhost:8080/"
        },
        "id": "O5YEEcUbOv7d",
        "outputId": "b0b66a4b-5e0b-493a-912d-ea3970a5026c"
      },
      "source": [
        "print(2 > 1 and 3 > 2)\n",
        "print(2 > 1 and 3 < 2) \n",
        "print(2 > 1 or 3 < 2)\n",
        "print(2 < 1 and 3 < 2)"
      ],
      "execution_count": null,
      "outputs": [
        {
          "output_type": "stream",
          "name": "stdout",
          "text": [
            "True\n",
            "False\n",
            "True\n",
            "False\n"
          ]
        }
      ]
    },
    {
      "cell_type": "code",
      "metadata": {
        "colab": {
          "base_uri": "https://localhost:8080/"
        },
        "id": "N_2e90xmRo2h",
        "outputId": "7e0d1329-1ebc-41f7-f05d-a6d6ccef0222"
      },
      "source": [
        "print(3 > 1 and 6 > 7)\n",
        "print(2000 > 100 and 33 < 120) \n",
        "print(200 > 155 or 3 < 2)\n",
        "print(20 < 10 and 30 < 20)"
      ],
      "execution_count": 28,
      "outputs": [
        {
          "output_type": "stream",
          "name": "stdout",
          "text": [
            "False\n",
            "True\n",
            "True\n",
            "False\n"
          ]
        }
      ]
    },
    {
      "cell_type": "markdown",
      "metadata": {
        "id": "Dy7yzoSXYXmL"
      },
      "source": [
        "When dealing with a very complex logical statement that involves in several statements, we can use brackets to separate and combine them."
      ]
    },
    {
      "cell_type": "code",
      "metadata": {
        "colab": {
          "base_uri": "https://localhost:8080/"
        },
        "id": "QZ-W2xJZOv7d",
        "outputId": "25b7e3d0-7d41-4af4-ade3-bb35f2d469b9"
      },
      "source": [
        "print((3 > 2 or 1 < 3) and (1!=3 and 4>3) and not ( 3 < 2 or 1 < 3 and (1!=3 and 4>3)))\n",
        "print(3 > 2 or 1 < 3 and (1!=3 and 4>3) and not ( 3 < 2 or 1 < 3 and (1!=3 and 4>3)))"
      ],
      "execution_count": null,
      "outputs": [
        {
          "output_type": "stream",
          "name": "stdout",
          "text": [
            "False\n",
            "True\n"
          ]
        }
      ]
    },
    {
      "cell_type": "code",
      "metadata": {
        "colab": {
          "base_uri": "https://localhost:8080/"
        },
        "id": "fwyctha7R-qt",
        "outputId": "0ee6139b-0ef2-43ff-90cd-3adc9864a324"
      },
      "source": [
        "print((6 > 4 or 2 < 6) and (3!=9 and 12>9) and not ( 12 < 8 or 4 < 12 and (5!=15 and 20>15)))\n",
        "print(6 > 4 or 2 < 6 and (3!=9 and 12>4) and not ( 12 < 8 or 4 < 12 and (5!=15 and 24>18)))"
      ],
      "execution_count": 29,
      "outputs": [
        {
          "output_type": "stream",
          "name": "stdout",
          "text": [
            "False\n",
            "True\n"
          ]
        }
      ]
    },
    {
      "cell_type": "markdown",
      "metadata": {
        "id": "s95xoRYMYaPD"
      },
      "source": [
        "Comparing the above two statements, we can see that it's wise to use brackets when we make a complex logical statement.\n",
        "\n",
        "# If Statement\n",
        "An if statement executes a segment of code only if its condition is true. A standard if statement consists of 3 segments: if, elif and else."
      ]
    },
    {
      "cell_type": "markdown",
      "metadata": {
        "id": "aRzMMitAaBOL"
      },
      "source": [
        "```python\n",
        "if statement1:\n",
        "    # if the statement1 is true, execute the code here.\n",
        "    # code.....\n",
        "    # code.....\n",
        "elif statement2:\n",
        "    # if the statement 1 is false, skip the codes above to this part.\n",
        "    # code......\n",
        "    # code......\n",
        "else:\n",
        "    # if none of the above statements is True, skip to this part\n",
        "    # code......\n",
        "```"
      ]
    },
    {
      "cell_type": "markdown",
      "metadata": {
        "id": "l59R2AS8aH2K"
      },
      "source": [
        "An if statement doesn't necessarily has elif and else part. If it's not specified, the indented block of code will be executed when the condition is true, otherwise the whole if statement will be skipped."
      ]
    },
    {
      "cell_type": "code",
      "metadata": {
        "colab": {
          "base_uri": "https://localhost:8080/"
        },
        "id": "FZ5GoTXfOv7e",
        "outputId": "3e491f24-5e60-4ae8-8708-6af02357a24f"
      },
      "source": [
        "i = 0\n",
        "if i == 0:\n",
        "    print('i==0 is True')"
      ],
      "execution_count": null,
      "outputs": [
        {
          "output_type": "stream",
          "name": "stdout",
          "text": [
            "i==0 is True\n"
          ]
        }
      ]
    },
    {
      "cell_type": "code",
      "metadata": {
        "colab": {
          "base_uri": "https://localhost:8080/"
        },
        "id": "pE_oWAflSckd",
        "outputId": "4f7fa33e-a838-4fea-dd45-604ff628aa30"
      },
      "source": [
        "j = 6\n",
        "if j == 6:\n",
        "    print('j==6 is True')"
      ],
      "execution_count": 30,
      "outputs": [
        {
          "output_type": "stream",
          "name": "stdout",
          "text": [
            "j==6 is True\n"
          ]
        }
      ]
    },
    {
      "cell_type": "markdown",
      "metadata": {
        "id": "nPNW-l5eaJn8"
      },
      "source": [
        "As we mentioned above, we can write some complex statements here:"
      ]
    },
    {
      "cell_type": "code",
      "metadata": {
        "colab": {
          "base_uri": "https://localhost:8080/"
        },
        "id": "gh-U6nMzOv7e",
        "outputId": "278c09cc-10be-4372-f22e-29c1a5ee5f8b"
      },
      "source": [
        "p = 1 > 0\n",
        "q = 2 > 3\n",
        "if p and q:\n",
        "    print('p and q is true')\n",
        "elif p and not q:\n",
        "    print('q is false')\n",
        "elif q and not p:\n",
        "    print('p is false')\n",
        "else:\n",
        "    print('None of p and q is true')"
      ],
      "execution_count": null,
      "outputs": [
        {
          "output_type": "stream",
          "name": "stdout",
          "text": [
            "q is false\n"
          ]
        }
      ]
    },
    {
      "cell_type": "code",
      "metadata": {
        "colab": {
          "base_uri": "https://localhost:8080/"
        },
        "id": "Yekw0aXMS1Il",
        "outputId": "d152fafb-40a9-4a09-ef97-7219eeebc314"
      },
      "source": [
        "p = 3 > 5\n",
        "q = 20 > 3\n",
        "if p and q:\n",
        "    print('p and q is true')\n",
        "elif p and not q:\n",
        "    print('q is false')\n",
        "elif q and not p:\n",
        "    print('p is false')\n",
        "else:\n",
        "    print('None of p and q is true')"
      ],
      "execution_count": 31,
      "outputs": [
        {
          "output_type": "stream",
          "name": "stdout",
          "text": [
            "p is false\n"
          ]
        }
      ]
    },
    {
      "cell_type": "markdown",
      "metadata": {
        "id": "tgRDwiAsaMOL"
      },
      "source": [
        "# Loop Structure\n",
        "Loops are an essential part of programming. The \"for\" and \"while\" loops run a block of code repeatedly.\n",
        "\n",
        "## While Loop\n",
        "A \"while\" loop will run repeatedly until a certain condition has been met."
      ]
    },
    {
      "cell_type": "code",
      "metadata": {
        "colab": {
          "base_uri": "https://localhost:8080/"
        },
        "id": "uQLau8d5Ov7f",
        "outputId": "6041776b-95b4-4154-f706-562faa403c2c"
      },
      "source": [
        "i = 0\n",
        "while i < 5:\n",
        "    print(i)\n",
        "    i += 1 "
      ],
      "execution_count": 32,
      "outputs": [
        {
          "output_type": "stream",
          "name": "stdout",
          "text": [
            "0\n",
            "1\n",
            "2\n",
            "3\n",
            "4\n"
          ]
        }
      ]
    },
    {
      "cell_type": "code",
      "metadata": {
        "colab": {
          "base_uri": "https://localhost:8080/"
        },
        "id": "5yJRFxqETBBS",
        "outputId": "8b338895-428b-4914-8de4-718abb363056"
      },
      "source": [
        "i = 0\n",
        "while i < 7:\n",
        "    print(i,end=\" \")\n",
        "    i += 1 "
      ],
      "execution_count": 33,
      "outputs": [
        {
          "output_type": "stream",
          "name": "stdout",
          "text": [
            "0 1 2 3 4 5 6 "
          ]
        }
      ]
    },
    {
      "cell_type": "markdown",
      "metadata": {
        "id": "ydLddFAPaTOE"
      },
      "source": [
        "When making a while loop, we need to ensure that something changes from iteration to iteration so that the while loop will terminate, otherwise, it will run forever. Here we used i += 1 (short for i = i + 1) to make i larger after each iteration. This is the most commonly used method to control a while loop.\n",
        "\n",
        "## For Loop\n",
        "A \"for\" loop will iterate over a sequence of value and terminate when the sequence has ended."
      ]
    },
    {
      "cell_type": "code",
      "metadata": {
        "colab": {
          "base_uri": "https://localhost:8080/"
        },
        "id": "kt8Ie8u1Ov7f",
        "outputId": "3e598608-0d6f-4e1c-b3fc-34d06ff14eb8"
      },
      "source": [
        "for i in [1,2,3,4,5]:\n",
        "    print(i)"
      ],
      "execution_count": null,
      "outputs": [
        {
          "output_type": "stream",
          "name": "stdout",
          "text": [
            "1\n",
            "2\n",
            "3\n",
            "4\n",
            "5\n"
          ]
        }
      ]
    },
    {
      "cell_type": "code",
      "metadata": {
        "colab": {
          "base_uri": "https://localhost:8080/"
        },
        "id": "PuJrKoTsTN11",
        "outputId": "8906717f-76a2-4651-c895-349dd6dc2c62"
      },
      "source": [
        "for i in [5,4,3,2,1]:\n",
        "    print(i, end=\" \")"
      ],
      "execution_count": 35,
      "outputs": [
        {
          "output_type": "stream",
          "name": "stdout",
          "text": [
            "5 4 3 2 1 "
          ]
        }
      ]
    },
    {
      "cell_type": "markdown",
      "metadata": {
        "id": "yWStqpreaX-T"
      },
      "source": [
        "We can also add if statements in a for loop. Here is a real example from our pairs trading algorithm:"
      ]
    },
    {
      "cell_type": "code",
      "metadata": {
        "colab": {
          "base_uri": "https://localhost:8080/"
        },
        "id": "kElmffvFOv7f",
        "outputId": "6161e9da-cf62-44a5-fa80-ad45276473f7"
      },
      "source": [
        "stocks = ['AAPL','GOOG','IBM','FB','F','V', 'G', 'GE']\n",
        "selected = ['AAPL','IBM']\n",
        "new_list = []\n",
        "for i in stocks:\n",
        "    if i not in selected:\n",
        "        new_list.append(i)\n",
        "print(stocks)"
      ],
      "execution_count": null,
      "outputs": [
        {
          "output_type": "stream",
          "name": "stdout",
          "text": [
            "['AAPL', 'GOOG', 'IBM', 'FB', 'F', 'V', 'G', 'GE']\n"
          ]
        }
      ]
    },
    {
      "cell_type": "code",
      "metadata": {
        "colab": {
          "base_uri": "https://localhost:8080/"
        },
        "id": "h4VZoINnTcYz",
        "outputId": "dd49fe49-0287-46f8-e517-f7fdc04a9d49"
      },
      "source": [
        "stocks = ['Manzana','Gugol','Iguana','Foca','Foquita','Vaca', 'GG']\n",
        "selected = ['Gugol']\n",
        "new_list = []\n",
        "for i in stocks:\n",
        "    if i not in selected:\n",
        "        new_list.append(i)\n",
        "print(new_list)"
      ],
      "execution_count": 37,
      "outputs": [
        {
          "output_type": "stream",
          "name": "stdout",
          "text": [
            "['Manzana', 'Iguana', 'Foca', 'Foquita', 'Vaca', 'GG']\n"
          ]
        }
      ]
    },
    {
      "cell_type": "markdown",
      "metadata": {
        "id": "wb2hry9dahE0"
      },
      "source": [
        "Here we iterated all the elements in the list 'stocks'. Later in this chapter, we will introduce a smarter way to do this, which is just a one-line code.\n",
        "\n",
        "## Break and continue\n",
        "These are two commonly used commands in a for loop. If \"break\" is triggered while a loop is executing, the loop will terminate immediately:"
      ]
    },
    {
      "cell_type": "code",
      "metadata": {
        "colab": {
          "base_uri": "https://localhost:8080/"
        },
        "id": "yF5wMVItOv7g",
        "outputId": "2eb40fb9-fe33-4936-b6dd-84614f6dcba9"
      },
      "source": [
        "stocks = ['AAPL','GOOG','IBM','FB','F','V', 'G', 'GE']\n",
        "for i in stocks:\n",
        "    print(i)\n",
        "    if i == 'FB':\n",
        "        break"
      ],
      "execution_count": null,
      "outputs": [
        {
          "output_type": "stream",
          "name": "stdout",
          "text": [
            "AAPL\n",
            "GOOG\n",
            "IBM\n",
            "FB\n"
          ]
        }
      ]
    },
    {
      "cell_type": "code",
      "metadata": {
        "colab": {
          "base_uri": "https://localhost:8080/"
        },
        "id": "hjLTCjssUO59",
        "outputId": "b34a57d8-7046-4af4-9907-e3262e8908f7"
      },
      "source": [
        "stocks = ['Manzana','Gugol','Iguana','Foca','Foquita','Vaca', 'GG']\n",
        "for i in stocks:\n",
        "    print(i)\n",
        "    if i == 'Foca':\n",
        "        break"
      ],
      "execution_count": 38,
      "outputs": [
        {
          "output_type": "stream",
          "name": "stdout",
          "text": [
            "Manzana\n",
            "Gugol\n",
            "Iguana\n",
            "Foca\n"
          ]
        }
      ]
    },
    {
      "cell_type": "markdown",
      "metadata": {
        "id": "R0toxyp3ao0T"
      },
      "source": [
        "The \"continue\" command tells the loop to end this iteration and skip to the next iteration:"
      ]
    },
    {
      "cell_type": "code",
      "metadata": {
        "colab": {
          "base_uri": "https://localhost:8080/"
        },
        "id": "Stg-CH6IOv7g",
        "outputId": "7bff9c13-2d53-4ccc-e070-f4de7234d8cf"
      },
      "source": [
        "stocks = ['AAPL','GOOG','IBM','FB','F','V', 'G', 'GE']\n",
        "for i in stocks:\n",
        "    if i == 'FB':\n",
        "        continue\n",
        "    print(i)"
      ],
      "execution_count": null,
      "outputs": [
        {
          "output_type": "stream",
          "name": "stdout",
          "text": [
            "AAPL\n",
            "GOOG\n",
            "IBM\n",
            "F\n",
            "V\n",
            "G\n",
            "GE\n"
          ]
        }
      ]
    },
    {
      "cell_type": "code",
      "metadata": {
        "colab": {
          "base_uri": "https://localhost:8080/"
        },
        "id": "TlWmf0TtV9hG",
        "outputId": "c29ecba4-1243-4607-eb5c-a8a5a2c035ac"
      },
      "source": [
        "stocks = ['Manzana','Gugol','Iguana','Foca','Foquita','Vaca', 'GG']\n",
        "for i in stocks:\n",
        "    if i == 'Foca':\n",
        "        continue\n",
        "    print(i)"
      ],
      "execution_count": 39,
      "outputs": [
        {
          "output_type": "stream",
          "name": "stdout",
          "text": [
            "Manzana\n",
            "Gugol\n",
            "Iguana\n",
            "Foquita\n",
            "Vaca\n",
            "GG\n"
          ]
        }
      ]
    },
    {
      "cell_type": "markdown",
      "metadata": {
        "id": "4NusvdhBaxpZ"
      },
      "source": [
        "# List Comprehension\n",
        "List comprehension is a Pythonic way to create lists. Common applications are to make new lists where each element is the result of some operations applied to each member of another sequence. For example, if we want to create a list of squares using for loop:"
      ]
    },
    {
      "cell_type": "code",
      "metadata": {
        "colab": {
          "base_uri": "https://localhost:8080/"
        },
        "id": "bdxxeOABOv7h",
        "outputId": "4c976f98-d139-4d13-afbf-4b2f45a6698e"
      },
      "source": [
        "squares = []\n",
        "for i in [1,2,3,4,5]:\n",
        "    squares.append(i**2)\n",
        "print(squares)"
      ],
      "execution_count": null,
      "outputs": [
        {
          "output_type": "stream",
          "name": "stdout",
          "text": [
            "[1, 4, 9, 16, 25]\n"
          ]
        }
      ]
    },
    {
      "cell_type": "code",
      "metadata": {
        "colab": {
          "base_uri": "https://localhost:8080/"
        },
        "id": "D5TTIsdNWZqF",
        "outputId": "773e94b2-6b6a-4585-c6b1-ae091b73e774"
      },
      "source": [
        "cuadrados = []\n",
        "for i in [6,7,8,9,10]:\n",
        "    cuadrados.append(i**2)\n",
        "print(cuadrados)"
      ],
      "execution_count": 40,
      "outputs": [
        {
          "output_type": "stream",
          "name": "stdout",
          "text": [
            "[36, 49, 64, 81, 100]\n"
          ]
        }
      ]
    },
    {
      "cell_type": "markdown",
      "metadata": {
        "id": "--KliJBOa1CC"
      },
      "source": [
        "Using list comprehension:"
      ]
    },
    {
      "cell_type": "code",
      "metadata": {
        "colab": {
          "base_uri": "https://localhost:8080/"
        },
        "id": "440-yjG8Ov7h",
        "outputId": "69947293-8145-425e-da94-197658f07e4b"
      },
      "source": [
        "list = [1,2,3,4,5]\n",
        "squares = [x**2 for x in list]\n",
        "print(squares)"
      ],
      "execution_count": null,
      "outputs": [
        {
          "output_type": "stream",
          "name": "stdout",
          "text": [
            "[1, 4, 9, 16, 25]\n"
          ]
        }
      ]
    },
    {
      "cell_type": "code",
      "metadata": {
        "colab": {
          "base_uri": "https://localhost:8080/"
        },
        "id": "gsGDR7WNWpqc",
        "outputId": "28ca98c9-85d2-405b-befc-b109cd595505"
      },
      "source": [
        "lista = [6,7,8,9,10]\n",
        "cuadrados = [x**2 for x in lista]\n",
        "print(cuadrados)"
      ],
      "execution_count": 41,
      "outputs": [
        {
          "output_type": "stream",
          "name": "stdout",
          "text": [
            "[36, 49, 64, 81, 100]\n"
          ]
        }
      ]
    },
    {
      "cell_type": "markdown",
      "metadata": {
        "id": "uMuCfR3ya3zT"
      },
      "source": [
        "Recall the example above where we used a for loop to select stocks. Here we use list comprehension:"
      ]
    },
    {
      "cell_type": "code",
      "metadata": {
        "colab": {
          "base_uri": "https://localhost:8080/"
        },
        "id": "ZGtCtog2Ov7h",
        "outputId": "97ebb092-5c56-4e1b-ab4c-6486642252bb"
      },
      "source": [
        "stocks = ['AAPL','GOOG','IBM','FB','F','V', 'G', 'GE']\n",
        "selected = ['AAPL','IBM']\n",
        "new_list = [x for x in stocks if x in selected]\n",
        "print(new_list)"
      ],
      "execution_count": null,
      "outputs": [
        {
          "output_type": "stream",
          "name": "stdout",
          "text": [
            "['AAPL', 'IBM']\n"
          ]
        }
      ]
    },
    {
      "cell_type": "code",
      "metadata": {
        "colab": {
          "base_uri": "https://localhost:8080/"
        },
        "id": "eLoVKpm-XK0P",
        "outputId": "b6bdc02d-4f79-4946-bc1c-00c0e4d9e0e8"
      },
      "source": [
        "stocks = ['Manzana','Gugol','Iguana','Foca','Foquita','Vaca', 'GG']\n",
        "selected = ['Gugol']\n",
        "new_list = [x for x in stocks if x in selected]\n",
        "print(new_list)"
      ],
      "execution_count": 42,
      "outputs": [
        {
          "output_type": "stream",
          "name": "stdout",
          "text": [
            "['Gugol']\n"
          ]
        }
      ]
    },
    {
      "cell_type": "markdown",
      "metadata": {
        "id": "EPeUv6Lia5oD"
      },
      "source": [
        "A list comprehension consists of square brackets containing an expression followed by a \"for\" clause, and possibly \"for\" or \"if\" clauses. For example:"
      ]
    },
    {
      "cell_type": "code",
      "metadata": {
        "colab": {
          "base_uri": "https://localhost:8080/"
        },
        "id": "O1AMB5d7Ov7i",
        "outputId": "3585c3be-f0d4-4340-fcb1-dcd256dc8504"
      },
      "source": [
        "print([(x, y) for x in [1,2,3] for y in [3,1,4] if x != y])\n",
        "print([str(x)+' vs '+str(y) for x in ['AAPL','GOOG','IBM','FB'] for y in ['F','V','G','GE'] if x!=y])"
      ],
      "execution_count": null,
      "outputs": [
        {
          "output_type": "stream",
          "name": "stdout",
          "text": [
            "[(1, 3), (1, 4), (2, 3), (2, 1), (2, 4), (3, 1), (3, 4)]\n",
            "['AAPL vs F', 'AAPL vs V', 'AAPL vs G', 'AAPL vs GE', 'GOOG vs F', 'GOOG vs V', 'GOOG vs G', 'GOOG vs GE', 'IBM vs F', 'IBM vs V', 'IBM vs G', 'IBM vs GE', 'FB vs F', 'FB vs V', 'FB vs G', 'FB vs GE']\n"
          ]
        }
      ]
    },
    {
      "cell_type": "code",
      "metadata": {
        "colab": {
          "base_uri": "https://localhost:8080/"
        },
        "id": "gsBKQBGwXVVt",
        "outputId": "84db57b2-ed4e-493b-ee84-15098f409826"
      },
      "source": [
        "print([(x, y) for x in [5,6,7] for y in [6,1,5] if x != y])\n",
        "print([str(x)+' vs '+str(y) for x in ['Gato','Gugol','Ryzen','Feisbú'] for y in ['Foca','Vaca','Golondrina','Perro'] if x!=y])"
      ],
      "execution_count": 43,
      "outputs": [
        {
          "output_type": "stream",
          "name": "stdout",
          "text": [
            "[(5, 6), (5, 1), (6, 1), (6, 5), (7, 6), (7, 1), (7, 5)]\n",
            "['Gato vs Foca', 'Gato vs Vaca', 'Gato vs Golondrina', 'Gato vs Perro', 'Gugol vs Foca', 'Gugol vs Vaca', 'Gugol vs Golondrina', 'Gugol vs Perro', 'Ryzen vs Foca', 'Ryzen vs Vaca', 'Ryzen vs Golondrina', 'Ryzen vs Perro', 'Feisbú vs Foca', 'Feisbú vs Vaca', 'Feisbú vs Golondrina', 'Feisbú vs Perro']\n"
          ]
        }
      ]
    },
    {
      "cell_type": "markdown",
      "metadata": {
        "id": "jJpvq-o4a8P7"
      },
      "source": [
        "List comprehension is an elegant way to organize one or more for loops when creating a list.\n",
        "\n",
        "# Summary\n",
        "This chapter has introduced logical operations, loops, and list comprehension. In the next chapter, we will introduce functions and object-oriented programming, which will enable us to make our codes clean and versatile."
      ]
    },
    {
      "cell_type": "markdown",
      "metadata": {
        "id": "Tef_X2wJbdhn"
      },
      "source": [
        "<div align=\"center\">\n",
        "<img style=\"display: block; margin: auto;\" alt=\"photo\" src=\"https://cdn.quantconnect.com/web/i/icon.png\">\n",
        "\n",
        "Quantconnect\n",
        "\n",
        "Introduction to Financial Python\n",
        "</div>\n",
        "\n",
        "# 03 Functions and Objective-Oriented Programming\n",
        "\n",
        "# Introduction\n",
        "\n",
        "In the last tutorial we introduced logical operations, loops and list comprehension. We will introduce functions and object-oriented programming in this chapter, which will enable us to build complex algorithms in more flexible ways.\n",
        "\n",
        "# Functions\n",
        "A function is a reusable block of code. We can use a function to output a value, or do anything else we want. We can easily define our own function by using the keyword \"def\"."
      ]
    },
    {
      "cell_type": "code",
      "metadata": {
        "colab": {
          "base_uri": "https://localhost:8080/"
        },
        "id": "eE_NkTiSO2PO",
        "outputId": "d2492acb-e355-4f23-88eb-9a8a410aec5e"
      },
      "source": [
        "def product(x,y):\n",
        "    return x*y\n",
        "print(product(2,3))\n",
        "print(product(5,10))"
      ],
      "execution_count": null,
      "outputs": [
        {
          "output_type": "stream",
          "name": "stdout",
          "text": [
            "6\n",
            "50\n"
          ]
        }
      ]
    },
    {
      "cell_type": "code",
      "metadata": {
        "colab": {
          "base_uri": "https://localhost:8080/"
        },
        "id": "NZDxj8PtX0He",
        "outputId": "babebd0a-92fa-4a66-a891-c398120b7a9a"
      },
      "source": [
        "def producto(x,y):\n",
        "    return x*y\n",
        "print(producto(7,7))\n",
        "print(producto(-5,2))"
      ],
      "execution_count": 44,
      "outputs": [
        {
          "output_type": "stream",
          "name": "stdout",
          "text": [
            "49\n",
            "-10\n"
          ]
        }
      ]
    },
    {
      "cell_type": "markdown",
      "metadata": {
        "id": "4oRU_dVJbsdD"
      },
      "source": [
        "The keyword \"def\" is followed by the function name and the parenthesized list of formal parameters. The statements that form the body of the function start at the next line, and must be indented. The product() function above has \"x\" and \"y\" as its parameters. A function doesn't necessarily have parameters:"
      ]
    },
    {
      "cell_type": "code",
      "metadata": {
        "colab": {
          "base_uri": "https://localhost:8080/"
        },
        "id": "JhdWVLbUO2PQ",
        "outputId": "0c544747-1d2c-444f-cc68-81d53a29aa66"
      },
      "source": [
        "def say_hi():\n",
        "    print('Welcome to QuantConnect')\n",
        "say_hi()"
      ],
      "execution_count": null,
      "outputs": [
        {
          "output_type": "stream",
          "name": "stdout",
          "text": [
            "Welcome to QuantConnect\n"
          ]
        }
      ]
    },
    {
      "cell_type": "code",
      "metadata": {
        "colab": {
          "base_uri": "https://localhost:8080/"
        },
        "id": "zBoGO63iX8S0",
        "outputId": "08237f75-b048-4ad7-9c6a-721b3a96d6d8"
      },
      "source": [
        "def saludar():\n",
        "    print(\"Hola bb\")\n",
        "\n",
        "saludar()"
      ],
      "execution_count": 45,
      "outputs": [
        {
          "output_type": "stream",
          "name": "stdout",
          "text": [
            "Hola bb\n"
          ]
        }
      ]
    },
    {
      "cell_type": "markdown",
      "metadata": {
        "id": "lHwqVpWVb1Jr"
      },
      "source": [
        "# Built-in Function\n",
        "**range()** is a function that creates a list containing an arithmetic sequence. It's often used in for loops. The arguments must be integers. If the \"step\" argument is omitted, it defaults to 1."
      ]
    },
    {
      "cell_type": "code",
      "metadata": {
        "colab": {
          "base_uri": "https://localhost:8080/"
        },
        "id": "VVOTELcIO2PQ",
        "outputId": "c652246b-241b-447a-e789-1ace62afa81b"
      },
      "source": [
        "print(range(10))\n",
        "print(range(1,11))\n",
        "print(range(1,11,2))"
      ],
      "execution_count": 46,
      "outputs": [
        {
          "output_type": "stream",
          "name": "stdout",
          "text": [
            "range(0, 10)\n",
            "range(1, 11)\n",
            "range(1, 11, 2)\n"
          ]
        }
      ]
    },
    {
      "cell_type": "code",
      "metadata": {
        "colab": {
          "base_uri": "https://localhost:8080/"
        },
        "id": "uxr6qy2qYXX-",
        "outputId": "2839b060-2447-40ef-8639-b09101ca52fa"
      },
      "source": [
        "print(range(100))\n",
        "print(range(1,13))\n",
        "print(range(1,100,3))"
      ],
      "execution_count": 48,
      "outputs": [
        {
          "output_type": "stream",
          "name": "stdout",
          "text": [
            "range(0, 100)\n",
            "range(1, 13)\n",
            "range(1, 100, 3)\n"
          ]
        }
      ]
    },
    {
      "cell_type": "markdown",
      "metadata": {
        "id": "PD0cSgiwcQ4L"
      },
      "source": [
        "**len()** is another function used together with range() to create a for loop. This function returns the length of an object. The argument must be a sequence or a collection."
      ]
    },
    {
      "cell_type": "code",
      "metadata": {
        "colab": {
          "base_uri": "https://localhost:8080/"
        },
        "id": "Hg18c7v-O2PR",
        "outputId": "c96a69f4-c7d1-41bb-e266-c8cacb3913b3"
      },
      "source": [
        "tickers = ['AAPL','GOOG','IBM','FB','F','V', 'G', 'GE']\n",
        "print('The length of tickers is {}'.format(len(tickers)))\n",
        "for i in range(len(tickers)):\n",
        "    print(tickers[i])"
      ],
      "execution_count": null,
      "outputs": [
        {
          "output_type": "stream",
          "name": "stdout",
          "text": [
            "The length of tickers is 8\n",
            "AAPL\n",
            "GOOG\n",
            "IBM\n",
            "FB\n",
            "F\n",
            "V\n",
            "G\n",
            "GE\n"
          ]
        }
      ]
    },
    {
      "cell_type": "code",
      "metadata": {
        "colab": {
          "base_uri": "https://localhost:8080/"
        },
        "id": "NfKT2qnYYnVj",
        "outputId": "d0c8cf24-7d8d-4c51-8a3a-de9dd20430d2"
      },
      "source": [
        "animals = ['Cacatua','Gato','Perro','Foca','Iguana','Aguila', 'Perro', 'Vaca']\n",
        "print('The length of animals is {}'.format(len(animals)))\n",
        "for i in range(len(animals)):\n",
        "    print(animals[i])"
      ],
      "execution_count": 49,
      "outputs": [
        {
          "output_type": "stream",
          "name": "stdout",
          "text": [
            "The length of animals is 8\n",
            "Cacatua\n",
            "Gato\n",
            "Perro\n",
            "Foca\n",
            "Iguana\n",
            "Aguila\n",
            "Perro\n",
            "Vaca\n"
          ]
        }
      ]
    },
    {
      "cell_type": "markdown",
      "metadata": {
        "id": "OIQSuub1cWgi"
      },
      "source": [
        "Note: If you want to print only the tickers without those numbers, then simply write \"for ticker in tickers: print ticker\"\n",
        "\n",
        "**map(**) is a function that applies a specific function to every item of a sequence or collection, and returns a list of the results."
      ]
    },
    {
      "cell_type": "markdown",
      "metadata": {
        "id": "pqPuspeG5HAi"
      },
      "source": [
        "Because list at the moment is [1,2,3,4,5] and overwriting list() from builtins we del list"
      ]
    },
    {
      "cell_type": "code",
      "metadata": {
        "colab": {
          "base_uri": "https://localhost:8080/"
        },
        "id": "caV9c-qk4_eZ",
        "outputId": "4859c1b2-0c19-4cc5-ef34-6b44eea6a94b"
      },
      "source": [
        "list =  [1,2,3,4,5]\n",
        "print(list)\n",
        "del list\n",
        "list"
      ],
      "execution_count": 51,
      "outputs": [
        {
          "output_type": "stream",
          "name": "stdout",
          "text": [
            "[1, 2, 3, 4, 5]\n"
          ]
        },
        {
          "output_type": "execute_result",
          "data": {
            "text/plain": [
              "list"
            ]
          },
          "metadata": {},
          "execution_count": 51
        }
      ]
    },
    {
      "cell_type": "code",
      "metadata": {
        "colab": {
          "base_uri": "https://localhost:8080/"
        },
        "id": "3DNQvsa9ZCcE",
        "outputId": "2521e243-9b51-47b9-f1b4-af75c8b22646"
      },
      "source": [
        "list = [\"vaca\",1,\"perro\"]\n",
        "print(list)\n",
        "del list\n",
        "list"
      ],
      "execution_count": 52,
      "outputs": [
        {
          "output_type": "stream",
          "name": "stdout",
          "text": [
            "['vaca', 1, 'perro']\n"
          ]
        },
        {
          "output_type": "execute_result",
          "data": {
            "text/plain": [
              "list"
            ]
          },
          "metadata": {},
          "execution_count": 52
        }
      ]
    },
    {
      "cell_type": "code",
      "metadata": {
        "colab": {
          "base_uri": "https://localhost:8080/"
        },
        "id": "78DyKVOyO2PR",
        "outputId": "218987fd-310f-46fd-efe4-6a9715939475"
      },
      "source": [
        "tickers = ['AAPL','GOOG','IBM','FB','F','V', 'G', 'GE']\n",
        "print(list(map(len,tickers)))"
      ],
      "execution_count": null,
      "outputs": [
        {
          "output_type": "stream",
          "name": "stdout",
          "text": [
            "[4, 4, 3, 2, 1, 1, 1, 2]\n"
          ]
        }
      ]
    },
    {
      "cell_type": "code",
      "metadata": {
        "colab": {
          "base_uri": "https://localhost:8080/"
        },
        "id": "lJBs5ECT4mSq",
        "outputId": "88b7afac-3fcd-4023-c19c-ea6a65721a63"
      },
      "source": [
        "animals = ['Cacatua','Gato','Perro','Foca','Iguana','Aguila', 'Perro', 'Vaca']\n",
        "list(map(len,animals))"
      ],
      "execution_count": 54,
      "outputs": [
        {
          "output_type": "execute_result",
          "data": {
            "text/plain": [
              "[7, 4, 5, 4, 6, 6, 5, 4]"
            ]
          },
          "metadata": {},
          "execution_count": 54
        }
      ]
    },
    {
      "cell_type": "markdown",
      "metadata": {
        "id": "mvr06UM7ca7b"
      },
      "source": [
        "The **lambda operator** is a way to create small anonymous functions. These functions are just needed where they have been created. For example:"
      ]
    },
    {
      "cell_type": "code",
      "metadata": {
        "colab": {
          "base_uri": "https://localhost:8080/"
        },
        "id": "pAEHADYXO2PR",
        "outputId": "945610e9-76a7-4671-f760-4013ac4aa143"
      },
      "source": [
        "list(map(lambda x: x**2, range(10)))"
      ],
      "execution_count": null,
      "outputs": [
        {
          "output_type": "execute_result",
          "data": {
            "text/plain": [
              "[0, 1, 4, 9, 16, 25, 36, 49, 64, 81]"
            ]
          },
          "metadata": {},
          "execution_count": 49
        }
      ]
    },
    {
      "cell_type": "code",
      "metadata": {
        "colab": {
          "base_uri": "https://localhost:8080/"
        },
        "id": "wcjihG-yZ84G",
        "outputId": "e0129c9c-8448-43fd-be61-e84dc1c21b2d"
      },
      "source": [
        "list(map(lambda x: x**3, range(10)))"
      ],
      "execution_count": 55,
      "outputs": [
        {
          "output_type": "execute_result",
          "data": {
            "text/plain": [
              "[0, 1, 8, 27, 64, 125, 216, 343, 512, 729]"
            ]
          },
          "metadata": {},
          "execution_count": 55
        }
      ]
    },
    {
      "cell_type": "markdown",
      "metadata": {
        "id": "Mgixpxomcj3T"
      },
      "source": [
        "map() can be applied to more than one list. The lists have to have the same length."
      ]
    },
    {
      "cell_type": "code",
      "metadata": {
        "colab": {
          "base_uri": "https://localhost:8080/"
        },
        "id": "HtckhAaJO2PS",
        "outputId": "8b24472e-2eef-4a71-c36c-b872f8e128db"
      },
      "source": [
        "list(map(lambda x, y: x+y, [1,2,3,4,5],[5,4,3,2,1]))"
      ],
      "execution_count": null,
      "outputs": [
        {
          "output_type": "execute_result",
          "data": {
            "text/plain": [
              "[6, 6, 6, 6, 6]"
            ]
          },
          "metadata": {},
          "execution_count": 50
        }
      ]
    },
    {
      "cell_type": "code",
      "metadata": {
        "colab": {
          "base_uri": "https://localhost:8080/"
        },
        "id": "v-5ywQCNaFp-",
        "outputId": "0859b330-3105-4cf4-957b-d88f872b6ffd"
      },
      "source": [
        "list(map(lambda x, y: x+y, [10,20,30,40,50],[50,40,30,20,10]))"
      ],
      "execution_count": 56,
      "outputs": [
        {
          "output_type": "execute_result",
          "data": {
            "text/plain": [
              "[60, 60, 60, 60, 60]"
            ]
          },
          "metadata": {},
          "execution_count": 56
        }
      ]
    },
    {
      "cell_type": "markdown",
      "metadata": {
        "id": "ZDnMTH-KcklT"
      },
      "source": [
        "**sorted()** takes a list or set and returns a new sorted list"
      ]
    },
    {
      "cell_type": "code",
      "metadata": {
        "colab": {
          "base_uri": "https://localhost:8080/"
        },
        "id": "P0sHUMFWO2PS",
        "outputId": "ff293907-8b01-47e8-b872-f362d3a63832"
      },
      "source": [
        "sorted([5,2,3,4,1])"
      ],
      "execution_count": null,
      "outputs": [
        {
          "output_type": "execute_result",
          "data": {
            "text/plain": [
              "[1, 2, 3, 4, 5]"
            ]
          },
          "metadata": {},
          "execution_count": 51
        }
      ]
    },
    {
      "cell_type": "code",
      "metadata": {
        "colab": {
          "base_uri": "https://localhost:8080/"
        },
        "id": "D7NtaeAtaNSw",
        "outputId": "8190dc19-3250-467a-d047-c1bbd34f5e91"
      },
      "source": [
        "sorted([15,7772,543,24,121])"
      ],
      "execution_count": 57,
      "outputs": [
        {
          "output_type": "execute_result",
          "data": {
            "text/plain": [
              "[15, 24, 121, 543, 7772]"
            ]
          },
          "metadata": {},
          "execution_count": 57
        }
      ]
    },
    {
      "cell_type": "markdown",
      "metadata": {
        "id": "-N5_EDOFcnsc"
      },
      "source": [
        "We can add a \"key\" parameter to specify a function to be called on each list element prior to making comparisons. For example:"
      ]
    },
    {
      "cell_type": "code",
      "metadata": {
        "colab": {
          "base_uri": "https://localhost:8080/"
        },
        "id": "0i3peZ0bO2PS",
        "outputId": "abb2ae1e-0b2d-4623-8d4f-c66d62985249"
      },
      "source": [
        "price_list = [('AAPL',144.09),('GOOG',911.71),('MSFT',69),('FB',150),('WMT',75.32)]\n",
        "sorted(price_list, key = lambda x: x[1])"
      ],
      "execution_count": null,
      "outputs": [
        {
          "output_type": "execute_result",
          "data": {
            "text/plain": [
              "[('MSFT', 69), ('WMT', 75.32), ('AAPL', 144.09), ('FB', 150), ('GOOG', 911.71)]"
            ]
          },
          "metadata": {},
          "execution_count": 52
        }
      ]
    },
    {
      "cell_type": "code",
      "metadata": {
        "colab": {
          "base_uri": "https://localhost:8080/"
        },
        "id": "fENnO_iPaYIS",
        "outputId": "5d801a25-b03f-4f8e-9834-7889316d2ce5"
      },
      "source": [
        "precios = [('Mazana',1000),('Pera',1500),('Sandía',7000),('Aguacate',3000),('Melón',4000)]\n",
        "sorted(precios, key = lambda x: x[1])"
      ],
      "execution_count": 58,
      "outputs": [
        {
          "output_type": "execute_result",
          "data": {
            "text/plain": [
              "[('Mazana', 1000),\n",
              " ('Pera', 1500),\n",
              " ('Aguacate', 3000),\n",
              " ('Melón', 4000),\n",
              " ('Sandía', 7000)]"
            ]
          },
          "metadata": {},
          "execution_count": 58
        }
      ]
    },
    {
      "cell_type": "markdown",
      "metadata": {
        "id": "yun2zptKcxe_"
      },
      "source": [
        "By default the values are sorted by ascending order. We can change it to descending by adding an optional parameter \"reverse'."
      ]
    },
    {
      "cell_type": "code",
      "metadata": {
        "colab": {
          "base_uri": "https://localhost:8080/"
        },
        "id": "dEZqdl94O2PT",
        "outputId": "7a707211-8b7e-49ea-cf7e-8d7c87e53778"
      },
      "source": [
        "price_list = [('AAPL',144.09),('GOOG',911.71),('MSFT',69),('FB',150),('WMT',75.32)]\n",
        "sorted(price_list, key = lambda x: x[1],reverse = True)"
      ],
      "execution_count": null,
      "outputs": [
        {
          "output_type": "execute_result",
          "data": {
            "text/plain": [
              "[('GOOG', 911.71), ('FB', 150), ('AAPL', 144.09), ('WMT', 75.32), ('MSFT', 69)]"
            ]
          },
          "metadata": {},
          "execution_count": 53
        }
      ]
    },
    {
      "cell_type": "code",
      "metadata": {
        "colab": {
          "base_uri": "https://localhost:8080/"
        },
        "id": "i7QOw8pba_Hx",
        "outputId": "2271359c-dbef-4bc6-ad40-096bdc4df029"
      },
      "source": [
        "precios = [('Mazana',1000),('Pera',1500),('Sandía',7000),('Aguacate',3000),('Melón',4000)]\n",
        "sorted(precios, key = lambda x: x[1],reverse = True)"
      ],
      "execution_count": 59,
      "outputs": [
        {
          "output_type": "execute_result",
          "data": {
            "text/plain": [
              "[('Sandía', 7000),\n",
              " ('Melón', 4000),\n",
              " ('Aguacate', 3000),\n",
              " ('Pera', 1500),\n",
              " ('Mazana', 1000)]"
            ]
          },
          "metadata": {},
          "execution_count": 59
        }
      ]
    },
    {
      "cell_type": "markdown",
      "metadata": {
        "id": "OA2wYAa0c6Dn"
      },
      "source": [
        "Lists also have a function list.sort(). This function takes the same \"key\" and \"reverse\" arguments as sorted(), but it doesn't return a new list."
      ]
    },
    {
      "cell_type": "code",
      "metadata": {
        "colab": {
          "base_uri": "https://localhost:8080/"
        },
        "id": "pG9VQCLnO2PT",
        "outputId": "bf1b0694-5364-4e2f-f032-21ed620aab77"
      },
      "source": [
        "price_list = [('AAPL',144.09),('GOOG',911.71),('MSFT',69),('FB',150),('WMT',75.32)]\n",
        "price_list.sort(key = lambda x: x[1])\n",
        "print(price_list)"
      ],
      "execution_count": null,
      "outputs": [
        {
          "output_type": "stream",
          "name": "stdout",
          "text": [
            "[('MSFT', 69), ('WMT', 75.32), ('AAPL', 144.09), ('FB', 150), ('GOOG', 911.71)]\n"
          ]
        }
      ]
    },
    {
      "cell_type": "code",
      "metadata": {
        "colab": {
          "base_uri": "https://localhost:8080/"
        },
        "id": "IzM3OwsLbJvG",
        "outputId": "e05e83e4-de78-4ff3-d6e5-7cd8f98a1d05"
      },
      "source": [
        "precios = [('Mazana',1000),('Pera',1500),('Sandía',7000),('Aguacate',3000),('Melón',4000)]\n",
        "precios.sort(key = lambda x: x[1])\n",
        "print(precios)"
      ],
      "execution_count": 60,
      "outputs": [
        {
          "output_type": "stream",
          "name": "stdout",
          "text": [
            "[('Mazana', 1000), ('Pera', 1500), ('Aguacate', 3000), ('Melón', 4000), ('Sandía', 7000)]\n"
          ]
        }
      ]
    },
    {
      "cell_type": "markdown",
      "metadata": {
        "id": "mxljL1W1c_c5"
      },
      "source": [
        "# Object-Oriented Programming\n",
        "Python is an object-oriented programming language. It's important to understand the concept of \"objects\" because almost every kind of data from QuantConnect API is an object.\n",
        "\n",
        "## Class\n",
        "A class is a type of data, just like a string, float, or list. When we create an object of that data type, we call it an instance of a class.\n",
        "\n",
        "In Python, everything is an object - everything is an instance of some class. The data stored inside an object are called attributes, and the functions which are associated with the object are called methods.\n",
        "\n",
        "For example, as mentioned above, a list is an object of the \"list\" class, and it has a method list.sort().\n",
        "\n",
        "We can create our own objects by defining a class. We would do this when it's helpful to group certain functions together. For example, we define a class named \"Stock\" here:"
      ]
    },
    {
      "cell_type": "code",
      "metadata": {
        "id": "zC4Y4PgDO2PT"
      },
      "source": [
        "class stock:\n",
        "    def __init__(self, ticker, open, close, volume):\n",
        "        self.ticker = ticker\n",
        "        self.open = open\n",
        "        self.close = close\n",
        "        self.volume = volume\n",
        "        self.rate_return = float(close)/open - 1\n",
        " \n",
        "    def update(self, open, close):\n",
        "        self.open = open\n",
        "        self.close = close\n",
        "        self.rate_return = float(self.close)/self.open - 1\n",
        " \n",
        "    def print_return(self):\n",
        "        print(self.rate_return)"
      ],
      "execution_count": 71,
      "outputs": []
    },
    {
      "cell_type": "code",
      "metadata": {
        "id": "zfjlKLiyzT3P"
      },
      "source": [
        "class gato:\n",
        "    def __init__(self, edad, raza, peso):\n",
        "        self.edad = edad\n",
        "        self.raza = raza\n",
        "        self.peso = peso\n",
        " \n",
        "    def update(self, edad, peso):\n",
        "        self.edad = edad\n",
        "        self.peso = peso\n",
        " \n",
        "    def miau(self):\n",
        "        print(\"Miauuuuuuuu\")"
      ],
      "execution_count": 65,
      "outputs": []
    },
    {
      "cell_type": "markdown",
      "metadata": {
        "id": "rV06INT5dETi"
      },
      "source": [
        "The \"Stock\" class has attributes \"ticker\", \"open\", \"close\", \"volume\" and \"rate_return\". Inside the class body, the first method is called __init__, which is a special method. When we create a new instance of the class, the __init__ method is immediately executed with all the parameters that we pass to the \"Stock\" object. The purpose of this method is to set up a new \"Stock\" object using data we have provided.\n",
        "\n",
        "Here we create two Stock objects named \"apple\" and \"google\"."
      ]
    },
    {
      "cell_type": "code",
      "metadata": {
        "id": "8tIpNk93O2PU"
      },
      "source": [
        "apple = stock('AAPL', 143.69, 144.09, 20109375)\n",
        "google = stock('GOOG', 898.7, 911.7, 1561616)"
      ],
      "execution_count": 72,
      "outputs": []
    },
    {
      "cell_type": "code",
      "metadata": {
        "id": "4oFlskM_0F6J"
      },
      "source": [
        "ru = gato(3, \"criollo\", 5)\n",
        "mini_bambi = gato(1, \"siames\", 2)"
      ],
      "execution_count": 66,
      "outputs": []
    },
    {
      "cell_type": "markdown",
      "metadata": {
        "id": "VxmELNiHdPKS"
      },
      "source": [
        "Stock objects also have two other methods: update() and print_return(). We can access the attribues of a Stock object and call its methods:"
      ]
    },
    {
      "cell_type": "code",
      "metadata": {
        "colab": {
          "base_uri": "https://localhost:8080/"
        },
        "id": "SsiIkmekO2PU",
        "outputId": "246e011e-8c4b-4b55-f497-d5a80190d2d9"
      },
      "source": [
        "apple.ticker\n",
        "google.print_return()\n",
        "google.update(912.8,913.4)\n",
        "google.print_return()"
      ],
      "execution_count": 73,
      "outputs": [
        {
          "output_type": "stream",
          "name": "stdout",
          "text": [
            "0.014465338822744034\n",
            "0.0006573181419806673\n"
          ]
        }
      ]
    },
    {
      "cell_type": "code",
      "metadata": {
        "colab": {
          "base_uri": "https://localhost:8080/"
        },
        "id": "8LmJW9zL0eH3",
        "outputId": "cb740740-122a-4266-f91f-bb619bbc6389"
      },
      "source": [
        "ru.update(4, 4)\n",
        "print(ru.edad)\n",
        "print(ru.peso)\n",
        "ru.miau()\n",
        "mini_bambi.update(2, 3)\n",
        "print(mini_bambi.edad)\n",
        "print(mini_bambi.peso)\n",
        "mini_bambi.miau()"
      ],
      "execution_count": 68,
      "outputs": [
        {
          "output_type": "stream",
          "name": "stdout",
          "text": [
            "4\n",
            "4\n",
            "Miauuuuuuuu\n",
            "2\n",
            "3\n",
            "Miauuuuuuuu\n"
          ]
        }
      ]
    },
    {
      "cell_type": "markdown",
      "metadata": {
        "id": "Q8fl7keNdVKF"
      },
      "source": [
        "By calling the update() function, we updated the open and close prices of a stock. Please note that when we use the attributes or call the methods **inside a class**, we need to specify them as self.attribute or self.method(), otherwise Python will deem them as global variables and thus raise an error.\n",
        "\n",
        "We can add an attribute to an object anywhere:"
      ]
    },
    {
      "cell_type": "code",
      "metadata": {
        "colab": {
          "base_uri": "https://localhost:8080/",
          "height": 35
        },
        "id": "rO4OLnqOO2PU",
        "outputId": "a77def19-1b77-4d7e-d374-e17b1eda961f"
      },
      "source": [
        "apple.ceo = 'Tim Cook'\n",
        "apple.ceo"
      ],
      "execution_count": 74,
      "outputs": [
        {
          "output_type": "execute_result",
          "data": {
            "application/vnd.google.colaboratory.intrinsic+json": {
              "type": "string"
            },
            "text/plain": [
              "'Tim Cook'"
            ]
          },
          "metadata": {},
          "execution_count": 74
        }
      ]
    },
    {
      "cell_type": "code",
      "metadata": {
        "colab": {
          "base_uri": "https://localhost:8080/",
          "height": 35
        },
        "id": "yyUIiGjz1SWH",
        "outputId": "7bd4b9e2-33a7-4a70-f48e-a6318132d6c0"
      },
      "source": [
        "ru.nombre = 'Ru'\n",
        "ru.nombre"
      ],
      "execution_count": 75,
      "outputs": [
        {
          "output_type": "execute_result",
          "data": {
            "application/vnd.google.colaboratory.intrinsic+json": {
              "type": "string"
            },
            "text/plain": [
              "'Ru'"
            ]
          },
          "metadata": {},
          "execution_count": 75
        }
      ]
    },
    {
      "cell_type": "markdown",
      "metadata": {
        "id": "WyfnFgVidh4J"
      },
      "source": [
        "We can check what names (i.e. attributes and methods) are defined on an object using the dir() function:"
      ]
    },
    {
      "cell_type": "code",
      "metadata": {
        "colab": {
          "base_uri": "https://localhost:8080/"
        },
        "id": "pPoz0LA8O2PU",
        "outputId": "4dcea2e2-771b-4d71-c743-5cb63c81f277"
      },
      "source": [
        "dir(apple)"
      ],
      "execution_count": null,
      "outputs": [
        {
          "output_type": "execute_result",
          "data": {
            "text/plain": [
              "['__class__',\n",
              " '__delattr__',\n",
              " '__dict__',\n",
              " '__dir__',\n",
              " '__doc__',\n",
              " '__eq__',\n",
              " '__format__',\n",
              " '__ge__',\n",
              " '__getattribute__',\n",
              " '__gt__',\n",
              " '__hash__',\n",
              " '__init__',\n",
              " '__init_subclass__',\n",
              " '__le__',\n",
              " '__lt__',\n",
              " '__module__',\n",
              " '__ne__',\n",
              " '__new__',\n",
              " '__reduce__',\n",
              " '__reduce_ex__',\n",
              " '__repr__',\n",
              " '__setattr__',\n",
              " '__sizeof__',\n",
              " '__str__',\n",
              " '__subclasshook__',\n",
              " '__weakref__',\n",
              " 'ceo',\n",
              " 'close',\n",
              " 'open',\n",
              " 'print_return',\n",
              " 'rate_return',\n",
              " 'ticker',\n",
              " 'update',\n",
              " 'volume']"
            ]
          },
          "metadata": {},
          "execution_count": 59
        }
      ]
    },
    {
      "cell_type": "code",
      "metadata": {
        "colab": {
          "base_uri": "https://localhost:8080/"
        },
        "id": "MgRf-w8E1X5I",
        "outputId": "33f1f657-d0e4-45e6-e47a-9c045f833241"
      },
      "source": [
        "dir(ru)"
      ],
      "execution_count": 76,
      "outputs": [
        {
          "output_type": "execute_result",
          "data": {
            "text/plain": [
              "['__class__',\n",
              " '__delattr__',\n",
              " '__dict__',\n",
              " '__dir__',\n",
              " '__doc__',\n",
              " '__eq__',\n",
              " '__format__',\n",
              " '__ge__',\n",
              " '__getattribute__',\n",
              " '__gt__',\n",
              " '__hash__',\n",
              " '__init__',\n",
              " '__init_subclass__',\n",
              " '__le__',\n",
              " '__lt__',\n",
              " '__module__',\n",
              " '__ne__',\n",
              " '__new__',\n",
              " '__reduce__',\n",
              " '__reduce_ex__',\n",
              " '__repr__',\n",
              " '__setattr__',\n",
              " '__sizeof__',\n",
              " '__str__',\n",
              " '__subclasshook__',\n",
              " '__weakref__',\n",
              " 'edad',\n",
              " 'miau',\n",
              " 'nombre',\n",
              " 'peso',\n",
              " 'raza',\n",
              " 'update']"
            ]
          },
          "metadata": {},
          "execution_count": 76
        }
      ]
    },
    {
      "cell_type": "markdown",
      "metadata": {
        "id": "Qpemj1UZd2aa"
      },
      "source": [
        "## Inheritance\n",
        "Inheritance is a way of arranging classes in a hierarchy from the most general to the most specific. A \"child\" class is a more specific type of a \"parent\" class because a child class will inherit all the attribues and methods of its parent. For example, we define a class named \"Child\" which inherits \"Stock\":"
      ]
    },
    {
      "cell_type": "code",
      "metadata": {
        "id": "UELXnxomO2PV"
      },
      "source": [
        "class child(stock):\n",
        "    def __init__(self,name):\n",
        "        self.name = name"
      ],
      "execution_count": 77,
      "outputs": []
    },
    {
      "cell_type": "code",
      "metadata": {
        "id": "6tenPP-l1ink"
      },
      "source": [
        "class miniGato(gato):\n",
        "  def __init__(self,edad, raza, peso, vacunado):\n",
        "    super().__init__(edad, raza, peso)\n",
        "    self.vacunado = vacunado"
      ],
      "execution_count": 81,
      "outputs": []
    },
    {
      "cell_type": "code",
      "metadata": {
        "colab": {
          "base_uri": "https://localhost:8080/"
        },
        "id": "ffS2THZyO2PV",
        "outputId": "0b5d99cf-477c-48a1-8f5c-4e523612a028"
      },
      "source": [
        "aa = child('aa')\n",
        "print(aa.name)\n",
        "aa.update(100,102)\n",
        "print(aa.open)\n",
        "print(aa.close)\n",
        "print(aa.print_return())"
      ],
      "execution_count": null,
      "outputs": [
        {
          "output_type": "stream",
          "name": "stdout",
          "text": [
            "aa\n",
            "100\n",
            "102\n",
            "0.020000000000000018\n",
            "None\n"
          ]
        }
      ]
    },
    {
      "cell_type": "code",
      "metadata": {
        "colab": {
          "base_uri": "https://localhost:8080/"
        },
        "id": "BxBzXwty4OMh",
        "outputId": "fcdfc5c4-c06a-4d96-aa73-b846b2b6f005"
      },
      "source": [
        "mini_mini_bambi = miniGato(0.5, \"siames\", 1,True)\n",
        "print(mini_mini_bambi.edad)\n",
        "print(mini_mini_bambi.raza)\n",
        "mini_mini_bambi.miau()"
      ],
      "execution_count": 83,
      "outputs": [
        {
          "output_type": "stream",
          "name": "stdout",
          "text": [
            "0.5\n",
            "siames\n",
            "Miauuuuuuuu\n"
          ]
        }
      ]
    },
    {
      "cell_type": "markdown",
      "metadata": {
        "id": "pdIEjUv2eJqL"
      },
      "source": [
        "As seen above, the new class Child has inherited the methods from Stock.\n",
        "\n",
        "#Summary\n",
        "\n",
        "In this chapter we have introduced functions and classes. When we write a QuantConnect algorithm, we would define our algorithm as a class (QCAlgorithm). This means our algorithm inherited the QC API methods from QCAlgorithm class.\n",
        "\n",
        "In the next chapter, we will introduce NumPy and Pandas, which enable us to conduct scientific calculations in Python."
      ]
    },
    {
      "cell_type": "markdown",
      "metadata": {
        "id": "dQbENH6mexTd"
      },
      "source": [
        "<div align=\"center\">\n",
        "<img style=\"display: block; margin: auto;\" alt=\"photo\" src=\"https://cdn.quantconnect.com/web/i/icon.png\">\n",
        "\n",
        "Quantconnect\n",
        "\n",
        "Introduction to Financial Python\n",
        "</div>\n",
        "\n",
        "# 04 NumPy and Basic Pandas\n",
        "\n",
        "# Introduction\n",
        "\n",
        "Now that we have introduced the fundamentals of Python, it's time to learn about NumPy and Pandas.\n",
        "\n",
        "# NumPy\n",
        "NumPy is the core library for scientific computing in Python. It provides a high-performance multidimensional array object, and tools for working with these arrays. It also has strong integration with Pandas, which is another powerful tool for manipulating financial data.\n",
        "\n",
        "Python packages like NumPy and Pandas contain classes and methods which we can use by importing the package:"
      ]
    },
    {
      "cell_type": "code",
      "metadata": {
        "id": "aIESp-rdO58h"
      },
      "source": [
        "import numpy as np"
      ],
      "execution_count": 84,
      "outputs": []
    },
    {
      "cell_type": "markdown",
      "metadata": {
        "id": "GScHHJ5ke7ea"
      },
      "source": [
        "## Basic NumPy Arrays\n",
        "A NumPy array is a grid of values, all of the same type, and is indexed by a tuple of nonnegative integers. Here we make an array by passing a list of Apple stock prices:"
      ]
    },
    {
      "cell_type": "code",
      "metadata": {
        "colab": {
          "base_uri": "https://localhost:8080/"
        },
        "id": "lZI1wkwDO58i",
        "outputId": "1608d5c3-6bbb-4b54-8fcc-5ef5f04c52e7"
      },
      "source": [
        "price_list = [143.73, 145.83, 143.68, 144.02, 143.5, 142.62]\n",
        "price_array = np.array(price_list)\n",
        "print(price_array, type(price_array))"
      ],
      "execution_count": 85,
      "outputs": [
        {
          "output_type": "stream",
          "name": "stdout",
          "text": [
            "[143.73 145.83 143.68 144.02 143.5  142.62] <class 'numpy.ndarray'>\n"
          ]
        }
      ]
    },
    {
      "cell_type": "code",
      "metadata": {
        "colab": {
          "base_uri": "https://localhost:8080/"
        },
        "id": "mKPCw8p19XYX",
        "outputId": "a02540a9-dae1-4dfa-f943-7634d2e7739c"
      },
      "source": [
        "precios = [150.2, 23.6, 567.8, 1333.5, 56.3, 896.1]\n",
        "price_array = np.array(precios)\n",
        "print(price_array, type(price_array))"
      ],
      "execution_count": 86,
      "outputs": [
        {
          "output_type": "stream",
          "name": "stdout",
          "text": [
            "[ 150.2   23.6  567.8 1333.5   56.3  896.1] <class 'numpy.ndarray'>\n"
          ]
        }
      ]
    },
    {
      "cell_type": "markdown",
      "metadata": {
        "id": "-5Yj6u9ifB-t"
      },
      "source": [
        "Notice that the type of array is \"ndarray\" which is a multi-dimensional array. If we pass np.array() a list of lists, it will create a 2-dimensional array."
      ]
    },
    {
      "cell_type": "code",
      "metadata": {
        "colab": {
          "base_uri": "https://localhost:8080/"
        },
        "id": "obvIZrK-O58j",
        "outputId": "7bf6293a-350d-4167-a431-2fabb6353a74"
      },
      "source": [
        "Ar = np.array([[1,3],[2,4]])\n",
        "print(Ar, type(Ar))"
      ],
      "execution_count": null,
      "outputs": [
        {
          "output_type": "stream",
          "name": "stdout",
          "text": [
            "[[1 3]\n",
            " [2 4]] <class 'numpy.ndarray'>\n"
          ]
        }
      ]
    },
    {
      "cell_type": "code",
      "metadata": {
        "colab": {
          "base_uri": "https://localhost:8080/"
        },
        "id": "ylOqIa3j-aOR",
        "outputId": "8ff73fc0-033d-414a-b490-d33fc599d3a2"
      },
      "source": [
        "arr = np.array([[2,4],[1,6]])\n",
        "print(arr, type(arr))"
      ],
      "execution_count": 87,
      "outputs": [
        {
          "output_type": "stream",
          "name": "stdout",
          "text": [
            "[[2 4]\n",
            " [1 6]] <class 'numpy.ndarray'>\n"
          ]
        }
      ]
    },
    {
      "cell_type": "markdown",
      "metadata": {
        "id": "uDdfLD9HfHkl"
      },
      "source": [
        "We get the dimensions of an ndarray using the .shape attribute:"
      ]
    },
    {
      "cell_type": "code",
      "metadata": {
        "colab": {
          "base_uri": "https://localhost:8080/"
        },
        "id": "G2txdn73O58j",
        "outputId": "b6539a1f-7794-47bc-fd6f-744683e69ab7"
      },
      "source": [
        "print(Ar.shape)"
      ],
      "execution_count": null,
      "outputs": [
        {
          "output_type": "stream",
          "name": "stdout",
          "text": [
            "(2, 2)\n"
          ]
        }
      ]
    },
    {
      "cell_type": "code",
      "metadata": {
        "colab": {
          "base_uri": "https://localhost:8080/"
        },
        "id": "fQRCMx7Y-xhR",
        "outputId": "dfcad155-cc04-43ac-9877-c20c68af27a5"
      },
      "source": [
        "print(arr.shape)"
      ],
      "execution_count": 88,
      "outputs": [
        {
          "output_type": "stream",
          "name": "stdout",
          "text": [
            "(2, 2)\n"
          ]
        }
      ]
    },
    {
      "cell_type": "markdown",
      "metadata": {
        "id": "87W5ueORfPEy"
      },
      "source": [
        "If we create an 2-dimensional array (i.e. matrix), each row can be accessed by index:"
      ]
    },
    {
      "cell_type": "code",
      "metadata": {
        "colab": {
          "base_uri": "https://localhost:8080/"
        },
        "id": "x_QV9aPbO58j",
        "outputId": "ceaeabd6-af8c-435b-f376-0f73fa6af72e"
      },
      "source": [
        "print(Ar[0])\n",
        "print(Ar[1])"
      ],
      "execution_count": null,
      "outputs": [
        {
          "output_type": "stream",
          "name": "stdout",
          "text": [
            "[1 3]\n",
            "[2 4]\n"
          ]
        }
      ]
    },
    {
      "cell_type": "code",
      "metadata": {
        "colab": {
          "base_uri": "https://localhost:8080/"
        },
        "id": "2BgzcQAm-2pe",
        "outputId": "dde20767-0a53-4311-9d0c-069457399dac"
      },
      "source": [
        "print(arr[0])\n",
        "print(arr[1])"
      ],
      "execution_count": 89,
      "outputs": [
        {
          "output_type": "stream",
          "name": "stdout",
          "text": [
            "[2 4]\n",
            "[1 6]\n"
          ]
        }
      ]
    },
    {
      "cell_type": "markdown",
      "metadata": {
        "id": "5Hke7Vt-fSGB"
      },
      "source": [
        "If we want to access the matrix by column instead:"
      ]
    },
    {
      "cell_type": "code",
      "metadata": {
        "colab": {
          "base_uri": "https://localhost:8080/"
        },
        "id": "gHVwbPfOO58j",
        "outputId": "fbc8f0ca-38bf-4f98-d85f-1e95b30bb6f3"
      },
      "source": [
        "print('the first column: ', Ar[:,0])\n",
        "print('the second column: ', Ar[:,1])"
      ],
      "execution_count": null,
      "outputs": [
        {
          "output_type": "stream",
          "name": "stdout",
          "text": [
            "the first column:  [1 2]\n",
            "the second column:  [3 4]\n"
          ]
        }
      ]
    },
    {
      "cell_type": "code",
      "metadata": {
        "colab": {
          "base_uri": "https://localhost:8080/"
        },
        "id": "sk3i2KK0-8d1",
        "outputId": "9226dd7b-47a9-4037-8dfe-2d3874059f17"
      },
      "source": [
        "print('the first column: ', arr[:,0])\n",
        "print('the second column: ', arr[:,1])"
      ],
      "execution_count": 90,
      "outputs": [
        {
          "output_type": "stream",
          "name": "stdout",
          "text": [
            "the first column:  [2 1]\n",
            "the second column:  [4 6]\n"
          ]
        }
      ]
    },
    {
      "cell_type": "markdown",
      "metadata": {
        "id": "T61cD0HMfStB"
      },
      "source": [
        "## Array Functions\n",
        "Some functions built in NumPy that allow us to perform calculations on arrays. For example, we can apply the natural logarithm to each element of an array:"
      ]
    },
    {
      "cell_type": "code",
      "metadata": {
        "colab": {
          "base_uri": "https://localhost:8080/"
        },
        "id": "PKhwtJ7XO58k",
        "outputId": "5734372b-2ffa-44e4-8146-5906268cd6c8"
      },
      "source": [
        "print(np.log(price_array))"
      ],
      "execution_count": null,
      "outputs": [
        {
          "output_type": "stream",
          "name": "stdout",
          "text": [
            "[4.96793654 4.98244156 4.9675886  4.96995218 4.96633504 4.96018375]\n"
          ]
        }
      ]
    },
    {
      "cell_type": "code",
      "metadata": {
        "colab": {
          "base_uri": "https://localhost:8080/"
        },
        "id": "PfUqaO1x_8t3",
        "outputId": "c153d225-56ac-4c13-8012-69eb60244d00"
      },
      "source": [
        "print(np.log(precios))"
      ],
      "execution_count": 91,
      "outputs": [
        {
          "output_type": "stream",
          "name": "stdout",
          "text": [
            "[5.01196774 3.16124671 6.34176924 7.19556234 4.03069454 6.79805201]\n"
          ]
        }
      ]
    },
    {
      "cell_type": "markdown",
      "metadata": {
        "id": "uzjBRFBLfZ-D"
      },
      "source": [
        "Other functions return a single value:"
      ]
    },
    {
      "cell_type": "code",
      "metadata": {
        "colab": {
          "base_uri": "https://localhost:8080/"
        },
        "id": "nQuABZqUO58k",
        "outputId": "42151fdc-de6a-4a12-aebc-6689f288d9fa"
      },
      "source": [
        "print(np.mean(price_array))\n",
        "print(np.std(price_array))\n",
        "print(np.sum(price_array))\n",
        "print(np.max(price_array))"
      ],
      "execution_count": null,
      "outputs": [
        {
          "output_type": "stream",
          "name": "stdout",
          "text": [
            "143.89666666666668\n",
            "0.9673790478515796\n",
            "863.38\n",
            "145.83\n"
          ]
        }
      ]
    },
    {
      "cell_type": "code",
      "metadata": {
        "colab": {
          "base_uri": "https://localhost:8080/"
        },
        "id": "X_eH0DbOABS-",
        "outputId": "2ed0fce3-e715-4ae9-b575-bff17e29ef61"
      },
      "source": [
        "print(np.mean(precios))\n",
        "print(np.std(precios))\n",
        "print(np.sum(precios))\n",
        "print(np.max(precios))"
      ],
      "execution_count": 92,
      "outputs": [
        {
          "output_type": "stream",
          "name": "stdout",
          "text": [
            "504.5833333333333\n",
            "483.43819810694407\n",
            "3027.5\n",
            "1333.5\n"
          ]
        }
      ]
    },
    {
      "cell_type": "markdown",
      "metadata": {
        "id": "IRW95BsifgDB"
      },
      "source": [
        "The functions above return the mean, standard deviation, total and maximum value of an array.\n",
        "\n",
        "# Pandas\n",
        "Pandas is one of the most powerful tools for dealing with financial data. \n",
        "\n",
        "First we need to import Pandas:"
      ]
    },
    {
      "cell_type": "code",
      "metadata": {
        "id": "xIYH4oUfO58k"
      },
      "source": [
        "import pandas as pd"
      ],
      "execution_count": 93,
      "outputs": []
    },
    {
      "cell_type": "markdown",
      "metadata": {
        "id": "zOig5gORfnJU"
      },
      "source": [
        "## Series\n",
        "Series is a one-dimensional labeled array capable of holding any data type (integers, strings, float, Python object, etc.)\n",
        "\n",
        "We create a Series by calling pd.Series(data), where data can be a dictionary, an array or just a scalar value."
      ]
    },
    {
      "cell_type": "code",
      "metadata": {
        "colab": {
          "base_uri": "https://localhost:8080/"
        },
        "id": "JmzoNzrPO58k",
        "outputId": "ce558c0d-a39f-4804-94ef-7da36962a0bf"
      },
      "source": [
        "price = [143.73, 145.83, 143.68, 144.02, 143.5, 142.62]\n",
        "s = pd.Series(price)\n",
        "s"
      ],
      "execution_count": 106,
      "outputs": [
        {
          "output_type": "execute_result",
          "data": {
            "text/plain": [
              "0    143.73\n",
              "1    145.83\n",
              "2    143.68\n",
              "3    144.02\n",
              "4    143.50\n",
              "5    142.62\n",
              "dtype: float64"
            ]
          },
          "metadata": {},
          "execution_count": 106
        }
      ]
    },
    {
      "cell_type": "code",
      "metadata": {
        "colab": {
          "base_uri": "https://localhost:8080/"
        },
        "id": "_UCipT6iDarE",
        "outputId": "2a199757-ba32-4221-bdb2-880ec58e8b4f"
      },
      "source": [
        "precios = [150.2, 23.6, 567.8, 1333.5, 56.3, 896.1]\n",
        "p = pd.Series(precios)\n",
        "p"
      ],
      "execution_count": 94,
      "outputs": [
        {
          "output_type": "execute_result",
          "data": {
            "text/plain": [
              "0     150.2\n",
              "1      23.6\n",
              "2     567.8\n",
              "3    1333.5\n",
              "4      56.3\n",
              "5     896.1\n",
              "dtype: float64"
            ]
          },
          "metadata": {},
          "execution_count": 94
        }
      ]
    },
    {
      "cell_type": "markdown",
      "metadata": {
        "id": "tP5iDnunfq46"
      },
      "source": [
        "We can customize the indices of a new Series:"
      ]
    },
    {
      "cell_type": "code",
      "metadata": {
        "colab": {
          "base_uri": "https://localhost:8080/"
        },
        "id": "eswQC3ZPO58l",
        "outputId": "06c07bc5-b474-4c30-b889-2df2f4f37b39"
      },
      "source": [
        "s = pd.Series(price,index = ['a','b','c','d','e','f'])\n",
        "s"
      ],
      "execution_count": 107,
      "outputs": [
        {
          "output_type": "execute_result",
          "data": {
            "text/plain": [
              "a    143.73\n",
              "b    145.83\n",
              "c    143.68\n",
              "d    144.02\n",
              "e    143.50\n",
              "f    142.62\n",
              "dtype: float64"
            ]
          },
          "metadata": {},
          "execution_count": 107
        }
      ]
    },
    {
      "cell_type": "code",
      "metadata": {
        "colab": {
          "base_uri": "https://localhost:8080/"
        },
        "id": "YZx7Bg2WDmKJ",
        "outputId": "9885ebe2-8b55-41b7-fbd5-7afb9c2e10c0"
      },
      "source": [
        "p = pd.Series(precios,index = ['a','b','c','d','e','f'])\n",
        "p"
      ],
      "execution_count": 95,
      "outputs": [
        {
          "output_type": "execute_result",
          "data": {
            "text/plain": [
              "a     150.2\n",
              "b      23.6\n",
              "c     567.8\n",
              "d    1333.5\n",
              "e      56.3\n",
              "f     896.1\n",
              "dtype: float64"
            ]
          },
          "metadata": {},
          "execution_count": 95
        }
      ]
    },
    {
      "cell_type": "markdown",
      "metadata": {
        "id": "wdZrb8pEfuua"
      },
      "source": [
        "Or we can change the indices of an existing Series:"
      ]
    },
    {
      "cell_type": "code",
      "metadata": {
        "colab": {
          "base_uri": "https://localhost:8080/"
        },
        "id": "MwlRnPF6O58l",
        "outputId": "a36407ff-6388-45c1-d9de-169740d59da0"
      },
      "source": [
        "s.index = [6,5,4,3,2,1]\n",
        "s"
      ],
      "execution_count": 108,
      "outputs": [
        {
          "output_type": "execute_result",
          "data": {
            "text/plain": [
              "6    143.73\n",
              "5    145.83\n",
              "4    143.68\n",
              "3    144.02\n",
              "2    143.50\n",
              "1    142.62\n",
              "dtype: float64"
            ]
          },
          "metadata": {},
          "execution_count": 108
        }
      ]
    },
    {
      "cell_type": "code",
      "metadata": {
        "colab": {
          "base_uri": "https://localhost:8080/"
        },
        "id": "up2K-qxtD_Z7",
        "outputId": "1069c752-f9a4-41a2-b907-e94c49cfe74b"
      },
      "source": [
        "p.index = [6,5,4,3,2,1]\n",
        "p"
      ],
      "execution_count": 96,
      "outputs": [
        {
          "output_type": "execute_result",
          "data": {
            "text/plain": [
              "6     150.2\n",
              "5      23.6\n",
              "4     567.8\n",
              "3    1333.5\n",
              "2      56.3\n",
              "1     896.1\n",
              "dtype: float64"
            ]
          },
          "metadata": {},
          "execution_count": 96
        }
      ]
    },
    {
      "cell_type": "markdown",
      "metadata": {
        "id": "6cGNQZwLfxIz"
      },
      "source": [
        "Series is like a list since it can be sliced by index:"
      ]
    },
    {
      "cell_type": "code",
      "metadata": {
        "colab": {
          "base_uri": "https://localhost:8080/"
        },
        "id": "N9bBSg6cO58l",
        "outputId": "4152e7e4-2647-427a-de04-33a1a5fdb051"
      },
      "source": [
        "print(s[1:])\n",
        "print(s[:-2])"
      ],
      "execution_count": 109,
      "outputs": [
        {
          "output_type": "stream",
          "name": "stdout",
          "text": [
            "5    145.83\n",
            "4    143.68\n",
            "3    144.02\n",
            "2    143.50\n",
            "1    142.62\n",
            "dtype: float64\n",
            "6    143.73\n",
            "5    145.83\n",
            "4    143.68\n",
            "3    144.02\n",
            "dtype: float64\n"
          ]
        }
      ]
    },
    {
      "cell_type": "code",
      "metadata": {
        "colab": {
          "base_uri": "https://localhost:8080/"
        },
        "id": "NLUGTV6AEFc8",
        "outputId": "41819050-a85a-415b-edd4-41a87d80e2cf"
      },
      "source": [
        "print(p[1:])\n",
        "print(p[:-2])"
      ],
      "execution_count": 97,
      "outputs": [
        {
          "output_type": "stream",
          "name": "stdout",
          "text": [
            "5      23.6\n",
            "4     567.8\n",
            "3    1333.5\n",
            "2      56.3\n",
            "1     896.1\n",
            "dtype: float64\n",
            "6     150.2\n",
            "5      23.6\n",
            "4     567.8\n",
            "3    1333.5\n",
            "dtype: float64\n"
          ]
        }
      ]
    },
    {
      "cell_type": "markdown",
      "metadata": {
        "id": "5V25nViZfz3Z"
      },
      "source": [
        "Series is also like a dictionary whose values can be set or fetched by index label:"
      ]
    },
    {
      "cell_type": "code",
      "metadata": {
        "colab": {
          "base_uri": "https://localhost:8080/"
        },
        "id": "b3Y0kKGYO58l",
        "outputId": "d0a52d38-2119-4289-b280-d89bb8e4ee20"
      },
      "source": [
        "print(s[4])\n",
        "s[4] = 0\n",
        "print(s)"
      ],
      "execution_count": 110,
      "outputs": [
        {
          "output_type": "stream",
          "name": "stdout",
          "text": [
            "143.68\n",
            "6    143.73\n",
            "5    145.83\n",
            "4      0.00\n",
            "3    144.02\n",
            "2    143.50\n",
            "1    142.62\n",
            "dtype: float64\n"
          ]
        }
      ]
    },
    {
      "cell_type": "code",
      "metadata": {
        "colab": {
          "base_uri": "https://localhost:8080/"
        },
        "id": "y-fPVS1zES8A",
        "outputId": "2b3e22d4-a543-4ba1-cec3-ec8830ac8eef"
      },
      "source": [
        "print(p[4])\n",
        "p[4] = 0\n",
        "print(p)"
      ],
      "execution_count": 98,
      "outputs": [
        {
          "output_type": "stream",
          "name": "stdout",
          "text": [
            "567.8\n",
            "6     150.2\n",
            "5      23.6\n",
            "4       0.0\n",
            "3    1333.5\n",
            "2      56.3\n",
            "1     896.1\n",
            "dtype: float64\n"
          ]
        }
      ]
    },
    {
      "cell_type": "markdown",
      "metadata": {
        "id": "RQ1P7Gkyf060"
      },
      "source": [
        "Series can also have a name attribute, which will be used when we make up a Pandas DataFrame using several series."
      ]
    },
    {
      "cell_type": "code",
      "metadata": {
        "colab": {
          "base_uri": "https://localhost:8080/"
        },
        "id": "ZeD4-p7KO58m",
        "outputId": "750bea2b-007a-4d43-fcb0-45d2c560aba7"
      },
      "source": [
        "s = pd.Series(price, name = 'Apple Price List')\n",
        "print(s)\n",
        "print(s.name)"
      ],
      "execution_count": 111,
      "outputs": [
        {
          "output_type": "stream",
          "name": "stdout",
          "text": [
            "0    143.73\n",
            "1    145.83\n",
            "2    143.68\n",
            "3    144.02\n",
            "4    143.50\n",
            "5    142.62\n",
            "Name: Apple Price List, dtype: float64\n",
            "Apple Price List\n"
          ]
        }
      ]
    },
    {
      "cell_type": "code",
      "metadata": {
        "colab": {
          "base_uri": "https://localhost:8080/"
        },
        "id": "ZSmI8m5sEb4w",
        "outputId": "2cdeffd8-4b7c-4e4e-ec9e-d9cac315d740"
      },
      "source": [
        "p = pd.Series(precios, name = 'Apple Price List')\n",
        "print(p)\n",
        "print(p.name)"
      ],
      "execution_count": 99,
      "outputs": [
        {
          "output_type": "stream",
          "name": "stdout",
          "text": [
            "0     150.2\n",
            "1      23.6\n",
            "2     567.8\n",
            "3    1333.5\n",
            "4      56.3\n",
            "5     896.1\n",
            "Name: Apple Price List, dtype: float64\n",
            "Apple Price List\n"
          ]
        }
      ]
    },
    {
      "cell_type": "markdown",
      "metadata": {
        "id": "geJb1pGHf5Et"
      },
      "source": [
        "We can get the statistical summaries of a Series:"
      ]
    },
    {
      "cell_type": "code",
      "metadata": {
        "colab": {
          "base_uri": "https://localhost:8080/"
        },
        "id": "mGPtFcjegm4i",
        "outputId": "581fc3da-a214-424f-880e-6db0f7e8ca7b"
      },
      "source": [
        "print(s.describe())"
      ],
      "execution_count": 112,
      "outputs": [
        {
          "output_type": "stream",
          "name": "stdout",
          "text": [
            "count      6.000000\n",
            "mean     143.896667\n",
            "std        1.059711\n",
            "min      142.620000\n",
            "25%      143.545000\n",
            "50%      143.705000\n",
            "75%      143.947500\n",
            "max      145.830000\n",
            "Name: Apple Price List, dtype: float64\n"
          ]
        }
      ]
    },
    {
      "cell_type": "code",
      "metadata": {
        "colab": {
          "base_uri": "https://localhost:8080/"
        },
        "id": "4jPqn8lIEjJd",
        "outputId": "cca6288d-714a-45c9-9375-66830dff35ce"
      },
      "source": [
        "print(p.describe())"
      ],
      "execution_count": 100,
      "outputs": [
        {
          "output_type": "stream",
          "name": "stdout",
          "text": [
            "count       6.000000\n",
            "mean      504.583333\n",
            "std       529.580013\n",
            "min        23.600000\n",
            "25%        79.775000\n",
            "50%       359.000000\n",
            "75%       814.025000\n",
            "max      1333.500000\n",
            "Name: Apple Price List, dtype: float64\n"
          ]
        }
      ]
    },
    {
      "cell_type": "markdown",
      "metadata": {
        "id": "LkdZu-CDgvlR"
      },
      "source": [
        "## Time Index\n",
        "Pandas has a built-in function specifically for creating date indices: pd.date_range(). We use it to create a new index for our Series:"
      ]
    },
    {
      "cell_type": "code",
      "metadata": {
        "colab": {
          "base_uri": "https://localhost:8080/"
        },
        "id": "HJe5hU4zO58m",
        "outputId": "9f719da4-51ab-40fd-a59b-6a115feb725f"
      },
      "source": [
        "time_index = pd.date_range('2017-01-01',periods = len(s),freq = 'D')\n",
        "print(time_index)\n",
        "s.index = time_index\n",
        "print(s)"
      ],
      "execution_count": 113,
      "outputs": [
        {
          "output_type": "stream",
          "name": "stdout",
          "text": [
            "DatetimeIndex(['2017-01-01', '2017-01-02', '2017-01-03', '2017-01-04',\n",
            "               '2017-01-05', '2017-01-06'],\n",
            "              dtype='datetime64[ns]', freq='D')\n",
            "2017-01-01    143.73\n",
            "2017-01-02    145.83\n",
            "2017-01-03    143.68\n",
            "2017-01-04    144.02\n",
            "2017-01-05    143.50\n",
            "2017-01-06    142.62\n",
            "Freq: D, Name: Apple Price List, dtype: float64\n"
          ]
        }
      ]
    },
    {
      "cell_type": "code",
      "metadata": {
        "colab": {
          "base_uri": "https://localhost:8080/"
        },
        "id": "dvfUDwlxEwrD",
        "outputId": "132df307-1402-4102-f8bf-4244036f5626"
      },
      "source": [
        "time_index1 = pd.date_range('2017-01-01',periods = len(p),freq = 'D')\n",
        "print(time_index1)\n",
        "p.index = time_index1\n",
        "print(p)"
      ],
      "execution_count": 103,
      "outputs": [
        {
          "output_type": "stream",
          "name": "stdout",
          "text": [
            "DatetimeIndex(['2017-01-01', '2017-01-02', '2017-01-03', '2017-01-04',\n",
            "               '2017-01-05', '2017-01-06'],\n",
            "              dtype='datetime64[ns]', freq='D')\n",
            "2017-01-01     150.2\n",
            "2017-01-02      23.6\n",
            "2017-01-03     567.8\n",
            "2017-01-04    1333.5\n",
            "2017-01-05      56.3\n",
            "2017-01-06     896.1\n",
            "Freq: D, Name: Apple Price List, dtype: float64\n"
          ]
        }
      ]
    },
    {
      "cell_type": "markdown",
      "metadata": {
        "id": "7WedejFZg19J"
      },
      "source": [
        "Series are usually accessed using the iloc[] and loc[] methods. iloc[] is used to access elements by integer index, and loc[] is used to access the index of the series.\n",
        "\n",
        "iloc[] is necessary when the index of a series are integers, take our previous defined series as example:"
      ]
    },
    {
      "cell_type": "code",
      "metadata": {
        "colab": {
          "base_uri": "https://localhost:8080/"
        },
        "id": "KrVSOyMvO58m",
        "outputId": "434290dd-320f-48f6-e17d-de0c247e0a9d"
      },
      "source": [
        "s.index = [6,5,4,3,2,1]\n",
        "print(s)\n",
        "print(s[1])"
      ],
      "execution_count": 114,
      "outputs": [
        {
          "output_type": "stream",
          "name": "stdout",
          "text": [
            "6    143.73\n",
            "5    145.83\n",
            "4    143.68\n",
            "3    144.02\n",
            "2    143.50\n",
            "1    142.62\n",
            "Name: Apple Price List, dtype: float64\n",
            "142.62\n"
          ]
        }
      ]
    },
    {
      "cell_type": "code",
      "metadata": {
        "colab": {
          "base_uri": "https://localhost:8080/"
        },
        "id": "tGi6YIr1GHnW",
        "outputId": "bc5777fd-f5de-44a5-ac9f-d64f4bd9c43c"
      },
      "source": [
        "p.index = [6,5,4,3,2,1]\n",
        "print(p)\n",
        "print(p[1])"
      ],
      "execution_count": 104,
      "outputs": [
        {
          "output_type": "stream",
          "name": "stdout",
          "text": [
            "6     150.2\n",
            "5      23.6\n",
            "4     567.8\n",
            "3    1333.5\n",
            "2      56.3\n",
            "1     896.1\n",
            "Name: Apple Price List, dtype: float64\n",
            "896.1\n"
          ]
        }
      ]
    },
    {
      "cell_type": "markdown",
      "metadata": {
        "id": "r30VKPtpg61p"
      },
      "source": [
        "If we intended to take the second element of the series, we would make a mistake here, because the index are integers. In order to access to the element we want, we use iloc[] here:"
      ]
    },
    {
      "cell_type": "code",
      "metadata": {
        "colab": {
          "base_uri": "https://localhost:8080/"
        },
        "id": "bHukfaAmO58m",
        "outputId": "761d17f1-5e30-4fdc-fe70-e7728e9e0d8a"
      },
      "source": [
        "print(s.iloc[1])"
      ],
      "execution_count": 115,
      "outputs": [
        {
          "output_type": "stream",
          "name": "stdout",
          "text": [
            "145.83\n"
          ]
        }
      ]
    },
    {
      "cell_type": "code",
      "metadata": {
        "colab": {
          "base_uri": "https://localhost:8080/"
        },
        "id": "plf078udGjXM",
        "outputId": "feb09464-02b5-43ef-ba44-344b4d789c4c"
      },
      "source": [
        "print(p.iloc[1])"
      ],
      "execution_count": 116,
      "outputs": [
        {
          "output_type": "stream",
          "name": "stdout",
          "text": [
            "23.6\n"
          ]
        }
      ]
    },
    {
      "cell_type": "markdown",
      "metadata": {
        "id": "kHVBRL_Rg84j"
      },
      "source": [
        "While working with time series data, we often use time as the index. Pandas provides us with various methods to access the data by time index"
      ]
    },
    {
      "cell_type": "code",
      "metadata": {
        "colab": {
          "base_uri": "https://localhost:8080/"
        },
        "id": "FCf8Hg7jO58n",
        "outputId": "d4a732a3-9525-4de7-91c3-e2dd3325ae3a"
      },
      "source": [
        "s.index = time_index\n",
        "print(s['2017-01-03'])"
      ],
      "execution_count": 117,
      "outputs": [
        {
          "output_type": "stream",
          "name": "stdout",
          "text": [
            "143.68\n"
          ]
        }
      ]
    },
    {
      "cell_type": "code",
      "metadata": {
        "colab": {
          "base_uri": "https://localhost:8080/"
        },
        "id": "nnXrDJMGGoz1",
        "outputId": "3734c1c3-7b91-4bc5-d6a1-1829324dd473"
      },
      "source": [
        "p.index = time_index\n",
        "print(p['2017-01-03'])"
      ],
      "execution_count": 118,
      "outputs": [
        {
          "output_type": "stream",
          "name": "stdout",
          "text": [
            "567.8\n"
          ]
        }
      ]
    },
    {
      "cell_type": "markdown",
      "metadata": {
        "id": "XJXcrSFpg-To"
      },
      "source": [
        "We can even access to a range of dates:"
      ]
    },
    {
      "cell_type": "code",
      "metadata": {
        "colab": {
          "base_uri": "https://localhost:8080/"
        },
        "id": "NsE-Lr_9O58n",
        "outputId": "b70bba46-f2a7-48bd-b37d-f9a79d558417"
      },
      "source": [
        "print(s['2017-01-02':'2017-01-05'])"
      ],
      "execution_count": 119,
      "outputs": [
        {
          "output_type": "stream",
          "name": "stdout",
          "text": [
            "2017-01-02    145.83\n",
            "2017-01-03    143.68\n",
            "2017-01-04    144.02\n",
            "2017-01-05    143.50\n",
            "Freq: D, Name: Apple Price List, dtype: float64\n"
          ]
        }
      ]
    },
    {
      "cell_type": "code",
      "metadata": {
        "colab": {
          "base_uri": "https://localhost:8080/"
        },
        "id": "VwsxW1xYGwyp",
        "outputId": "334496c2-d368-4547-db88-d65e4dd2d222"
      },
      "source": [
        "print(p['2017-01-02':'2017-01-05'])"
      ],
      "execution_count": 120,
      "outputs": [
        {
          "output_type": "stream",
          "name": "stdout",
          "text": [
            "2017-01-02      23.6\n",
            "2017-01-03     567.8\n",
            "2017-01-04    1333.5\n",
            "2017-01-05      56.3\n",
            "Freq: D, Name: Apple Price List, dtype: float64\n"
          ]
        }
      ]
    },
    {
      "cell_type": "markdown",
      "metadata": {
        "id": "cWA3NCXEhCLB"
      },
      "source": [
        "Series[] provides us a very flexible way to index data. We can add any condition in the square brackets:"
      ]
    },
    {
      "cell_type": "code",
      "metadata": {
        "colab": {
          "base_uri": "https://localhost:8080/"
        },
        "id": "aawbrg2EO58n",
        "outputId": "2df57a9d-6d50-4e9a-fbf9-b281692ec3d2"
      },
      "source": [
        "print(s[s < np.mean(s)] )\n",
        "print([(s > np.mean(s)) & (s < np.mean(s) + 1.64*np.std(s))])"
      ],
      "execution_count": null,
      "outputs": [
        {
          "output_type": "stream",
          "name": "stdout",
          "text": [
            "2017-01-01    143.73\n",
            "2017-01-03    143.68\n",
            "2017-01-05    143.50\n",
            "2017-01-06    142.62\n",
            "Name: Apple Price List, dtype: float64\n",
            "[2017-01-01    False\n",
            "2017-01-02    False\n",
            "2017-01-03    False\n",
            "2017-01-04     True\n",
            "2017-01-05    False\n",
            "2017-01-06    False\n",
            "Freq: D, Name: Apple Price List, dtype: bool]\n"
          ]
        }
      ]
    },
    {
      "cell_type": "code",
      "metadata": {
        "colab": {
          "base_uri": "https://localhost:8080/"
        },
        "id": "kAz9NP7bG4iK",
        "outputId": "2d95bce4-4db7-48a1-c3d4-73174e20aebd"
      },
      "source": [
        "print(p[p < np.mean(p)] )\n",
        "print([(p > np.mean(p)) & (p < np.mean(p) + 1.64*np.std(p))])"
      ],
      "execution_count": 121,
      "outputs": [
        {
          "output_type": "stream",
          "name": "stdout",
          "text": [
            "2017-01-01    150.2\n",
            "2017-01-02     23.6\n",
            "2017-01-05     56.3\n",
            "Name: Apple Price List, dtype: float64\n",
            "[2017-01-01    False\n",
            "2017-01-02    False\n",
            "2017-01-03     True\n",
            "2017-01-04    False\n",
            "2017-01-05    False\n",
            "2017-01-06     True\n",
            "Freq: D, Name: Apple Price List, dtype: bool]\n"
          ]
        }
      ]
    },
    {
      "cell_type": "markdown",
      "metadata": {
        "id": "jAByChIwhEuI"
      },
      "source": [
        "As demonstrated, we can use logical operators like & (and), | (or) and ~ (not) to group multiple conditions.\n",
        "\n",
        "# Summary\n",
        "Here we have introduced NumPy and Pandas for scientific computing in Python. In the next chapter, we will dive into Pandas to learn resampling and manipulating Pandas DataFrame, which are commonly used in financial data analysis."
      ]
    },
    {
      "cell_type": "markdown",
      "metadata": {
        "id": "OtjOpw6oJp6z"
      },
      "source": [
        "<div align=\"center\">\n",
        "<img style=\"display: block; margin: auto;\" alt=\"photo\" src=\"https://cdn.quantconnect.com/web/i/icon.png\"> <img style=\"display: block; margin: auto;\" alt=\"photo\" src=\"https://www.marketing-branding.com/wp-content/uploads/2020/07/google-colaboratory-colab-guia-completa.jpg \" width=\"50\" height=\"50\">\n",
        "<img style=\"display: block; margin: auto;\" alt=\"photo\" src=\"https://upload.wikimedia.org/wikipedia/commons/d/da/Yahoo_Finance_Logo_2019.svg\" width=\"50\" height=\"50\">  \n",
        "\n",
        "Quantconnect -> Google Colab with Yahoo Finance data\n",
        "\n",
        "Introduction to Financial Python\n",
        "</div>\n",
        "\n",
        "# 05 Pandas-Resampling and DataFrame\n",
        "\n",
        "# Introduction\n",
        "In the last chapter we had a glimpse of Pandas. In this chapter we will learn about resampling methods and the DataFrame object, which is a powerful tool for financial data analysis.\n",
        "\n",
        "# Fetching Data\n",
        "Here we use the Yahoo Finance to retrieve data.\n"
      ]
    },
    {
      "cell_type": "code",
      "metadata": {
        "colab": {
          "base_uri": "https://localhost:8080/"
        },
        "id": "luU8mZTsHW9x",
        "outputId": "86cf0ce6-30b8-41ef-a93c-4f4232b663d8"
      },
      "source": [
        "!pip install yfinance"
      ],
      "execution_count": 122,
      "outputs": [
        {
          "output_type": "stream",
          "name": "stdout",
          "text": [
            "Collecting yfinance\n",
            "  Downloading yfinance-0.1.63.tar.gz (26 kB)\n",
            "Requirement already satisfied: pandas>=0.24 in /usr/local/lib/python3.7/dist-packages (from yfinance) (1.1.5)\n",
            "Requirement already satisfied: numpy>=1.15 in /usr/local/lib/python3.7/dist-packages (from yfinance) (1.19.5)\n",
            "Requirement already satisfied: requests>=2.20 in /usr/local/lib/python3.7/dist-packages (from yfinance) (2.23.0)\n",
            "Requirement already satisfied: multitasking>=0.0.7 in /usr/local/lib/python3.7/dist-packages (from yfinance) (0.0.9)\n",
            "Collecting lxml>=4.5.1\n",
            "  Downloading lxml-4.6.3-cp37-cp37m-manylinux2014_x86_64.whl (6.3 MB)\n",
            "\u001b[K     |████████████████████████████████| 6.3 MB 44.5 MB/s \n",
            "\u001b[?25hRequirement already satisfied: pytz>=2017.2 in /usr/local/lib/python3.7/dist-packages (from pandas>=0.24->yfinance) (2018.9)\n",
            "Requirement already satisfied: python-dateutil>=2.7.3 in /usr/local/lib/python3.7/dist-packages (from pandas>=0.24->yfinance) (2.8.2)\n",
            "Requirement already satisfied: six>=1.5 in /usr/local/lib/python3.7/dist-packages (from python-dateutil>=2.7.3->pandas>=0.24->yfinance) (1.15.0)\n",
            "Requirement already satisfied: certifi>=2017.4.17 in /usr/local/lib/python3.7/dist-packages (from requests>=2.20->yfinance) (2021.5.30)\n",
            "Requirement already satisfied: urllib3!=1.25.0,!=1.25.1,<1.26,>=1.21.1 in /usr/local/lib/python3.7/dist-packages (from requests>=2.20->yfinance) (1.24.3)\n",
            "Requirement already satisfied: idna<3,>=2.5 in /usr/local/lib/python3.7/dist-packages (from requests>=2.20->yfinance) (2.10)\n",
            "Requirement already satisfied: chardet<4,>=3.0.2 in /usr/local/lib/python3.7/dist-packages (from requests>=2.20->yfinance) (3.0.4)\n",
            "Building wheels for collected packages: yfinance\n",
            "  Building wheel for yfinance (setup.py) ... \u001b[?25l\u001b[?25hdone\n",
            "  Created wheel for yfinance: filename=yfinance-0.1.63-py2.py3-none-any.whl size=23918 sha256=478c801cf8ea3ead32369b76f3ce197302d782916d67207cd246f71cd2ca9233\n",
            "  Stored in directory: /root/.cache/pip/wheels/fe/87/8b/7ec24486e001d3926537f5f7801f57a74d181be25b11157983\n",
            "Successfully built yfinance\n",
            "Installing collected packages: lxml, yfinance\n",
            "  Attempting uninstall: lxml\n",
            "    Found existing installation: lxml 4.2.6\n",
            "    Uninstalling lxml-4.2.6:\n",
            "      Successfully uninstalled lxml-4.2.6\n",
            "Successfully installed lxml-4.6.3 yfinance-0.1.63\n"
          ]
        }
      ]
    },
    {
      "cell_type": "code",
      "metadata": {
        "colab": {
          "base_uri": "https://localhost:8080/",
          "height": 484
        },
        "id": "mWZ-nirTZHrE",
        "outputId": "e4f654bc-4777-4f0c-a014-d416ba0e3a54"
      },
      "source": [
        "import yfinance as yf\n",
        "\n",
        "aapl = yf.Ticker(\"AAPL\")\n",
        "\n",
        "# get stock info\n",
        "print(aapl.info)\n",
        "\n",
        "# get historical market data\n",
        "aapl_table = aapl.history(start=\"2016-01-01\",  end=\"2017-12-31\")\n",
        "aapl_table"
      ],
      "execution_count": 125,
      "outputs": [
        {
          "output_type": "stream",
          "name": "stdout",
          "text": [
            "{'zip': '95014', 'sector': 'Technology', 'fullTimeEmployees': 147000, 'longBusinessSummary': 'Apple Inc. designs, manufactures, and markets smartphones, personal computers, tablets, wearables, and accessories worldwide. It also sells various related services. The company offers iPhone, a line of smartphones; Mac, a line of personal computers; iPad, a line of multi-purpose tablets; and wearables, home, and accessories comprising AirPods, Apple TV, Apple Watch, Beats products, HomePod, iPod touch, and other Apple-branded and third-party accessories. It also provides AppleCare support services; cloud services store services; and operates various platforms, including the App Store, that allow customers to discover and download applications and digital content, such as books, music, video, games, and podcasts. In addition, the company offers various services, such as Apple Arcade, a game subscription service; Apple Music, which offers users a curated listening experience with on-demand radio stations; Apple News+, a subscription news and magazine service; Apple TV+, which offers exclusive original content; Apple Card, a co-branded credit card; and Apple Pay, a cashless payment service, as well as licenses its intellectual property. The company serves consumers, and small and mid-sized businesses; and the education, enterprise, and government markets. It sells and delivers third-party applications for its products through the App Store. The company also sells its products through its retail and online stores, and direct sales force; and third-party cellular network carriers, wholesalers, retailers, and resellers. Apple Inc. was founded in 1977 and is headquartered in Cupertino, California.', 'city': 'Cupertino', 'phone': '408-996-1010', 'state': 'CA', 'country': 'United States', 'companyOfficers': [], 'website': 'http://www.apple.com', 'maxAge': 1, 'address1': 'One Apple Park Way', 'industry': 'Consumer Electronics', 'ebitdaMargins': 0.31955, 'profitMargins': 0.25004, 'grossMargins': 0.41005, 'operatingCashflow': 104414003200, 'revenueGrowth': 0.364, 'operatingMargins': 0.28788, 'ebitda': 110934999040, 'targetLowPrice': 132, 'recommendationKey': 'buy', 'grossProfits': 104956000000, 'freeCashflow': 80625876992, 'targetMedianPrice': 170, 'currentPrice': 148.715, 'earningsGrowth': 1, 'currentRatio': 1.062, 'returnOnAssets': 0.19302, 'numberOfAnalystOpinions': 41, 'targetMeanPrice': 168.23, 'debtToEquity': 210.782, 'returnOnEquity': 1.27125, 'targetHighPrice': 190, 'totalCash': 61696000000, 'totalDebt': 135491002368, 'totalRevenue': 347155005440, 'totalCashPerShare': 3.732, 'financialCurrency': 'USD', 'revenuePerShare': 20.61, 'quickRatio': 0.887, 'recommendationMean': 1.9, 'exchange': 'NMS', 'shortName': 'Apple Inc.', 'longName': 'Apple Inc.', 'exchangeTimezoneName': 'America/New_York', 'exchangeTimezoneShortName': 'EDT', 'isEsgPopulated': False, 'gmtOffSetMilliseconds': '-14400000', 'quoteType': 'EQUITY', 'symbol': 'AAPL', 'messageBoardId': 'finmb_24937', 'market': 'us_market', 'annualHoldingsTurnover': None, 'enterpriseToRevenue': 7.191, 'beta3Year': None, 'enterpriseToEbitda': 22.502, '52WeekChange': 0.24712789, 'morningStarRiskRating': None, 'forwardEps': 5.67, 'revenueQuarterlyGrowth': None, 'sharesOutstanding': 16530199552, 'fundInceptionDate': None, 'annualReportExpenseRatio': None, 'totalAssets': None, 'bookValue': 3.882, 'sharesShort': 101107412, 'sharesPercentSharesOut': 0.0061000003, 'fundFamily': None, 'lastFiscalYearEnd': 1601078400, 'heldPercentInstitutions': 0.58672, 'netIncomeToCommon': 86801997824, 'trailingEps': 5.108, 'lastDividendValue': 0.22, 'SandP52WeekChange': 0.30302167, 'priceToBook': 38.30886, 'heldPercentInsiders': 0.00072999997, 'nextFiscalYearEnd': 1664150400, 'yield': None, 'mostRecentQuarter': 1624665600, 'shortRatio': 1.18, 'sharesShortPreviousMonthDate': 1630368000, 'floatShares': 16512974627, 'beta': 1.222222, 'enterpriseValue': 2496290881536, 'priceHint': 2, 'threeYearAverageReturn': None, 'lastSplitDate': 1598832000, 'lastSplitFactor': '4:1', 'legalType': None, 'lastDividendDate': 1628208000, 'morningStarOverallRating': None, 'earningsQuarterlyGrowth': 0.932, 'priceToSalesTrailing12Months': 7.081242, 'dateShortInterest': 1632960000, 'pegRatio': 1.38, 'ytdReturn': None, 'forwardPE': 26.228394, 'lastCapGain': None, 'shortPercentOfFloat': 0.0061000003, 'sharesShortPriorMonth': 96838699, 'impliedSharesOutstanding': None, 'category': None, 'fiveYearAverageReturn': None, 'previousClose': 146.55, 'regularMarketOpen': 147.01, 'twoHundredDayAverage': 138.93898, 'trailingAnnualDividendYield': 0.0056977137, 'payoutRatio': 0.16309999, 'volume24Hr': None, 'regularMarketDayHigh': 149.17, 'navPrice': None, 'averageDailyVolume10Day': 73218650, 'regularMarketPreviousClose': 146.55, 'fiftyDayAverage': 146.59572, 'trailingAnnualDividendRate': 0.835, 'open': 147.01, 'toCurrency': None, 'averageVolume10days': 73218650, 'expireDate': None, 'algorithm': None, 'dividendRate': 0.88, 'exDividendDate': 1628208000, 'circulatingSupply': None, 'startDate': None, 'regularMarketDayLow': 146.55, 'currency': 'USD', 'trailingPE': 29.114136, 'regularMarketVolume': 68385078, 'lastMarket': None, 'maxSupply': None, 'openInterest': None, 'marketCap': 2458288652288, 'volumeAllCurrencies': None, 'strikePrice': None, 'averageVolume': 77536093, 'dayLow': 146.55, 'ask': 148.41, 'askSize': 1100, 'volume': 68385078, 'fiftyTwoWeekHigh': 157.26, 'fromCurrency': None, 'fiveYearAvgDividendYield': 1.24, 'fiftyTwoWeekLow': 107.32, 'bid': 148.4, 'tradeable': False, 'dividendYield': 0.006, 'bidSize': 1400, 'dayHigh': 149.17, 'regularMarketPrice': 148.715, 'logo_url': 'https://logo.clearbit.com/apple.com'}\n"
          ]
        },
        {
          "output_type": "execute_result",
          "data": {
            "text/html": [
              "<div>\n",
              "<style scoped>\n",
              "    .dataframe tbody tr th:only-of-type {\n",
              "        vertical-align: middle;\n",
              "    }\n",
              "\n",
              "    .dataframe tbody tr th {\n",
              "        vertical-align: top;\n",
              "    }\n",
              "\n",
              "    .dataframe thead th {\n",
              "        text-align: right;\n",
              "    }\n",
              "</style>\n",
              "<table border=\"1\" class=\"dataframe\">\n",
              "  <thead>\n",
              "    <tr style=\"text-align: right;\">\n",
              "      <th></th>\n",
              "      <th>Open</th>\n",
              "      <th>High</th>\n",
              "      <th>Low</th>\n",
              "      <th>Close</th>\n",
              "      <th>Volume</th>\n",
              "      <th>Dividends</th>\n",
              "      <th>Stock Splits</th>\n",
              "    </tr>\n",
              "    <tr>\n",
              "      <th>Date</th>\n",
              "      <th></th>\n",
              "      <th></th>\n",
              "      <th></th>\n",
              "      <th></th>\n",
              "      <th></th>\n",
              "      <th></th>\n",
              "      <th></th>\n",
              "    </tr>\n",
              "  </thead>\n",
              "  <tbody>\n",
              "    <tr>\n",
              "      <th>2016-01-04</th>\n",
              "      <td>23.655164</td>\n",
              "      <td>24.291441</td>\n",
              "      <td>23.514538</td>\n",
              "      <td>24.286829</td>\n",
              "      <td>270597600</td>\n",
              "      <td>0.0</td>\n",
              "      <td>0</td>\n",
              "    </tr>\n",
              "    <tr>\n",
              "      <th>2016-01-05</th>\n",
              "      <td>24.379041</td>\n",
              "      <td>24.402094</td>\n",
              "      <td>23.609056</td>\n",
              "      <td>23.678215</td>\n",
              "      <td>223164000</td>\n",
              "      <td>0.0</td>\n",
              "      <td>0</td>\n",
              "    </tr>\n",
              "    <tr>\n",
              "      <th>2016-01-06</th>\n",
              "      <td>23.182569</td>\n",
              "      <td>23.599838</td>\n",
              "      <td>23.023501</td>\n",
              "      <td>23.214844</td>\n",
              "      <td>273829600</td>\n",
              "      <td>0.0</td>\n",
              "      <td>0</td>\n",
              "    </tr>\n",
              "    <tr>\n",
              "      <th>2016-01-07</th>\n",
              "      <td>22.749164</td>\n",
              "      <td>23.083439</td>\n",
              "      <td>22.230461</td>\n",
              "      <td>22.235071</td>\n",
              "      <td>324377600</td>\n",
              "      <td>0.0</td>\n",
              "      <td>0</td>\n",
              "    </tr>\n",
              "    <tr>\n",
              "      <th>2016-01-08</th>\n",
              "      <td>22.719195</td>\n",
              "      <td>22.848294</td>\n",
              "      <td>22.306538</td>\n",
              "      <td>22.352644</td>\n",
              "      <td>283192000</td>\n",
              "      <td>0.0</td>\n",
              "      <td>0</td>\n",
              "    </tr>\n",
              "    <tr>\n",
              "      <th>...</th>\n",
              "      <td>...</td>\n",
              "      <td>...</td>\n",
              "      <td>...</td>\n",
              "      <td>...</td>\n",
              "      <td>...</td>\n",
              "      <td>...</td>\n",
              "      <td>...</td>\n",
              "    </tr>\n",
              "    <tr>\n",
              "      <th>2017-12-22</th>\n",
              "      <td>41.827756</td>\n",
              "      <td>42.004953</td>\n",
              "      <td>41.784656</td>\n",
              "      <td>41.906776</td>\n",
              "      <td>65397600</td>\n",
              "      <td>0.0</td>\n",
              "      <td>0</td>\n",
              "    </tr>\n",
              "    <tr>\n",
              "      <th>2017-12-26</th>\n",
              "      <td>40.898671</td>\n",
              "      <td>41.059104</td>\n",
              "      <td>40.630480</td>\n",
              "      <td>40.843597</td>\n",
              "      <td>132742000</td>\n",
              "      <td>0.0</td>\n",
              "      <td>0</td>\n",
              "    </tr>\n",
              "    <tr>\n",
              "      <th>2017-12-27</th>\n",
              "      <td>40.731054</td>\n",
              "      <td>40.893880</td>\n",
              "      <td>40.637667</td>\n",
              "      <td>40.850780</td>\n",
              "      <td>85992800</td>\n",
              "      <td>0.0</td>\n",
              "      <td>0</td>\n",
              "    </tr>\n",
              "    <tr>\n",
              "      <th>2017-12-28</th>\n",
              "      <td>40.946561</td>\n",
              "      <td>41.150098</td>\n",
              "      <td>40.822044</td>\n",
              "      <td>40.965717</td>\n",
              "      <td>65920800</td>\n",
              "      <td>0.0</td>\n",
              "      <td>0</td>\n",
              "    </tr>\n",
              "    <tr>\n",
              "      <th>2017-12-29</th>\n",
              "      <td>40.831637</td>\n",
              "      <td>40.848397</td>\n",
              "      <td>40.520346</td>\n",
              "      <td>40.522739</td>\n",
              "      <td>103999600</td>\n",
              "      <td>0.0</td>\n",
              "      <td>0</td>\n",
              "    </tr>\n",
              "  </tbody>\n",
              "</table>\n",
              "<p>503 rows × 7 columns</p>\n",
              "</div>"
            ],
            "text/plain": [
              "                 Open       High        Low  ...     Volume  Dividends  Stock Splits\n",
              "Date                                         ...                                    \n",
              "2016-01-04  23.655164  24.291441  23.514538  ...  270597600        0.0             0\n",
              "2016-01-05  24.379041  24.402094  23.609056  ...  223164000        0.0             0\n",
              "2016-01-06  23.182569  23.599838  23.023501  ...  273829600        0.0             0\n",
              "2016-01-07  22.749164  23.083439  22.230461  ...  324377600        0.0             0\n",
              "2016-01-08  22.719195  22.848294  22.306538  ...  283192000        0.0             0\n",
              "...               ...        ...        ...  ...        ...        ...           ...\n",
              "2017-12-22  41.827756  42.004953  41.784656  ...   65397600        0.0             0\n",
              "2017-12-26  40.898671  41.059104  40.630480  ...  132742000        0.0             0\n",
              "2017-12-27  40.731054  40.893880  40.637667  ...   85992800        0.0             0\n",
              "2017-12-28  40.946561  41.150098  40.822044  ...   65920800        0.0             0\n",
              "2017-12-29  40.831637  40.848397  40.520346  ...  103999600        0.0             0\n",
              "\n",
              "[503 rows x 7 columns]"
            ]
          },
          "metadata": {},
          "execution_count": 125
        }
      ]
    },
    {
      "cell_type": "code",
      "metadata": {
        "colab": {
          "base_uri": "https://localhost:8080/",
          "height": 484
        },
        "id": "wn9gesL5IZyG",
        "outputId": "58be9cb1-a06e-49a4-8589-7342a4237b09"
      },
      "source": [
        "gugol = yf.Ticker(\"GOOG\")\n",
        "\n",
        "# get stock info\n",
        "print(gugol.info)\n",
        "\n",
        "# get historical market data\n",
        "gugol_table = gugol.history(start=\"2016-01-01\",  end=\"2017-12-31\")\n",
        "gugol_table"
      ],
      "execution_count": 126,
      "outputs": [
        {
          "output_type": "stream",
          "name": "stdout",
          "text": [
            "{'zip': '94043', 'sector': 'Communication Services', 'fullTimeEmployees': 144056, 'longBusinessSummary': 'Alphabet Inc. provides online advertising services in the United States, Europe, the Middle East, Africa, the Asia-Pacific, Canada, and Latin America. The company offers performance and brand advertising services. It operates through Google Services, Google Cloud, and Other Bets segments. The Google Services segment provides products and services, such as ads, Android, Chrome, hardware, Google Maps, Google Play, Search, and YouTube, as well as technical infrastructure; and digital content. The Google Cloud segment offers infrastructure and data analytics platforms, collaboration tools, and other services for enterprise customers. The Other Bets segment sells internet and TV services, as well as licensing and research and development services. The company was founded in 1998 and is headquartered in Mountain View, California.', 'city': 'Mountain View', 'phone': '650-253-0000', 'state': 'CA', 'country': 'United States', 'companyOfficers': [], 'website': 'http://www.abc.xyz', 'maxAge': 1, 'address1': '1600 Amphitheatre Parkway', 'industry': 'Internet Content & Information', 'ebitdaMargins': 0.34300998, 'profitMargins': 0.2857, 'grossMargins': 0.55723, 'operatingCashflow': 80858996736, 'revenueGrowth': 0.616, 'operatingMargins': 0.28448, 'ebitda': 75552997376, 'targetLowPrice': 2700, 'recommendationKey': 'buy', 'grossProfits': 97795000000, 'freeCashflow': 44609626112, 'targetMedianPrice': 3100, 'currentPrice': 2876.45, 'earningsGrowth': 1.691, 'currentRatio': 3.152, 'returnOnAssets': 0.12759, 'numberOfAnalystOpinions': 9, 'targetMeanPrice': 3106.11, 'debtToEquity': 11.829, 'returnOnEquity': 0.2829, 'targetHighPrice': 3425, 'totalCash': 135863001088, 'totalDebt': 28100999168, 'totalRevenue': 220265005056, 'totalCashPerShare': 203.768, 'financialCurrency': 'USD', 'revenuePerShare': 326.656, 'quickRatio': 3.027, 'recommendationMean': 1.6, 'exchange': 'NMS', 'shortName': 'Alphabet Inc.', 'longName': 'Alphabet Inc.', 'exchangeTimezoneName': 'America/New_York', 'exchangeTimezoneShortName': 'EDT', 'isEsgPopulated': False, 'gmtOffSetMilliseconds': '-14400000', 'quoteType': 'EQUITY', 'symbol': 'GOOG', 'messageBoardId': 'finmb_29096', 'market': 'us_market', 'annualHoldingsTurnover': None, 'enterpriseToRevenue': 8.166, 'beta3Year': None, 'enterpriseToEbitda': 23.806, '52WeekChange': 0.8376212, 'morningStarRiskRating': None, 'forwardEps': 105.9, 'revenueQuarterlyGrowth': None, 'sharesOutstanding': 320168000, 'fundInceptionDate': None, 'annualReportExpenseRatio': None, 'totalAssets': None, 'bookValue': 355.83, 'sharesShort': 1772283, 'sharesPercentSharesOut': 0.0027, 'fundFamily': None, 'lastFiscalYearEnd': 1609372800, 'heldPercentInstitutions': 0.67123, 'netIncomeToCommon': 62928998400, 'trailingEps': 92.187, 'lastDividendValue': None, 'SandP52WeekChange': 0.30302167, 'priceToBook': 8.083776, 'heldPercentInsiders': 0.00043000001, 'nextFiscalYearEnd': 1672444800, 'yield': None, 'mostRecentQuarter': 1625011200, 'shortRatio': 1.48, 'sharesShortPreviousMonthDate': 1630368000, 'floatShares': 580796862, 'beta': 1.025925, 'enterpriseValue': 1798630277120, 'priceHint': 2, 'threeYearAverageReturn': None, 'lastSplitDate': 1430092800, 'lastSplitFactor': '10027455:10000000', 'legalType': None, 'lastDividendDate': None, 'morningStarOverallRating': None, 'earningsQuarterlyGrowth': 1.662, 'priceToSalesTrailing12Months': 8.701397, 'dateShortInterest': 1632960000, 'pegRatio': 1.36, 'ytdReturn': None, 'forwardPE': 27.161943, 'lastCapGain': None, 'shortPercentOfFloat': None, 'sharesShortPriorMonth': 2439826, 'impliedSharesOutstanding': 666755008, 'category': None, 'fiveYearAverageReturn': None, 'previousClose': 2859.21, 'regularMarketOpen': 2865.83, 'twoHundredDayAverage': 2592.4314, 'trailingAnnualDividendYield': None, 'payoutRatio': 0, 'volume24Hr': None, 'regularMarketDayHigh': 2882.14, 'navPrice': None, 'averageDailyVolume10Day': 956166, 'regularMarketPreviousClose': 2859.21, 'fiftyDayAverage': 2818.834, 'trailingAnnualDividendRate': None, 'open': 2865.83, 'toCurrency': None, 'averageVolume10days': 956166, 'expireDate': None, 'algorithm': None, 'dividendRate': None, 'exDividendDate': None, 'circulatingSupply': None, 'startDate': None, 'regularMarketDayLow': 2861.92, 'currency': 'USD', 'trailingPE': 31.20234, 'regularMarketVolume': 637889, 'lastMarket': None, 'maxSupply': None, 'openInterest': None, 'marketCap': 1916613165056, 'volumeAllCurrencies': None, 'strikePrice': None, 'averageVolume': 1073723, 'dayLow': 2861.92, 'ask': 2878.76, 'askSize': 1000, 'volume': 637889, 'fiftyTwoWeekHigh': 2936.41, 'fromCurrency': None, 'fiveYearAvgDividendYield': None, 'fiftyTwoWeekLow': 1514.62, 'bid': 2876.99, 'tradeable': False, 'dividendYield': None, 'bidSize': 900, 'dayHigh': 2882.14, 'regularMarketPrice': 2876.45, 'logo_url': 'https://logo.clearbit.com/abc.xyz'}\n"
          ]
        },
        {
          "output_type": "execute_result",
          "data": {
            "text/html": [
              "<div>\n",
              "<style scoped>\n",
              "    .dataframe tbody tr th:only-of-type {\n",
              "        vertical-align: middle;\n",
              "    }\n",
              "\n",
              "    .dataframe tbody tr th {\n",
              "        vertical-align: top;\n",
              "    }\n",
              "\n",
              "    .dataframe thead th {\n",
              "        text-align: right;\n",
              "    }\n",
              "</style>\n",
              "<table border=\"1\" class=\"dataframe\">\n",
              "  <thead>\n",
              "    <tr style=\"text-align: right;\">\n",
              "      <th></th>\n",
              "      <th>Open</th>\n",
              "      <th>High</th>\n",
              "      <th>Low</th>\n",
              "      <th>Close</th>\n",
              "      <th>Volume</th>\n",
              "      <th>Dividends</th>\n",
              "      <th>Stock Splits</th>\n",
              "    </tr>\n",
              "    <tr>\n",
              "      <th>Date</th>\n",
              "      <th></th>\n",
              "      <th></th>\n",
              "      <th></th>\n",
              "      <th></th>\n",
              "      <th></th>\n",
              "      <th></th>\n",
              "      <th></th>\n",
              "    </tr>\n",
              "  </thead>\n",
              "  <tbody>\n",
              "    <tr>\n",
              "      <th>2016-01-04</th>\n",
              "      <td>743.000000</td>\n",
              "      <td>744.059998</td>\n",
              "      <td>731.257996</td>\n",
              "      <td>741.840027</td>\n",
              "      <td>3272800</td>\n",
              "      <td>0</td>\n",
              "      <td>0</td>\n",
              "    </tr>\n",
              "    <tr>\n",
              "      <th>2016-01-05</th>\n",
              "      <td>746.450012</td>\n",
              "      <td>752.000000</td>\n",
              "      <td>738.640015</td>\n",
              "      <td>742.580017</td>\n",
              "      <td>1950700</td>\n",
              "      <td>0</td>\n",
              "      <td>0</td>\n",
              "    </tr>\n",
              "    <tr>\n",
              "      <th>2016-01-06</th>\n",
              "      <td>730.000000</td>\n",
              "      <td>747.179993</td>\n",
              "      <td>728.919983</td>\n",
              "      <td>743.619995</td>\n",
              "      <td>1947000</td>\n",
              "      <td>0</td>\n",
              "      <td>0</td>\n",
              "    </tr>\n",
              "    <tr>\n",
              "      <th>2016-01-07</th>\n",
              "      <td>730.309998</td>\n",
              "      <td>738.500000</td>\n",
              "      <td>719.059998</td>\n",
              "      <td>726.390015</td>\n",
              "      <td>2963700</td>\n",
              "      <td>0</td>\n",
              "      <td>0</td>\n",
              "    </tr>\n",
              "    <tr>\n",
              "      <th>2016-01-08</th>\n",
              "      <td>731.450012</td>\n",
              "      <td>733.229980</td>\n",
              "      <td>713.000000</td>\n",
              "      <td>714.469971</td>\n",
              "      <td>2450900</td>\n",
              "      <td>0</td>\n",
              "      <td>0</td>\n",
              "    </tr>\n",
              "    <tr>\n",
              "      <th>...</th>\n",
              "      <td>...</td>\n",
              "      <td>...</td>\n",
              "      <td>...</td>\n",
              "      <td>...</td>\n",
              "      <td>...</td>\n",
              "      <td>...</td>\n",
              "      <td>...</td>\n",
              "    </tr>\n",
              "    <tr>\n",
              "      <th>2017-12-22</th>\n",
              "      <td>1061.109985</td>\n",
              "      <td>1064.199951</td>\n",
              "      <td>1059.439941</td>\n",
              "      <td>1060.119995</td>\n",
              "      <td>755100</td>\n",
              "      <td>0</td>\n",
              "      <td>0</td>\n",
              "    </tr>\n",
              "    <tr>\n",
              "      <th>2017-12-26</th>\n",
              "      <td>1058.069946</td>\n",
              "      <td>1060.119995</td>\n",
              "      <td>1050.199951</td>\n",
              "      <td>1056.739990</td>\n",
              "      <td>760600</td>\n",
              "      <td>0</td>\n",
              "      <td>0</td>\n",
              "    </tr>\n",
              "    <tr>\n",
              "      <th>2017-12-27</th>\n",
              "      <td>1057.390015</td>\n",
              "      <td>1058.369995</td>\n",
              "      <td>1048.050049</td>\n",
              "      <td>1049.369995</td>\n",
              "      <td>1271900</td>\n",
              "      <td>0</td>\n",
              "      <td>0</td>\n",
              "    </tr>\n",
              "    <tr>\n",
              "      <th>2017-12-28</th>\n",
              "      <td>1051.599976</td>\n",
              "      <td>1054.750000</td>\n",
              "      <td>1044.770020</td>\n",
              "      <td>1048.140015</td>\n",
              "      <td>837100</td>\n",
              "      <td>0</td>\n",
              "      <td>0</td>\n",
              "    </tr>\n",
              "    <tr>\n",
              "      <th>2017-12-29</th>\n",
              "      <td>1046.719971</td>\n",
              "      <td>1049.699951</td>\n",
              "      <td>1044.900024</td>\n",
              "      <td>1046.400024</td>\n",
              "      <td>887500</td>\n",
              "      <td>0</td>\n",
              "      <td>0</td>\n",
              "    </tr>\n",
              "  </tbody>\n",
              "</table>\n",
              "<p>503 rows × 7 columns</p>\n",
              "</div>"
            ],
            "text/plain": [
              "                   Open         High  ...  Dividends  Stock Splits\n",
              "Date                                  ...                         \n",
              "2016-01-04   743.000000   744.059998  ...          0             0\n",
              "2016-01-05   746.450012   752.000000  ...          0             0\n",
              "2016-01-06   730.000000   747.179993  ...          0             0\n",
              "2016-01-07   730.309998   738.500000  ...          0             0\n",
              "2016-01-08   731.450012   733.229980  ...          0             0\n",
              "...                 ...          ...  ...        ...           ...\n",
              "2017-12-22  1061.109985  1064.199951  ...          0             0\n",
              "2017-12-26  1058.069946  1060.119995  ...          0             0\n",
              "2017-12-27  1057.390015  1058.369995  ...          0             0\n",
              "2017-12-28  1051.599976  1054.750000  ...          0             0\n",
              "2017-12-29  1046.719971  1049.699951  ...          0             0\n",
              "\n",
              "[503 rows x 7 columns]"
            ]
          },
          "metadata": {},
          "execution_count": 126
        }
      ]
    },
    {
      "cell_type": "markdown",
      "metadata": {
        "id": "NkFztSYhJyVA"
      },
      "source": [
        "We will create a Series named \"aapl\" whose values are Apple's daily closing prices, which are of course indexed by dates:"
      ]
    },
    {
      "cell_type": "code",
      "metadata": {
        "id": "QDJbOpCeHW91"
      },
      "source": [
        "aapl = aapl_table['Close']['2017']"
      ],
      "execution_count": 131,
      "outputs": []
    },
    {
      "cell_type": "code",
      "metadata": {
        "id": "VTV7omD8Iu87"
      },
      "source": [
        "gugol = gugol_table['Close']['2017']"
      ],
      "execution_count": 127,
      "outputs": []
    },
    {
      "cell_type": "code",
      "metadata": {
        "colab": {
          "base_uri": "https://localhost:8080/"
        },
        "id": "SXfgCQJOHW91",
        "outputId": "d176f557-251d-46ab-9539-b5a7ec9beedd"
      },
      "source": [
        "print(aapl)"
      ],
      "execution_count": 132,
      "outputs": [
        {
          "output_type": "stream",
          "name": "stdout",
          "text": [
            "Date\n",
            "2017-01-03    27.372362\n",
            "2017-01-04    27.341721\n",
            "2017-01-05    27.480768\n",
            "2017-01-06    27.787132\n",
            "2017-01-09    28.041643\n",
            "                ...    \n",
            "2017-12-22    41.906776\n",
            "2017-12-26    40.843597\n",
            "2017-12-27    40.850780\n",
            "2017-12-28    40.965717\n",
            "2017-12-29    40.522739\n",
            "Name: Close, Length: 251, dtype: float64\n"
          ]
        }
      ]
    },
    {
      "cell_type": "code",
      "metadata": {
        "colab": {
          "base_uri": "https://localhost:8080/"
        },
        "id": "s8-g-0saJAQD",
        "outputId": "e7be930b-6f31-42ce-9fda-82e66d167975"
      },
      "source": [
        "print(gugol)"
      ],
      "execution_count": 133,
      "outputs": [
        {
          "output_type": "stream",
          "name": "stdout",
          "text": [
            "Date\n",
            "2017-01-03     786.140015\n",
            "2017-01-04     786.900024\n",
            "2017-01-05     794.020020\n",
            "2017-01-06     806.150024\n",
            "2017-01-09     806.650024\n",
            "                 ...     \n",
            "2017-12-22    1060.119995\n",
            "2017-12-26    1056.739990\n",
            "2017-12-27    1049.369995\n",
            "2017-12-28    1048.140015\n",
            "2017-12-29    1046.400024\n",
            "Name: Close, Length: 251, dtype: float64\n"
          ]
        }
      ]
    },
    {
      "cell_type": "markdown",
      "metadata": {
        "id": "waUEgBhzKEcA"
      },
      "source": [
        "Recall that we can fetch a specific data point using series['yyyy-mm-dd']. We can also fetch the data in a specific month using series['yyyy-mm']."
      ]
    },
    {
      "cell_type": "code",
      "metadata": {
        "colab": {
          "base_uri": "https://localhost:8080/"
        },
        "id": "2gS50G0zHW92",
        "outputId": "8a75504c-3860-485b-d4cb-7ba9840209b9"
      },
      "source": [
        "print(aapl['2017-3'])"
      ],
      "execution_count": 136,
      "outputs": [
        {
          "output_type": "stream",
          "name": "stdout",
          "text": [
            "Date\n",
            "2017-03-01    33.086288\n",
            "2017-03-02    32.889843\n",
            "2017-03-03    33.083920\n",
            "2017-03-06    32.979774\n",
            "2017-03-07    33.022377\n",
            "2017-03-08    32.899303\n",
            "2017-03-09    32.823563\n",
            "2017-03-10    32.932442\n",
            "2017-03-13    32.946644\n",
            "2017-03-14    32.896942\n",
            "2017-03-15    33.244869\n",
            "2017-03-16    33.299301\n",
            "2017-03-17    33.133625\n",
            "2017-03-20    33.481544\n",
            "2017-03-21    33.098114\n",
            "2017-03-22    33.472076\n",
            "2017-03-23    33.353741\n",
            "2017-03-24    33.287468\n",
            "2017-03-27    33.344273\n",
            "2017-03-28    34.035389\n",
            "2017-03-29    34.111134\n",
            "2017-03-30    34.066158\n",
            "2017-03-31    34.002262\n",
            "Name: Close, dtype: float64\n"
          ]
        }
      ]
    },
    {
      "cell_type": "code",
      "metadata": {
        "colab": {
          "base_uri": "https://localhost:8080/"
        },
        "id": "OzIfUm_SJevO",
        "outputId": "0ea3db5f-a211-4391-922b-8a1c66855a57"
      },
      "source": [
        "print(gugol['2017-3'])"
      ],
      "execution_count": 134,
      "outputs": [
        {
          "output_type": "stream",
          "name": "stdout",
          "text": [
            "Date\n",
            "2017-03-01    835.239990\n",
            "2017-03-02    830.630005\n",
            "2017-03-03    829.080017\n",
            "2017-03-06    827.780029\n",
            "2017-03-07    831.909973\n",
            "2017-03-08    835.369995\n",
            "2017-03-09    838.679993\n",
            "2017-03-10    843.250000\n",
            "2017-03-13    845.539978\n",
            "2017-03-14    845.619995\n",
            "2017-03-15    847.200012\n",
            "2017-03-16    848.780029\n",
            "2017-03-17    852.119995\n",
            "2017-03-20    848.400024\n",
            "2017-03-21    830.460022\n",
            "2017-03-22    829.590027\n",
            "2017-03-23    817.580017\n",
            "2017-03-24    814.429993\n",
            "2017-03-27    819.510010\n",
            "2017-03-28    820.919983\n",
            "2017-03-29    831.409973\n",
            "2017-03-30    831.500000\n",
            "2017-03-31    829.559998\n",
            "Name: Close, dtype: float64\n"
          ]
        }
      ]
    },
    {
      "cell_type": "code",
      "metadata": {
        "colab": {
          "base_uri": "https://localhost:8080/"
        },
        "id": "vpvxGwXtHW92",
        "outputId": "47880379-0c4b-4a1a-cdb8-bcaebc52d5f4"
      },
      "source": [
        "aapl['2017-2':'2017-4']"
      ],
      "execution_count": 135,
      "outputs": [
        {
          "output_type": "execute_result",
          "data": {
            "text/plain": [
              "Date\n",
              "2017-02-01    30.341726\n",
              "2017-02-02    30.289881\n",
              "2017-02-03    30.419500\n",
              "2017-02-06    30.704651\n",
              "2017-02-07    30.996880\n",
              "                ...    \n",
              "2017-04-24    33.997524\n",
              "2017-04-25    34.208176\n",
              "2017-04-26    34.006992\n",
              "2017-04-27    34.033028\n",
              "2017-04-28    33.999886\n",
              "Name: Close, Length: 61, dtype: float64"
            ]
          },
          "metadata": {},
          "execution_count": 135
        }
      ]
    },
    {
      "cell_type": "code",
      "metadata": {
        "colab": {
          "base_uri": "https://localhost:8080/"
        },
        "id": "a_6dMl_JJohu",
        "outputId": "756fa379-be35-49b8-d630-515f5b1f45a1"
      },
      "source": [
        "gugol['2017-2':'2017-4']"
      ],
      "execution_count": 137,
      "outputs": [
        {
          "output_type": "execute_result",
          "data": {
            "text/plain": [
              "Date\n",
              "2017-02-01    795.695007\n",
              "2017-02-02    798.530029\n",
              "2017-02-03    801.489990\n",
              "2017-02-06    801.340027\n",
              "2017-02-07    806.969971\n",
              "                 ...    \n",
              "2017-04-24    862.760010\n",
              "2017-04-25    872.299988\n",
              "2017-04-26    871.729980\n",
              "2017-04-27    874.250000\n",
              "2017-04-28    905.960022\n",
              "Name: Close, Length: 61, dtype: float64"
            ]
          },
          "metadata": {},
          "execution_count": 137
        }
      ]
    },
    {
      "cell_type": "markdown",
      "metadata": {
        "id": "lWwoD39pKNKb"
      },
      "source": [
        ".head(N) and .tail(N) are methods for quickly accessing the first or last N elements."
      ]
    },
    {
      "cell_type": "code",
      "metadata": {
        "colab": {
          "base_uri": "https://localhost:8080/"
        },
        "id": "1eU218ALHW93",
        "outputId": "2b6597cc-3c6a-468b-edbe-dc3974e0636a"
      },
      "source": [
        "print(aapl.head(5))\n",
        "print(aapl.tail(10))"
      ],
      "execution_count": 138,
      "outputs": [
        {
          "output_type": "stream",
          "name": "stdout",
          "text": [
            "Date\n",
            "2017-01-03    27.372362\n",
            "2017-01-04    27.341721\n",
            "2017-01-05    27.480768\n",
            "2017-01-06    27.787132\n",
            "2017-01-09    28.041643\n",
            "Name: Close, dtype: float64\n",
            "Date\n",
            "2017-12-15    41.657742\n",
            "2017-12-18    42.244408\n",
            "2017-12-19    41.794231\n",
            "2017-12-20    41.748734\n",
            "2017-12-21    41.906776\n",
            "2017-12-22    41.906776\n",
            "2017-12-26    40.843597\n",
            "2017-12-27    40.850780\n",
            "2017-12-28    40.965717\n",
            "2017-12-29    40.522739\n",
            "Name: Close, dtype: float64\n"
          ]
        }
      ]
    },
    {
      "cell_type": "code",
      "metadata": {
        "colab": {
          "base_uri": "https://localhost:8080/"
        },
        "id": "Moy3DRigJwLH",
        "outputId": "b7996f5d-955f-4a6a-cb97-5a8c16012cc6"
      },
      "source": [
        "print(gugol.head(5))\n",
        "print(gugol.tail(10))"
      ],
      "execution_count": 139,
      "outputs": [
        {
          "output_type": "stream",
          "name": "stdout",
          "text": [
            "Date\n",
            "2017-01-03    786.140015\n",
            "2017-01-04    786.900024\n",
            "2017-01-05    794.020020\n",
            "2017-01-06    806.150024\n",
            "2017-01-09    806.650024\n",
            "Name: Close, dtype: float64\n",
            "Date\n",
            "2017-12-15    1064.189941\n",
            "2017-12-18    1077.140015\n",
            "2017-12-19    1070.680054\n",
            "2017-12-20    1064.949951\n",
            "2017-12-21    1063.630005\n",
            "2017-12-22    1060.119995\n",
            "2017-12-26    1056.739990\n",
            "2017-12-27    1049.369995\n",
            "2017-12-28    1048.140015\n",
            "2017-12-29    1046.400024\n",
            "Name: Close, dtype: float64\n"
          ]
        }
      ]
    },
    {
      "cell_type": "markdown",
      "metadata": {
        "id": "IxhKxtj-KQ66"
      },
      "source": [
        "# Resampling\n",
        "**_series.resample(freq)_** is a class called \"DatetimeIndexResampler\" which groups data in a Series object into regular time intervals. The argument \"freq\" determines the length of each interval.\n",
        "\n",
        "**_series.resample.mean()_** is a complete statement that groups data into intervals, and then compute the mean of each interval. For example, if we want to aggregate the daily data into monthly data by mean:"
      ]
    },
    {
      "cell_type": "code",
      "metadata": {
        "colab": {
          "base_uri": "https://localhost:8080/"
        },
        "id": "rAV8NkHkHW93",
        "outputId": "5af4963b-75ef-4cf8-a390-ccba83e81001"
      },
      "source": [
        "by_month = aapl.resample('M').mean()\n",
        "print(by_month)"
      ],
      "execution_count": 143,
      "outputs": [
        {
          "output_type": "stream",
          "name": "stdout",
          "text": [
            "Date\n",
            "2017-01-31    28.178332\n",
            "2017-02-28    31.606277\n",
            "2017-03-31    33.282220\n",
            "2017-04-30    33.819264\n",
            "2017-05-31    36.125684\n",
            "2017-06-30    35.133983\n",
            "2017-07-31    35.245242\n",
            "2017-08-31    37.897229\n",
            "2017-09-30    37.604738\n",
            "2017-10-31    37.654551\n",
            "2017-11-30    41.233915\n",
            "2017-12-31    41.160037\n",
            "Freq: M, Name: Close, dtype: float64\n"
          ]
        }
      ]
    },
    {
      "cell_type": "code",
      "metadata": {
        "colab": {
          "base_uri": "https://localhost:8080/"
        },
        "id": "yK3BJOwkLyC4",
        "outputId": "c0d103fe-49bf-412a-b5e6-1f6aab816a1b"
      },
      "source": [
        "mes = gugol.resample('M').mean()\n",
        "print(mes)"
      ],
      "execution_count": 144,
      "outputs": [
        {
          "output_type": "stream",
          "name": "stdout",
          "text": [
            "Date\n",
            "2017-01-31     807.904752\n",
            "2017-02-28     816.916581\n",
            "2017-03-31     834.111307\n",
            "2017-04-30     844.056840\n",
            "2017-05-31     939.284085\n",
            "2017-06-30     953.766824\n",
            "2017-07-31     942.865009\n",
            "2017-08-31     922.023045\n",
            "2017-09-30     931.299503\n",
            "2017-10-31     982.522275\n",
            "2017-11-30    1030.492844\n",
            "2017-12-31    1043.653003\n",
            "Freq: M, Name: Close, dtype: float64\n"
          ]
        }
      ]
    },
    {
      "cell_type": "markdown",
      "metadata": {
        "id": "QDPfVzBEKV6Q"
      },
      "source": [
        "We can also aggregate the data by week:"
      ]
    },
    {
      "cell_type": "code",
      "metadata": {
        "colab": {
          "base_uri": "https://localhost:8080/"
        },
        "id": "aAP3tKkBHW94",
        "outputId": "d4d6d8bf-dcb8-4db7-9b4a-080e9ef64b85"
      },
      "source": [
        "by_week = aapl.resample('W').mean()\n",
        "print(by_week.head())"
      ],
      "execution_count": 142,
      "outputs": [
        {
          "output_type": "stream",
          "name": "stdout",
          "text": [
            "Date\n",
            "2017-01-08    27.495496\n",
            "2017-01-15    28.097734\n",
            "2017-01-22    28.266118\n",
            "2017-01-29    28.553981\n",
            "2017-02-05    29.662543\n",
            "Freq: W-SUN, Name: Close, dtype: float64\n"
          ]
        }
      ]
    },
    {
      "cell_type": "code",
      "metadata": {
        "colab": {
          "base_uri": "https://localhost:8080/"
        },
        "id": "dWmzAS4NMNri",
        "outputId": "5e3ec017-e4d1-401d-b5a8-d6a702225bac"
      },
      "source": [
        "semana = gugol.resample('W').mean()\n",
        "print(semana.head())"
      ],
      "execution_count": 145,
      "outputs": [
        {
          "output_type": "stream",
          "name": "stdout",
          "text": [
            "Date\n",
            "2017-01-08    793.302521\n",
            "2017-01-15    806.717993\n",
            "2017-01-22    804.468750\n",
            "2017-01-29    826.862000\n",
            "2017-02-05    798.965002\n",
            "Freq: W-SUN, Name: Close, dtype: float64\n"
          ]
        }
      ]
    },
    {
      "cell_type": "markdown",
      "metadata": {
        "id": "o_MXSVsILoBS"
      },
      "source": [
        "We can also aggregate the data by month with max:"
      ]
    },
    {
      "cell_type": "code",
      "metadata": {
        "colab": {
          "base_uri": "https://localhost:8080/"
        },
        "id": "gn0wqXBTHW95",
        "outputId": "d4659270-4945-4445-9894-cb2987767f64"
      },
      "source": [
        "aapl.resample('M').max()"
      ],
      "execution_count": 146,
      "outputs": [
        {
          "output_type": "execute_result",
          "data": {
            "text/plain": [
              "Date\n",
              "2017-01-31    28.739212\n",
              "2017-02-28    32.451973\n",
              "2017-03-31    34.111134\n",
              "2017-04-30    34.264984\n",
              "2017-05-31    37.099129\n",
              "2017-06-30    36.944649\n",
              "2017-07-31    36.471699\n",
              "2017-08-31    39.129726\n",
              "2017-09-30    39.141655\n",
              "2017-10-31    40.332245\n",
              "2017-11-30    42.050137\n",
              "2017-12-31    42.244408\n",
              "Freq: M, Name: Close, dtype: float64"
            ]
          },
          "metadata": {},
          "execution_count": 146
        }
      ]
    },
    {
      "cell_type": "code",
      "metadata": {
        "colab": {
          "base_uri": "https://localhost:8080/"
        },
        "id": "7FFj0KCeMlrF",
        "outputId": "5d2bb72f-0531-4553-f6e6-385478d6579a"
      },
      "source": [
        "gugol.resample('M').max()"
      ],
      "execution_count": 147,
      "outputs": [
        {
          "output_type": "execute_result",
          "data": {
            "text/plain": [
              "Date\n",
              "2017-01-31     835.669983\n",
              "2017-02-28     831.659973\n",
              "2017-03-31     852.119995\n",
              "2017-04-30     905.960022\n",
              "2017-05-31     975.880005\n",
              "2017-06-30     983.679993\n",
              "2017-07-31     980.340027\n",
              "2017-08-31     939.330017\n",
              "2017-09-30     959.109985\n",
              "2017-10-31    1019.270020\n",
              "2017-11-30    1054.209961\n",
              "2017-12-31    1077.140015\n",
              "Freq: M, Name: Close, dtype: float64"
            ]
          },
          "metadata": {},
          "execution_count": 147
        }
      ]
    },
    {
      "cell_type": "markdown",
      "metadata": {
        "id": "Z8r46UFlLdAh"
      },
      "source": [
        "We can choose almost any frequency by using the format 'nf', where 'n' is an integer and 'f' is M for month, W for week and D for day."
      ]
    },
    {
      "cell_type": "code",
      "metadata": {
        "colab": {
          "base_uri": "https://localhost:8080/"
        },
        "id": "kdVB_-JFHW96",
        "outputId": "1f2bb77a-ec00-4bf8-cb7d-9efc370165cc"
      },
      "source": [
        "three_day = aapl.resample('3D').mean()\n",
        "two_week = aapl.resample('2W').mean()\n",
        "two_month = aapl.resample('2M').mean()\n",
        "\n",
        "\n",
        "print(three_day)\n",
        "print(two_week)\n",
        "print(two_month )"
      ],
      "execution_count": 148,
      "outputs": [
        {
          "output_type": "stream",
          "name": "stdout",
          "text": [
            "Date\n",
            "2017-01-03    27.398284\n",
            "2017-01-06    27.787132\n",
            "2017-01-09    28.110773\n",
            "2017-01-12    28.078176\n",
            "2017-01-15    28.279667\n",
            "                ...    \n",
            "2017-12-17    42.019320\n",
            "2017-12-20    41.854095\n",
            "2017-12-23          NaN\n",
            "2017-12-26    40.886698\n",
            "2017-12-29    40.522739\n",
            "Freq: 3D, Name: Close, Length: 121, dtype: float64\n",
            "Date\n",
            "2017-01-08    27.495496\n",
            "2017-01-22    28.172571\n",
            "2017-02-05    29.108262\n",
            "2017-02-19    31.516818\n",
            "2017-03-05    32.595559\n",
            "2017-03-19    33.017884\n",
            "2017-04-02    33.625216\n",
            "2017-04-16    33.849730\n",
            "2017-04-30    33.791845\n",
            "2017-05-14    35.697633\n",
            "2017-05-28    36.496178\n",
            "2017-06-11    36.515004\n",
            "2017-06-25    34.529047\n",
            "2017-07-09    34.265136\n",
            "2017-07-23    35.278871\n",
            "2017-08-06    36.272775\n",
            "2017-08-20    37.904118\n",
            "2017-09-03    38.458794\n",
            "2017-09-17    38.282709\n",
            "2017-10-01    36.840873\n",
            "2017-10-15    37.071597\n",
            "2017-10-29    37.757321\n",
            "2017-11-12    41.032238\n",
            "2017-11-26    41.204375\n",
            "2017-12-10    40.867065\n",
            "2017-12-24    41.620866\n",
            "2018-01-07    40.795709\n",
            "Freq: 2W-SUN, Name: Close, dtype: float64\n",
            "Date\n",
            "2017-01-31    28.178332\n",
            "2017-03-31    32.524055\n",
            "2017-05-31    35.056855\n",
            "2017-07-31    35.186964\n",
            "2017-09-30    37.761187\n",
            "2017-11-30    39.402613\n",
            "2018-01-31    41.160037\n",
            "Freq: 2M, Name: Close, dtype: float64\n"
          ]
        }
      ]
    },
    {
      "cell_type": "code",
      "metadata": {
        "colab": {
          "base_uri": "https://localhost:8080/"
        },
        "id": "ikl3TIHiM5Ag",
        "outputId": "36978a8a-8467-4c8d-8b59-77bd88914b00"
      },
      "source": [
        "tres_dias = gugol.resample('3D').mean()\n",
        "dos_semanas = gugol.resample('2W').mean()\n",
        "dos_meses = gugol.resample('2M').mean()\n",
        "\n",
        "\n",
        "print(tres_dias)\n",
        "print(dos_semanas)\n",
        "print(dos_meses)"
      ],
      "execution_count": 149,
      "outputs": [
        {
          "output_type": "stream",
          "name": "stdout",
          "text": [
            "Date\n",
            "2017-01-03     789.020020\n",
            "2017-01-06     806.150024\n",
            "2017-01-09     806.449992\n",
            "2017-01-12     807.119995\n",
            "2017-01-15     804.609985\n",
            "                 ...     \n",
            "2017-12-17    1073.910034\n",
            "2017-12-20    1062.899984\n",
            "2017-12-23            NaN\n",
            "2017-12-26    1051.416667\n",
            "2017-12-29    1046.400024\n",
            "Freq: 3D, Name: Close, Length: 121, dtype: float64\n",
            "Date\n",
            "2017-01-08     793.302521\n",
            "2017-01-22     805.718330\n",
            "2017-02-05     812.913501\n",
            "2017-02-19     815.081995\n",
            "2017-03-05     829.981120\n",
            "2017-03-19     841.625000\n",
            "2017-04-02     827.336005\n",
            "2017-04-16     828.115546\n",
            "2017-04-30     858.404004\n",
            "2017-05-14     927.290991\n",
            "2017-05-28     945.059998\n",
            "2017-06-11     973.079997\n",
            "2017-06-25     951.928015\n",
            "2017-07-09     920.255561\n",
            "2017-07-23     953.665002\n",
            "2017-08-06     939.779016\n",
            "2017-08-20     919.417993\n",
            "2017-09-03     923.686005\n",
            "2017-09-17     928.927782\n",
            "2017-10-01     932.829999\n",
            "2017-10-15     972.795001\n",
            "2017-10-29     985.379004\n",
            "2017-11-12    1027.571985\n",
            "2017-11-26    1028.187771\n",
            "2017-12-10    1024.505005\n",
            "2017-12-24    1057.204993\n",
            "2018-01-07    1050.162506\n",
            "Freq: 2W-SUN, Name: Close, dtype: float64\n",
            "Date\n",
            "2017-01-31     807.904752\n",
            "2017-03-31     826.332740\n",
            "2017-05-31     895.154386\n",
            "2017-07-31     948.575483\n",
            "2017-09-30     926.337676\n",
            "2017-11-30    1005.949762\n",
            "2018-01-31    1043.653003\n",
            "Freq: 2M, Name: Close, dtype: float64\n"
          ]
        }
      ]
    },
    {
      "cell_type": "markdown",
      "metadata": {
        "id": "iy4RqsnwL-Bw"
      },
      "source": [
        "Besides the mean() method, other methods can also be used with the resampler:\n",
        "\n"
      ]
    },
    {
      "cell_type": "code",
      "metadata": {
        "colab": {
          "base_uri": "https://localhost:8080/"
        },
        "id": "DNT8Fx9dHW96",
        "outputId": "8b73ed41-5341-44f2-ffc3-478bd92f73f4"
      },
      "source": [
        "std = aapl.resample('W').std()\n",
        "max = aapl.resample('W').max()\n",
        "min = aapl.resample('W').min()\n",
        "\n",
        "\n",
        "print(std)\n",
        "print(max)\n",
        "print(min)"
      ],
      "execution_count": null,
      "outputs": [
        {
          "output_type": "stream",
          "name": "stdout",
          "text": [
            "Date\n",
            "2017-01-08    0.203368\n",
            "2017-01-15    0.072530\n",
            "2017-01-22    0.025554\n",
            "2017-01-29    0.245288\n",
            "2017-02-05    0.943260\n",
            "2017-02-12    0.252001\n",
            "2017-02-19    0.231394\n",
            "2017-02-26    0.059345\n",
            "2017-03-05    0.340094\n",
            "2017-03-12    0.076284\n",
            "2017-03-19    0.177834\n",
            "2017-03-26    0.157262\n",
            "2017-04-02    0.319806\n",
            "2017-04-09    0.128689\n",
            "2017-04-16    0.212476\n",
            "2017-04-23    0.174672\n",
            "2017-04-30    0.090027\n",
            "2017-05-07    0.235639\n",
            "2017-05-14    0.352980\n",
            "2017-05-21    0.536091\n",
            "2017-05-28    0.060392\n",
            "2017-06-04    0.281225\n",
            "2017-06-11    0.620034\n",
            "2017-06-18    0.382564\n",
            "2017-06-25    0.128893\n",
            "2017-07-02    0.264113\n",
            "2017-07-09    0.158890\n",
            "2017-07-16    0.404281\n",
            "2017-07-23    0.124988\n",
            "2017-07-30    0.384441\n",
            "2017-08-06    0.924388\n",
            "2017-08-13    0.467469\n",
            "2017-08-20    0.435251\n",
            "2017-08-27    0.275762\n",
            "2017-09-03    0.251722\n",
            "2017-09-10    0.381637\n",
            "2017-09-17    0.294141\n",
            "2017-09-24    0.735195\n",
            "2017-10-01    0.354840\n",
            "2017-10-08    0.204857\n",
            "2017-10-15    0.118733\n",
            "2017-10-22    0.517001\n",
            "2017-10-29    0.680452\n",
            "2017-11-05    0.560686\n",
            "2017-11-12    0.190971\n",
            "2017-11-19    0.436199\n",
            "2017-11-26    0.563047\n",
            "2017-12-03    0.427439\n",
            "2017-12-10    0.073130\n",
            "2017-12-17    0.205266\n",
            "2017-12-24    0.194120\n",
            "2017-12-31    0.190390\n",
            "Freq: W-SUN, Name: Close, dtype: float64\n",
            "Date\n",
            "2017-01-08    27.787132\n",
            "2017-01-15    28.220753\n",
            "2017-01-22    28.279665\n",
            "2017-01-29    28.739218\n",
            "2017-02-05    30.419493\n",
            "2017-02-12    31.341911\n",
            "2017-02-19    32.122974\n",
            "2017-02-26    32.451969\n",
            "2017-03-05    33.086281\n",
            "2017-03-12    33.022373\n",
            "2017-03-19    33.299305\n",
            "2017-03-26    33.481544\n",
            "2017-04-02    34.111141\n",
            "2017-04-09    34.264977\n",
            "2017-04-16    33.886284\n",
            "2017-04-23    33.713501\n",
            "2017-04-30    34.208179\n",
            "2017-05-07    35.256695\n",
            "2017-05-14    37.099133\n",
            "2017-05-21    37.004063\n",
            "2017-05-28    36.597664\n",
            "2017-06-04    36.944649\n",
            "2017-06-11    36.925632\n",
            "2017-06-18    34.838963\n",
            "2017-06-25    34.779545\n",
            "2017-07-02    34.658337\n",
            "2017-07-09    34.266190\n",
            "2017-07-16    35.421230\n",
            "2017-07-23    35.891800\n",
            "2017-07-30    36.471699\n",
            "2017-08-06    37.346291\n",
            "2017-08-13    38.277939\n",
            "2017-08-20    38.557095\n",
            "2017-08-27    38.170567\n",
            "2017-09-03    39.141655\n",
            "2017-09-10    38.671623\n",
            "2017-09-17    38.533234\n",
            "2017-09-24    37.872326\n",
            "2017-10-01    36.798645\n",
            "2017-10-08    37.075409\n",
            "2017-10-15    37.457165\n",
            "2017-10-22    38.287479\n",
            "2017-10-29    38.903053\n",
            "2017-11-05    41.157795\n",
            "2017-11-12    42.050140\n",
            "2017-11-19    41.657745\n",
            "2017-11-26    41.897190\n",
            "2017-12-03    41.686470\n",
            "2017-12-10    40.659222\n",
            "2017-12-17    41.657745\n",
            "2017-12-24    42.244392\n",
            "2017-12-31    40.965721\n",
            "Freq: W-SUN, Name: Close, dtype: float64\n",
            "Date\n",
            "2017-01-08    27.341724\n",
            "2017-01-15    28.041645\n",
            "2017-01-22    28.227821\n",
            "2017-01-29    28.272598\n",
            "2017-02-05    28.597816\n",
            "2017-02-12    30.704651\n",
            "2017-02-19    31.547823\n",
            "2017-02-26    32.314690\n",
            "2017-03-05    32.409355\n",
            "2017-03-12    32.823563\n",
            "2017-03-19    32.896942\n",
            "2017-03-26    33.098122\n",
            "2017-04-02    33.344276\n",
            "2017-04-09    33.926514\n",
            "2017-04-16    33.384510\n",
            "2017-04-23    33.296936\n",
            "2017-04-30    33.997528\n",
            "2017-05-07    34.681545\n",
            "2017-05-14    36.215267\n",
            "2017-05-21    35.708805\n",
            "2017-05-28    36.443184\n",
            "2017-06-04    36.305332\n",
            "2017-06-11    35.406971\n",
            "2017-06-18    33.812263\n",
            "2017-06-25    34.463455\n",
            "2017-07-02    34.147358\n",
            "2017-07-09    33.921577\n",
            "2017-07-16    34.475338\n",
            "2017-07-23    35.544815\n",
            "2017-07-30    35.530552\n",
            "2017-08-06    35.347557\n",
            "2017-08-13    37.058720\n",
            "2017-08-20    37.578846\n",
            "2017-08-27    37.509666\n",
            "2017-09-03    38.526081\n",
            "2017-09-10    37.848465\n",
            "2017-09-17    37.764950\n",
            "2017-09-24    36.240326\n",
            "2017-10-01    35.920620\n",
            "2017-10-08    36.619694\n",
            "2017-10-15    37.182777\n",
            "2017-10-22    37.216179\n",
            "2017-10-29    37.261517\n",
            "2017-11-05    39.778702\n",
            "2017-11-12    41.575333\n",
            "2017-11-19    40.486816\n",
            "2017-11-26    40.702312\n",
            "2017-12-03    40.582603\n",
            "2017-12-10    40.470051\n",
            "2017-12-17    41.114185\n",
            "2017-12-24    41.748734\n",
            "2017-12-31    40.522736\n",
            "Freq: W-SUN, Name: Close, dtype: float64\n"
          ]
        }
      ]
    },
    {
      "cell_type": "code",
      "metadata": {
        "colab": {
          "base_uri": "https://localhost:8080/"
        },
        "id": "IMM6oK_iNO7x",
        "outputId": "d31b3974-8853-40ef-af14-1f65b1020f9f"
      },
      "source": [
        "std1 = gugol.resample('W').std()\n",
        "max1 = gugol.resample('W').max()\n",
        "min1 = gugol.resample('W').min()\n",
        "\n",
        "\n",
        "print(std1)\n",
        "print(max1)\n",
        "print(min1)"
      ],
      "execution_count": 150,
      "outputs": [
        {
          "output_type": "stream",
          "name": "stdout",
          "text": [
            "Date\n",
            "2017-01-08     9.271221\n",
            "2017-01-15     1.286577\n",
            "2017-01-22     1.648152\n",
            "2017-01-29     6.785008\n",
            "2017-02-05     2.882899\n",
            "2017-02-12     4.476093\n",
            "2017-02-19     3.888738\n",
            "2017-02-26     1.356907\n",
            "2017-03-05     4.301519\n",
            "2017-03-12     5.971306\n",
            "2017-03-19     2.730815\n",
            "2017-03-26    13.392346\n",
            "2017-04-02     5.882941\n",
            "2017-04-09     5.451000\n",
            "2017-04-16     0.645758\n",
            "2017-04-23     2.849201\n",
            "2017-04-30    16.568690\n",
            "2017-05-07     8.065152\n",
            "2017-05-14     2.058548\n",
            "2017-05-21     8.719065\n",
            "2017-05-28    12.907173\n",
            "2017-06-04     5.743123\n",
            "2017-06-11    14.294068\n",
            "2017-06-18     5.898889\n",
            "2017-06-25     5.367715\n",
            "2017-07-02    17.409210\n",
            "2017-07-09     8.380824\n",
            "2017-07-16    11.601406\n",
            "2017-07-23     7.663487\n",
            "2017-07-30    17.654578\n",
            "2017-08-06     3.028084\n",
            "2017-08-13     9.169523\n",
            "2017-08-20     7.423927\n",
            "2017-08-27     8.115862\n",
            "2017-09-03    10.771394\n",
            "2017-09-10     4.259703\n",
            "2017-09-17     5.815036\n",
            "2017-09-24     7.375925\n",
            "2017-10-01    16.330452\n",
            "2017-10-08    11.710768\n",
            "2017-10-15     7.918404\n",
            "2017-10-22     3.558963\n",
            "2017-10-29    21.572126\n",
            "2017-11-05     6.649262\n",
            "2017-11-12     5.387203\n",
            "2017-11-19     5.228673\n",
            "2017-11-26     9.678139\n",
            "2017-12-03    18.848620\n",
            "2017-12-10    16.344819\n",
            "2017-12-17    10.225138\n",
            "2017-12-24     6.685706\n",
            "2017-12-31     4.551121\n",
            "Freq: W-SUN, Name: Close, dtype: float64\n",
            "Date\n",
            "2017-01-08     806.150024\n",
            "2017-01-15     807.909973\n",
            "2017-01-22     806.070007\n",
            "2017-01-29     835.669983\n",
            "2017-02-05     802.320007\n",
            "2017-02-12     813.669983\n",
            "2017-02-19     828.070007\n",
            "2017-02-26     831.659973\n",
            "2017-03-05     835.239990\n",
            "2017-03-12     843.250000\n",
            "2017-03-19     852.119995\n",
            "2017-03-26     848.400024\n",
            "2017-04-02     831.500000\n",
            "2017-04-09     838.549988\n",
            "2017-04-16     824.729980\n",
            "2017-04-23     843.190002\n",
            "2017-04-30     905.960022\n",
            "2017-05-07     931.659973\n",
            "2017-05-14     934.299988\n",
            "2017-05-21     943.000000\n",
            "2017-05-28     971.469971\n",
            "2017-06-04     975.880005\n",
            "2017-06-11     983.679993\n",
            "2017-06-18     953.400024\n",
            "2017-06-25     965.590027\n",
            "2017-07-02     952.270020\n",
            "2017-07-09     918.590027\n",
            "2017-07-16     955.989990\n",
            "2017-07-23     972.919983\n",
            "2017-07-30     980.340027\n",
            "2017-08-06     930.830017\n",
            "2017-08-13     929.359985\n",
            "2017-08-20     926.960022\n",
            "2017-08-27     927.000000\n",
            "2017-09-03     939.330017\n",
            "2017-09-10     935.950012\n",
            "2017-09-17     935.090027\n",
            "2017-09-24     932.450012\n",
            "2017-10-01     959.109985\n",
            "2017-10-08     978.890015\n",
            "2017-10-15     989.679993\n",
            "2017-10-22     992.809998\n",
            "2017-10-29    1019.270020\n",
            "2017-11-05    1032.479980\n",
            "2017-11-12    1039.849976\n",
            "2017-11-19    1032.500000\n",
            "2017-11-26    1040.609985\n",
            "2017-12-03    1054.209961\n",
            "2017-12-10    1037.050049\n",
            "2017-12-17    1064.189941\n",
            "2017-12-24    1077.140015\n",
            "2017-12-31    1056.739990\n",
            "Freq: W-SUN, Name: Close, dtype: float64\n",
            "Date\n",
            "2017-01-08     786.140015\n",
            "2017-01-15     804.789978\n",
            "2017-01-22     802.174988\n",
            "2017-01-29     819.309998\n",
            "2017-02-05     795.695007\n",
            "2017-02-12     801.340027\n",
            "2017-02-19     818.979980\n",
            "2017-02-26     828.640015\n",
            "2017-03-05     823.210022\n",
            "2017-03-12     827.780029\n",
            "2017-03-19     845.539978\n",
            "2017-03-26     814.429993\n",
            "2017-04-02     819.510010\n",
            "2017-04-09     824.669983\n",
            "2017-04-16     823.349976\n",
            "2017-04-23     836.820007\n",
            "2017-04-30     862.760010\n",
            "2017-05-07     912.570007\n",
            "2017-05-14     928.780029\n",
            "2017-05-21     919.619995\n",
            "2017-05-28     941.859985\n",
            "2017-06-04     964.859985\n",
            "2017-06-11     949.830017\n",
            "2017-06-18     939.780029\n",
            "2017-06-25     950.630005\n",
            "2017-07-02     908.729980\n",
            "2017-07-09     898.700012\n",
            "2017-07-16     928.799988\n",
            "2017-07-23     953.419983\n",
            "2017-07-30     934.090027\n",
            "2017-08-06     923.650024\n",
            "2017-08-13     907.239990\n",
            "2017-08-20     910.669983\n",
            "2017-08-27     906.659973\n",
            "2017-09-03     913.809998\n",
            "2017-09-10     926.500000\n",
            "2017-09-17     920.289978\n",
            "2017-09-24     915.000000\n",
            "2017-10-01     920.969971\n",
            "2017-10-08     951.679993\n",
            "2017-10-15     972.599976\n",
            "2017-10-22     984.450012\n",
            "2017-10-29     968.450012\n",
            "2017-11-05    1016.640015\n",
            "2017-11-12    1025.900024\n",
            "2017-11-19    1019.090027\n",
            "2017-11-26    1018.380005\n",
            "2017-12-03    1010.169983\n",
            "2017-12-10     998.679993\n",
            "2017-12-17    1040.479980\n",
            "2017-12-24    1060.119995\n",
            "2017-12-31    1046.400024\n",
            "Freq: W-SUN, Name: Close, dtype: float64\n"
          ]
        }
      ]
    },
    {
      "cell_type": "markdown",
      "metadata": {
        "id": "uqln0s5DMI3I"
      },
      "source": [
        "Often we want to calculate monthly returns of a stock, based on prices on the last day of each month. To fetch those prices, we use the series.resample.agg() method:"
      ]
    },
    {
      "cell_type": "code",
      "metadata": {
        "colab": {
          "base_uri": "https://localhost:8080/"
        },
        "id": "A6FSYvqbHW97",
        "outputId": "bec5f907-82db-41ba-a2f3-55aac1756c70"
      },
      "source": [
        "last_day = aapl.resample('M').agg(lambda x: x[-1])\n",
        "print(last_day)"
      ],
      "execution_count": 151,
      "outputs": [
        {
          "output_type": "stream",
          "name": "stdout",
          "text": [
            "Date\n",
            "2017-01-31    28.597813\n",
            "2017-02-28    32.423557\n",
            "2017-03-31    34.002262\n",
            "2017-04-30    33.999886\n",
            "2017-05-31    36.305332\n",
            "2017-06-30    34.228165\n",
            "2017-07-31    35.347549\n",
            "2017-08-31    39.129726\n",
            "2017-09-30    36.772396\n",
            "2017-10-31    40.332245\n",
            "2017-11-30    41.150105\n",
            "2017-12-31    40.522739\n",
            "Freq: M, Name: Close, dtype: float64\n"
          ]
        }
      ]
    },
    {
      "cell_type": "code",
      "metadata": {
        "colab": {
          "base_uri": "https://localhost:8080/"
        },
        "id": "I3drOKrQNd5o",
        "outputId": "5e85c942-faae-4641-e38f-1a1f0a8542b3"
      },
      "source": [
        "last_day1 = gugol.resample('M').agg(lambda x: x[-1])\n",
        "print(last_day1)"
      ],
      "execution_count": 152,
      "outputs": [
        {
          "output_type": "stream",
          "name": "stdout",
          "text": [
            "Date\n",
            "2017-01-31     796.789978\n",
            "2017-02-28     823.210022\n",
            "2017-03-31     829.559998\n",
            "2017-04-30     905.960022\n",
            "2017-05-31     964.859985\n",
            "2017-06-30     908.729980\n",
            "2017-07-31     930.500000\n",
            "2017-08-31     939.330017\n",
            "2017-09-30     959.109985\n",
            "2017-10-31    1016.640015\n",
            "2017-11-30    1021.409973\n",
            "2017-12-31    1046.400024\n",
            "Freq: M, Name: Close, dtype: float64\n"
          ]
        }
      ]
    },
    {
      "cell_type": "markdown",
      "metadata": {
        "id": "uwomY3aXMR46"
      },
      "source": [
        "Or directly calculate the monthly rates of return using the data for the first day and the last day:"
      ]
    },
    {
      "cell_type": "code",
      "metadata": {
        "colab": {
          "base_uri": "https://localhost:8080/"
        },
        "id": "qK2NMJrNHW96",
        "outputId": "b6ef704f-d164-486d-ad77-4b8391d02e5e"
      },
      "source": [
        "monthly_return = aapl.resample('M').agg(lambda x: x[-1]/x[0] - 1)\n",
        "print(monthly_return)"
      ],
      "execution_count": null,
      "outputs": [
        {
          "output_type": "stream",
          "name": "stdout",
          "text": [
            "Date\n",
            "2017-01-31    0.044770\n",
            "2017-02-28    0.068613\n",
            "2017-03-31    0.027684\n",
            "2017-04-30   -0.000348\n",
            "2017-05-31    0.046463\n",
            "2017-06-30   -0.059799\n",
            "2017-07-31    0.036446\n",
            "2017-08-31    0.097261\n",
            "2017-09-30   -0.060530\n",
            "2017-10-31    0.099018\n",
            "2017-11-30    0.033422\n",
            "2017-12-31   -0.010640\n",
            "Freq: M, Name: Close, dtype: float64\n"
          ]
        }
      ]
    },
    {
      "cell_type": "code",
      "metadata": {
        "colab": {
          "base_uri": "https://localhost:8080/"
        },
        "id": "viKKKU51Nk5f",
        "outputId": "76576379-da49-4463-f149-9d37f94ef5e9"
      },
      "source": [
        "monthly_return1 = gugol.resample('M').agg(lambda x: x[-1]/x[0] - 1)\n",
        "print(monthly_return1)"
      ],
      "execution_count": 153,
      "outputs": [
        {
          "output_type": "stream",
          "name": "stdout",
          "text": [
            "Date\n",
            "2017-01-31    0.013547\n",
            "2017-02-28    0.034580\n",
            "2017-03-31   -0.006800\n",
            "2017-04-30    0.080389\n",
            "2017-05-31    0.057300\n",
            "2017-06-30   -0.060210\n",
            "2017-07-31    0.035384\n",
            "2017-08-31    0.009132\n",
            "2017-09-30    0.023225\n",
            "2017-10-31    0.066476\n",
            "2017-11-30   -0.003988\n",
            "2017-12-31    0.035865\n",
            "Freq: M, Name: Close, dtype: float64\n"
          ]
        }
      ]
    },
    {
      "cell_type": "markdown",
      "metadata": {
        "id": "_DYbMTFWMj8J"
      },
      "source": [
        "Series object also provides us some convenient methods to do some quick calculation."
      ]
    },
    {
      "cell_type": "code",
      "metadata": {
        "colab": {
          "base_uri": "https://localhost:8080/"
        },
        "id": "1Mxc0HwvHW98",
        "outputId": "d3f0a1bf-5cb9-453c-be0c-d672fd27802e"
      },
      "source": [
        "print(monthly_return.mean())\n",
        "print(monthly_return.std())\n",
        "print(monthly_return.max())"
      ],
      "execution_count": null,
      "outputs": [
        {
          "output_type": "stream",
          "name": "stdout",
          "text": [
            "0.02686331860727394\n",
            "0.052258487776588924\n",
            "0.09901841642506737\n"
          ]
        }
      ]
    },
    {
      "cell_type": "code",
      "metadata": {
        "colab": {
          "base_uri": "https://localhost:8080/"
        },
        "id": "hOw80JNMNuTg",
        "outputId": "97e264e4-f840-475d-afd6-93c5d7635eef"
      },
      "source": [
        "print(monthly_return1.mean())\n",
        "print(monthly_return1.std())\n",
        "print(monthly_return1.max())"
      ],
      "execution_count": 154,
      "outputs": [
        {
          "output_type": "stream",
          "name": "stdout",
          "text": [
            "0.023741652267563317\n",
            "0.03769325954470389\n",
            "0.08038880825352845\n"
          ]
        }
      ]
    },
    {
      "cell_type": "markdown",
      "metadata": {
        "id": "mn59J5dqMpqX"
      },
      "source": [
        "Another two methods frequently used on Series are .diff() and .pct_change(). The former calculates the difference between consecutive elements, and the latter calculates the percentage change."
      ]
    },
    {
      "cell_type": "code",
      "metadata": {
        "colab": {
          "base_uri": "https://localhost:8080/"
        },
        "id": "DupZTSqqHW99",
        "outputId": "141cb6b9-3a98-4204-b65c-1291020b7745"
      },
      "source": [
        "print(last_day.diff())\n",
        "print(last_day.pct_change())"
      ],
      "execution_count": null,
      "outputs": [
        {
          "output_type": "stream",
          "name": "stdout",
          "text": [
            "Date\n",
            "2017-01-31         NaN\n",
            "2017-02-28    3.825745\n",
            "2017-03-31    1.578693\n",
            "2017-04-30   -0.002365\n",
            "2017-05-31    2.305443\n",
            "2017-06-30   -2.077160\n",
            "2017-07-31    1.119385\n",
            "2017-08-31    3.782162\n",
            "2017-09-30   -2.357327\n",
            "2017-10-31    3.559849\n",
            "2017-11-30    0.817856\n",
            "2017-12-31   -0.627361\n",
            "Freq: M, Name: Close, dtype: float64\n",
            "Date\n",
            "2017-01-31         NaN\n",
            "2017-02-28    0.133778\n",
            "2017-03-31    0.048690\n",
            "2017-04-30   -0.000070\n",
            "2017-05-31    0.067807\n",
            "2017-06-30   -0.057214\n",
            "2017-07-31    0.032704\n",
            "2017-08-31    0.106999\n",
            "2017-09-30   -0.060244\n",
            "2017-10-31    0.096808\n",
            "2017-11-30    0.020278\n",
            "2017-12-31   -0.015246\n",
            "Freq: M, Name: Close, dtype: float64\n"
          ]
        }
      ]
    },
    {
      "cell_type": "code",
      "metadata": {
        "colab": {
          "base_uri": "https://localhost:8080/"
        },
        "id": "lk1wjqAeN3VI",
        "outputId": "206d66f3-0eb2-4782-af07-370c921f8b57"
      },
      "source": [
        "print(last_day1.diff())\n",
        "print(last_day1.pct_change())"
      ],
      "execution_count": 155,
      "outputs": [
        {
          "output_type": "stream",
          "name": "stdout",
          "text": [
            "Date\n",
            "2017-01-31          NaN\n",
            "2017-02-28    26.420044\n",
            "2017-03-31     6.349976\n",
            "2017-04-30    76.400024\n",
            "2017-05-31    58.899963\n",
            "2017-06-30   -56.130005\n",
            "2017-07-31    21.770020\n",
            "2017-08-31     8.830017\n",
            "2017-09-30    19.779968\n",
            "2017-10-31    57.530029\n",
            "2017-11-30     4.769958\n",
            "2017-12-31    24.990051\n",
            "Freq: M, Name: Close, dtype: float64\n",
            "Date\n",
            "2017-01-31         NaN\n",
            "2017-02-28    0.033158\n",
            "2017-03-31    0.007714\n",
            "2017-04-30    0.092097\n",
            "2017-05-31    0.065014\n",
            "2017-06-30   -0.058174\n",
            "2017-07-31    0.023957\n",
            "2017-08-31    0.009490\n",
            "2017-09-30    0.021058\n",
            "2017-10-31    0.059983\n",
            "2017-11-30    0.004692\n",
            "2017-12-31    0.024466\n",
            "Freq: M, Name: Close, dtype: float64\n"
          ]
        }
      ]
    },
    {
      "cell_type": "markdown",
      "metadata": {
        "id": "RaMAOFepM6Io"
      },
      "source": [
        "Notice that we induced a NaN value while calculating percentage changes i.e. returns.\n",
        "\n",
        "When dealing with NaN values, we usually either removing the data point or fill it with a specific value. Here we fill it with 0:"
      ]
    },
    {
      "cell_type": "code",
      "metadata": {
        "colab": {
          "base_uri": "https://localhost:8080/"
        },
        "id": "-xyLb3A3HW99",
        "outputId": "a6330868-4c3a-4e73-ac76-d4ca68aea9b3"
      },
      "source": [
        "daily_return = last_day.pct_change()\n",
        "print(daily_return.fillna(0))"
      ],
      "execution_count": 158,
      "outputs": [
        {
          "output_type": "stream",
          "name": "stdout",
          "text": [
            "Date\n",
            "2017-01-31    0.000000\n",
            "2017-02-28    0.133778\n",
            "2017-03-31    0.048690\n",
            "2017-04-30   -0.000070\n",
            "2017-05-31    0.067807\n",
            "2017-06-30   -0.057214\n",
            "2017-07-31    0.032704\n",
            "2017-08-31    0.107000\n",
            "2017-09-30   -0.060244\n",
            "2017-10-31    0.096808\n",
            "2017-11-30    0.020278\n",
            "2017-12-31   -0.015246\n",
            "Freq: M, Name: Close, dtype: float64\n"
          ]
        }
      ]
    },
    {
      "cell_type": "code",
      "metadata": {
        "colab": {
          "base_uri": "https://localhost:8080/"
        },
        "id": "VSKEX00qOA3O",
        "outputId": "e1c90244-bb08-404e-e1b2-f68478662f26"
      },
      "source": [
        "daily_return1 = last_day1.pct_change()\n",
        "print(daily_return1.fillna(0))"
      ],
      "execution_count": 156,
      "outputs": [
        {
          "output_type": "stream",
          "name": "stdout",
          "text": [
            "Date\n",
            "2017-01-31    0.000000\n",
            "2017-02-28    0.033158\n",
            "2017-03-31    0.007714\n",
            "2017-04-30    0.092097\n",
            "2017-05-31    0.065014\n",
            "2017-06-30   -0.058174\n",
            "2017-07-31    0.023957\n",
            "2017-08-31    0.009490\n",
            "2017-09-30    0.021058\n",
            "2017-10-31    0.059983\n",
            "2017-11-30    0.004692\n",
            "2017-12-31    0.024466\n",
            "Freq: M, Name: Close, dtype: float64\n"
          ]
        }
      ]
    },
    {
      "cell_type": "markdown",
      "metadata": {
        "id": "BYS10Om1NQVC"
      },
      "source": [
        "Alternatively, we can fill a NaN with the next fitted value. This is called 'backward fill', or 'bfill' in short:"
      ]
    },
    {
      "cell_type": "code",
      "metadata": {
        "colab": {
          "base_uri": "https://localhost:8080/"
        },
        "id": "J513kHeKHW9-",
        "outputId": "3985f76e-dc82-4424-f26f-95b80bbd6732"
      },
      "source": [
        "daily_return = last_day.pct_change()\n",
        "print(daily_return.fillna(method = 'bfill'))"
      ],
      "execution_count": 159,
      "outputs": [
        {
          "output_type": "stream",
          "name": "stdout",
          "text": [
            "Date\n",
            "2017-01-31    0.133778\n",
            "2017-02-28    0.133778\n",
            "2017-03-31    0.048690\n",
            "2017-04-30   -0.000070\n",
            "2017-05-31    0.067807\n",
            "2017-06-30   -0.057214\n",
            "2017-07-31    0.032704\n",
            "2017-08-31    0.107000\n",
            "2017-09-30   -0.060244\n",
            "2017-10-31    0.096808\n",
            "2017-11-30    0.020278\n",
            "2017-12-31   -0.015246\n",
            "Freq: M, Name: Close, dtype: float64\n"
          ]
        }
      ]
    },
    {
      "cell_type": "code",
      "metadata": {
        "colab": {
          "base_uri": "https://localhost:8080/"
        },
        "id": "lvl-bIGMOLrC",
        "outputId": "19ea913c-6366-4d95-a43e-0a255178d45d"
      },
      "source": [
        "daily_return1 = last_day1.pct_change()\n",
        "print(daily_return1.fillna(method = 'bfill'))"
      ],
      "execution_count": 160,
      "outputs": [
        {
          "output_type": "stream",
          "name": "stdout",
          "text": [
            "Date\n",
            "2017-01-31    0.033158\n",
            "2017-02-28    0.033158\n",
            "2017-03-31    0.007714\n",
            "2017-04-30    0.092097\n",
            "2017-05-31    0.065014\n",
            "2017-06-30   -0.058174\n",
            "2017-07-31    0.023957\n",
            "2017-08-31    0.009490\n",
            "2017-09-30    0.021058\n",
            "2017-10-31    0.059983\n",
            "2017-11-30    0.004692\n",
            "2017-12-31    0.024466\n",
            "Freq: M, Name: Close, dtype: float64\n"
          ]
        }
      ]
    },
    {
      "cell_type": "markdown",
      "metadata": {
        "id": "bj8QUSgdNepf"
      },
      "source": [
        "As expected, since there is a 'backward fill' method, there must be a 'forward fill' method, or 'ffill' in short. However we can't use it here because the NaN is the first value.\n",
        "\n",
        "We can also simply remove NaN values by **_.dropna()_**"
      ]
    },
    {
      "cell_type": "code",
      "metadata": {
        "colab": {
          "base_uri": "https://localhost:8080/"
        },
        "id": "WG5ux1lqHW9-",
        "outputId": "60ccb17b-13ae-4fc5-e06d-3978e124e206"
      },
      "source": [
        "daily_return = last_day.pct_change()\n",
        "daily_return.dropna()"
      ],
      "execution_count": 161,
      "outputs": [
        {
          "output_type": "execute_result",
          "data": {
            "text/plain": [
              "Date\n",
              "2017-02-28    0.133778\n",
              "2017-03-31    0.048690\n",
              "2017-04-30   -0.000070\n",
              "2017-05-31    0.067807\n",
              "2017-06-30   -0.057214\n",
              "2017-07-31    0.032704\n",
              "2017-08-31    0.107000\n",
              "2017-09-30   -0.060244\n",
              "2017-10-31    0.096808\n",
              "2017-11-30    0.020278\n",
              "2017-12-31   -0.015246\n",
              "Freq: M, Name: Close, dtype: float64"
            ]
          },
          "metadata": {},
          "execution_count": 161
        }
      ]
    },
    {
      "cell_type": "code",
      "metadata": {
        "colab": {
          "base_uri": "https://localhost:8080/"
        },
        "id": "f-pO5QEEOYOy",
        "outputId": "78358c97-9828-4f66-a62c-ca2c5fd31eec"
      },
      "source": [
        "daily_return1 = last_day1.pct_change()\n",
        "daily_return1.dropna()"
      ],
      "execution_count": 162,
      "outputs": [
        {
          "output_type": "execute_result",
          "data": {
            "text/plain": [
              "Date\n",
              "2017-02-28    0.033158\n",
              "2017-03-31    0.007714\n",
              "2017-04-30    0.092097\n",
              "2017-05-31    0.065014\n",
              "2017-06-30   -0.058174\n",
              "2017-07-31    0.023957\n",
              "2017-08-31    0.009490\n",
              "2017-09-30    0.021058\n",
              "2017-10-31    0.059983\n",
              "2017-11-30    0.004692\n",
              "2017-12-31    0.024466\n",
              "Freq: M, Name: Close, dtype: float64"
            ]
          },
          "metadata": {},
          "execution_count": 162
        }
      ]
    },
    {
      "cell_type": "markdown",
      "metadata": {
        "id": "nQH2eBWkNjdC"
      },
      "source": [
        "# DataFrame\n",
        "The **DataFrame** is the most commonly used data structure in Pandas. It is essentially a table, just like an Excel spreadsheet.\n",
        "\n",
        "More precisely, a DataFrame is a collection of Series objects, each of which may contain different data types. A DataFrame can be created from various data types: dictionary, 2-D numpy.ndarray, a Series or another DataFrame.\n",
        "\n",
        "## Create DataFrames\n",
        "The most common method of creating a DataFrame is passing a dictionary:"
      ]
    },
    {
      "cell_type": "code",
      "metadata": {
        "colab": {
          "base_uri": "https://localhost:8080/"
        },
        "id": "vd5Wf1ohHW9-",
        "outputId": "deb75031-3d00-4580-c96d-42752ed7df47"
      },
      "source": [
        "import pandas as pd\n",
        "\n",
        "dict = {'AAPL': [143.5, 144.09, 142.73, 144.18, 143.77],'GOOG':[898.7, 911.71, 906.69, 918.59, 926.99],\n",
        "        'IBM':[155.58, 153.67, 152.36, 152.94, 153.49]}\n",
        "data_index = pd.date_range('2017-07-03',periods = 5, freq = 'D')\n",
        "df = pd.DataFrame(dict, index = data_index)\n",
        "print(df)"
      ],
      "execution_count": 166,
      "outputs": [
        {
          "output_type": "stream",
          "name": "stdout",
          "text": [
            "              AAPL    GOOG     IBM\n",
            "2017-07-03  143.50  898.70  155.58\n",
            "2017-07-04  144.09  911.71  153.67\n",
            "2017-07-05  142.73  906.69  152.36\n",
            "2017-07-06  144.18  918.59  152.94\n",
            "2017-07-07  143.77  926.99  153.49\n"
          ]
        }
      ]
    },
    {
      "cell_type": "code",
      "metadata": {
        "colab": {
          "base_uri": "https://localhost:8080/"
        },
        "id": "3xUtLw0GSWjN",
        "outputId": "529c70e0-e8a2-4e2e-bb7f-fa7451ff9071"
      },
      "source": [
        "dict1 = {'AAPL': [221.6, 144.09, 359.1, 44.18, 243.77],'GOOG':[698.7, 911.71, 666.6, 555.5, 426.99],\n",
        "        'IBM':[111.1, 222.2, 152.36, 352.94, 53.49]}\n",
        "data_index1 = pd.date_range('2018-01-14',periods = 5, freq = 'D')\n",
        "df1 = pd.DataFrame(dict1, index = data_index1)\n",
        "print(df1)"
      ],
      "execution_count": 167,
      "outputs": [
        {
          "output_type": "stream",
          "name": "stdout",
          "text": [
            "              AAPL    GOOG     IBM\n",
            "2018-01-14  221.60  698.70  111.10\n",
            "2018-01-15  144.09  911.71  222.20\n",
            "2018-01-16  359.10  666.60  152.36\n",
            "2018-01-17   44.18  555.50  352.94\n",
            "2018-01-18  243.77  426.99   53.49\n"
          ]
        }
      ]
    },
    {
      "cell_type": "markdown",
      "metadata": {
        "id": "0uYmLQTgOPnX"
      },
      "source": [
        "## Manipulating DataFrames\n",
        "We can fetch values in a DataFrame by columns and index. Each column in a DataFrame is essentially a Pandas Series. We can fetch a column by square brackets: **df['column_name']**\n",
        "\n",
        "If a column name contains no spaces, then we can also use df.column_name to fetch a column:"
      ]
    },
    {
      "cell_type": "code",
      "metadata": {
        "colab": {
          "base_uri": "https://localhost:8080/"
        },
        "id": "2pB2f7lBHW9_",
        "outputId": "d4443e6f-539f-4ab7-98c2-97641ef74776"
      },
      "source": [
        "df = aapl_table\n",
        "print(df.Close.tail(5))\n",
        "print(df['Volume'].tail(5))"
      ],
      "execution_count": 170,
      "outputs": [
        {
          "output_type": "stream",
          "name": "stdout",
          "text": [
            "Date\n",
            "2017-12-22    41.906776\n",
            "2017-12-26    40.843597\n",
            "2017-12-27    40.850780\n",
            "2017-12-28    40.965717\n",
            "2017-12-29    40.522739\n",
            "Name: Close, dtype: float64\n",
            "Date\n",
            "2017-12-22     65397600\n",
            "2017-12-26    132742000\n",
            "2017-12-27     85992800\n",
            "2017-12-28     65920800\n",
            "2017-12-29    103999600\n",
            "Name: Volume, dtype: int64\n"
          ]
        }
      ]
    },
    {
      "cell_type": "code",
      "metadata": {
        "colab": {
          "base_uri": "https://localhost:8080/"
        },
        "id": "Ne2ET4wdUC8o",
        "outputId": "839eab86-6378-4b95-d64d-1e3ac415c4df"
      },
      "source": [
        "df1 = gugol_table\n",
        "print(df1.Close.tail(5))\n",
        "print(df1['Volume'].tail(5))"
      ],
      "execution_count": 168,
      "outputs": [
        {
          "output_type": "stream",
          "name": "stdout",
          "text": [
            "Date\n",
            "2017-12-22    1060.119995\n",
            "2017-12-26    1056.739990\n",
            "2017-12-27    1049.369995\n",
            "2017-12-28    1048.140015\n",
            "2017-12-29    1046.400024\n",
            "Name: Close, dtype: float64\n",
            "Date\n",
            "2017-12-22     755100\n",
            "2017-12-26     760600\n",
            "2017-12-27    1271900\n",
            "2017-12-28     837100\n",
            "2017-12-29     887500\n",
            "Name: Volume, dtype: int64\n"
          ]
        }
      ]
    },
    {
      "cell_type": "markdown",
      "metadata": {
        "id": "z0ugOel9O4-P"
      },
      "source": [
        "All the methods we applied to a Series index such as iloc[], loc[] and resampling methods, can also be applied to a DataFrame:"
      ]
    },
    {
      "cell_type": "code",
      "metadata": {
        "colab": {
          "base_uri": "https://localhost:8080/"
        },
        "id": "_8dfjkedHW9_",
        "outputId": "6158523e-5813-4799-fec6-c7450bcdd460"
      },
      "source": [
        "aapl_2016 = df['2016']\n",
        "aapl_month = aapl_2016.resample('M').agg(lambda x: x[-1])\n",
        "print(aapl_month)"
      ],
      "execution_count": 171,
      "outputs": [
        {
          "output_type": "stream",
          "name": "stdout",
          "text": [
            "                 Open       High        Low  ...     Volume  Dividends  Stock Splits\n",
            "Date                                         ...                                    \n",
            "2016-01-31  21.852384  22.440247  21.750948  ...  257666000        0.0             0\n",
            "2016-02-29  22.450755  22.768302  22.402081  ...  140865200        0.0             0\n",
            "2016-03-31  25.431522  25.473243  25.236821  ...  103553600        0.0             0\n",
            "2016-04-30  21.785535  21.954739  21.442493  ...  274126000        0.0             0\n",
            "2016-05-31  23.226409  23.412967  23.044516  ...  169228800        0.0             0\n",
            "2016-06-30  22.023110  22.333260  21.990462  ...  143345600        0.0             0\n",
            "2016-07-31  24.296778  24.380729  24.177847  ...  110934800        0.0             0\n",
            "2016-08-31  24.773059  24.986417  24.768369  ...  118649600        0.0             0\n",
            "2016-09-30  26.367384  26.580743  26.212641  ...  145516400        0.0             0\n",
            "2016-10-31  26.646398  26.782385  26.540890  ...  105677600        0.0             0\n",
            "2016-11-30  26.300088  26.441486  25.986654  ...  144649200        0.0             0\n",
            "2016-12-31  27.490197  27.619811  27.202687  ...  122345200        0.0             0\n",
            "\n",
            "[12 rows x 7 columns]\n"
          ]
        }
      ]
    },
    {
      "cell_type": "code",
      "metadata": {
        "colab": {
          "base_uri": "https://localhost:8080/"
        },
        "id": "YC_9jW0QU4iu",
        "outputId": "1ed3f184-f96e-41e7-c228-77db6cd85ae6"
      },
      "source": [
        "gugol_2016 = df1['2016']\n",
        "gugol_month = gugol_2016.resample('M').agg(lambda x: x[-1])\n",
        "print(gugol_month)"
      ],
      "execution_count": 172,
      "outputs": [
        {
          "output_type": "stream",
          "name": "stdout",
          "text": [
            "                  Open        High  ...  Dividends  Stock Splits\n",
            "Date                                ...                         \n",
            "2016-01-31  731.530029  744.989990  ...          0             0\n",
            "2016-02-29  700.320007  710.890015  ...          0             0\n",
            "2016-03-31  749.250000  750.849976  ...          0             0\n",
            "2016-04-30  690.700012  697.619995  ...          0             0\n",
            "2016-05-31  731.739990  739.729980  ...          0             0\n",
            "2016-06-30  685.469971  692.320007  ...          0             0\n",
            "2016-07-31  772.710022  778.549988  ...          0             0\n",
            "2016-08-31  767.010010  769.090027  ...          0             0\n",
            "2016-09-30  776.330017  780.940002  ...          0             0\n",
            "2016-10-31  795.469971  796.859985  ...          0             0\n",
            "2016-11-30  770.070007  772.989990  ...          0             0\n",
            "2016-12-31  782.750000  782.780029  ...          0             0\n",
            "\n",
            "[12 rows x 7 columns]\n"
          ]
        }
      ]
    },
    {
      "cell_type": "markdown",
      "metadata": {
        "id": "CqrbrbFZPTJe"
      },
      "source": [
        "We may select certain columns of a DataFrame using their names:"
      ]
    },
    {
      "cell_type": "code",
      "metadata": {
        "colab": {
          "base_uri": "https://localhost:8080/"
        },
        "id": "7bQGeyCAHW9_",
        "outputId": "da694cd6-0ec9-473c-9c94-24e30d4104c5"
      },
      "source": [
        "aapl_bar = aapl_month[['Open', 'High', 'Low', 'Close']]\n",
        "print(aapl_bar)"
      ],
      "execution_count": 173,
      "outputs": [
        {
          "output_type": "stream",
          "name": "stdout",
          "text": [
            "                 Open       High        Low      Close\n",
            "Date                                                  \n",
            "2016-01-31  21.852384  22.440247  21.750948  22.440247\n",
            "2016-02-29  22.450755  22.768302  22.402081  22.411352\n",
            "2016-03-31  25.431522  25.473243  25.236821  25.262318\n",
            "2016-04-30  21.785535  21.954739  21.442493  21.727589\n",
            "2016-05-31  23.226409  23.412967  23.044516  23.287041\n",
            "2016-06-30  22.023110  22.333260  21.990462  22.293617\n",
            "2016-07-31  24.296778  24.380729  24.177847  24.301441\n",
            "2016-08-31  24.773059  24.986417  24.768369  24.876221\n",
            "2016-09-30  26.367384  26.580743  26.212641  26.505716\n",
            "2016-10-31  26.646398  26.782385  26.540890  26.620607\n",
            "2016-11-30  26.300088  26.441486  25.986654  26.045570\n",
            "2016-12-31  27.490197  27.619811  27.202687  27.294596\n"
          ]
        }
      ]
    },
    {
      "cell_type": "code",
      "metadata": {
        "colab": {
          "base_uri": "https://localhost:8080/"
        },
        "id": "eNtX4hpBVEdo",
        "outputId": "6655726c-a284-40ad-b40b-6122870b5b36"
      },
      "source": [
        "gugol_bar = gugol_month[['Open', 'High', 'Low', 'Close']]\n",
        "print(gugol_bar)"
      ],
      "execution_count": 174,
      "outputs": [
        {
          "output_type": "stream",
          "name": "stdout",
          "text": [
            "                  Open        High         Low       Close\n",
            "Date                                                      \n",
            "2016-01-31  731.530029  744.989990  726.799988  742.950012\n",
            "2016-02-29  700.320007  710.890015  697.679993  697.770020\n",
            "2016-03-31  749.250000  750.849976  740.940002  744.950012\n",
            "2016-04-30  690.700012  697.619995  689.000000  693.010010\n",
            "2016-05-31  731.739990  739.729980  731.260010  735.719971\n",
            "2016-06-30  685.469971  692.320007  683.650024  692.099976\n",
            "2016-07-31  772.710022  778.549988  766.770020  768.789978\n",
            "2016-08-31  767.010010  769.090027  765.380005  767.049988\n",
            "2016-09-30  776.330017  780.940002  774.090027  777.289978\n",
            "2016-10-31  795.469971  796.859985  784.000000  784.539978\n",
            "2016-11-30  770.070007  772.989990  754.830017  758.039978\n",
            "2016-12-31  782.750000  782.780029  770.409973  771.820007\n"
          ]
        }
      ]
    },
    {
      "cell_type": "markdown",
      "metadata": {
        "id": "8CQaZCAQP68O"
      },
      "source": [
        "We can even specify both rows and columns using loc[]. The row indices and column names are separated by a comma:"
      ]
    },
    {
      "cell_type": "code",
      "metadata": {
        "colab": {
          "base_uri": "https://localhost:8080/"
        },
        "id": "YjWWiHVpHW-A",
        "outputId": "01fc82dc-9671-43f2-df82-8a5762c19e3e"
      },
      "source": [
        "print(aapl_month.loc['2016-03':'2016-06',['Open', 'High', 'Low', 'Close']])"
      ],
      "execution_count": 175,
      "outputs": [
        {
          "output_type": "stream",
          "name": "stdout",
          "text": [
            "                 Open       High        Low      Close\n",
            "Date                                                  \n",
            "2016-03-31  25.431522  25.473243  25.236821  25.262318\n",
            "2016-04-30  21.785535  21.954739  21.442493  21.727589\n",
            "2016-05-31  23.226409  23.412967  23.044516  23.287041\n",
            "2016-06-30  22.023110  22.333260  21.990462  22.293617\n"
          ]
        }
      ]
    },
    {
      "cell_type": "code",
      "metadata": {
        "colab": {
          "base_uri": "https://localhost:8080/"
        },
        "id": "gAIsJfhlVUyK",
        "outputId": "aaf4c84a-5e53-41f7-fbae-bb2893eacbc0"
      },
      "source": [
        "print(gugol_month.loc['2016-03':'2016-06',['Open', 'High', 'Low', 'Close']])"
      ],
      "execution_count": 176,
      "outputs": [
        {
          "output_type": "stream",
          "name": "stdout",
          "text": [
            "                  Open        High         Low       Close\n",
            "Date                                                      \n",
            "2016-03-31  749.250000  750.849976  740.940002  744.950012\n",
            "2016-04-30  690.700012  697.619995  689.000000  693.010010\n",
            "2016-05-31  731.739990  739.729980  731.260010  735.719971\n",
            "2016-06-30  685.469971  692.320007  683.650024  692.099976\n"
          ]
        }
      ]
    },
    {
      "cell_type": "markdown",
      "metadata": {
        "id": "Xcn_pHNLQBEH"
      },
      "source": [
        "The subset methods in DataFrame is quite useful. By writing logical statements in square brackets, we can make customized subsets:"
      ]
    },
    {
      "cell_type": "code",
      "metadata": {
        "colab": {
          "base_uri": "https://localhost:8080/"
        },
        "id": "RxKg4dObHW-A",
        "outputId": "3249dc4e-7066-4487-9f62-38d32dab59ea"
      },
      "source": [
        "import numpy as np\n",
        "\n",
        "above = aapl_bar[aapl_bar.Close > np.mean(aapl_bar.Close)]\n",
        "print(above)"
      ],
      "execution_count": 177,
      "outputs": [
        {
          "output_type": "stream",
          "name": "stdout",
          "text": [
            "                 Open       High        Low      Close\n",
            "Date                                                  \n",
            "2016-03-31  25.431522  25.473243  25.236821  25.262318\n",
            "2016-08-31  24.773059  24.986417  24.768369  24.876221\n",
            "2016-09-30  26.367384  26.580743  26.212641  26.505716\n",
            "2016-10-31  26.646398  26.782385  26.540890  26.620607\n",
            "2016-11-30  26.300088  26.441486  25.986654  26.045570\n",
            "2016-12-31  27.490197  27.619811  27.202687  27.294596\n"
          ]
        }
      ]
    },
    {
      "cell_type": "code",
      "metadata": {
        "colab": {
          "base_uri": "https://localhost:8080/"
        },
        "id": "J7Ph9gExVa7w",
        "outputId": "29fa785e-452b-4645-9892-72e96845ff1e"
      },
      "source": [
        "above1 = gugol_bar[gugol_bar.Close > np.mean(gugol_bar.Close)]\n",
        "print(above1)"
      ],
      "execution_count": 178,
      "outputs": [
        {
          "output_type": "stream",
          "name": "stdout",
          "text": [
            "                  Open        High         Low       Close\n",
            "Date                                                      \n",
            "2016-03-31  749.250000  750.849976  740.940002  744.950012\n",
            "2016-07-31  772.710022  778.549988  766.770020  768.789978\n",
            "2016-08-31  767.010010  769.090027  765.380005  767.049988\n",
            "2016-09-30  776.330017  780.940002  774.090027  777.289978\n",
            "2016-10-31  795.469971  796.859985  784.000000  784.539978\n",
            "2016-11-30  770.070007  772.989990  754.830017  758.039978\n",
            "2016-12-31  782.750000  782.780029  770.409973  771.820007\n"
          ]
        }
      ]
    },
    {
      "cell_type": "markdown",
      "metadata": {
        "id": "wcm_UadkQLL5"
      },
      "source": [
        "## Data Validation\n",
        "As mentioned, all methods that apply to a Series can also be applied to a DataFrame. Here we add a new column to an existing DataFrame:"
      ]
    },
    {
      "cell_type": "code",
      "metadata": {
        "colab": {
          "base_uri": "https://localhost:8080/"
        },
        "id": "jZXFdOVFHW-A",
        "outputId": "759148cc-4a50-4491-902a-8e4b49fdcd87"
      },
      "source": [
        "aapl_bar['rate_return'] = aapl_bar.Close.pct_change()\n",
        "print(aapl_bar)"
      ],
      "execution_count": 179,
      "outputs": [
        {
          "output_type": "stream",
          "name": "stdout",
          "text": [
            "                 Open       High        Low      Close  rate_return\n",
            "Date                                                               \n",
            "2016-01-31  21.852384  22.440247  21.750948  22.440247          NaN\n",
            "2016-02-29  22.450755  22.768302  22.402081  22.411352    -0.001288\n",
            "2016-03-31  25.431522  25.473243  25.236821  25.262318     0.127211\n",
            "2016-04-30  21.785535  21.954739  21.442493  21.727589    -0.139921\n",
            "2016-05-31  23.226409  23.412967  23.044516  23.287041     0.071773\n",
            "2016-06-30  22.023110  22.333260  21.990462  22.293617    -0.042660\n",
            "2016-07-31  24.296778  24.380729  24.177847  24.301441     0.090063\n",
            "2016-08-31  24.773059  24.986417  24.768369  24.876221     0.023652\n",
            "2016-09-30  26.367384  26.580743  26.212641  26.505716     0.065504\n",
            "2016-10-31  26.646398  26.782385  26.540890  26.620607     0.004335\n",
            "2016-11-30  26.300088  26.441486  25.986654  26.045570    -0.021601\n",
            "2016-12-31  27.490197  27.619811  27.202687  27.294596     0.047955\n"
          ]
        },
        {
          "output_type": "stream",
          "name": "stderr",
          "text": [
            "/usr/local/lib/python3.7/dist-packages/ipykernel_launcher.py:1: SettingWithCopyWarning: \n",
            "A value is trying to be set on a copy of a slice from a DataFrame.\n",
            "Try using .loc[row_indexer,col_indexer] = value instead\n",
            "\n",
            "See the caveats in the documentation: https://pandas.pydata.org/pandas-docs/stable/user_guide/indexing.html#returning-a-view-versus-a-copy\n",
            "  \"\"\"Entry point for launching an IPython kernel.\n"
          ]
        }
      ]
    },
    {
      "cell_type": "code",
      "metadata": {
        "colab": {
          "base_uri": "https://localhost:8080/"
        },
        "id": "cu0qMBL6VoHL",
        "outputId": "355a9c0e-ade6-4fbc-aae8-c782134ff6b1"
      },
      "source": [
        "gugol_bar['rate_return'] = gugol_bar.Close.pct_change()\n",
        "print(gugol_bar)"
      ],
      "execution_count": 180,
      "outputs": [
        {
          "output_type": "stream",
          "name": "stdout",
          "text": [
            "                  Open        High         Low       Close  rate_return\n",
            "Date                                                                   \n",
            "2016-01-31  731.530029  744.989990  726.799988  742.950012          NaN\n",
            "2016-02-29  700.320007  710.890015  697.679993  697.770020    -0.060812\n",
            "2016-03-31  749.250000  750.849976  740.940002  744.950012     0.067615\n",
            "2016-04-30  690.700012  697.619995  689.000000  693.010010    -0.069723\n",
            "2016-05-31  731.739990  739.729980  731.260010  735.719971     0.061630\n",
            "2016-06-30  685.469971  692.320007  683.650024  692.099976    -0.059289\n",
            "2016-07-31  772.710022  778.549988  766.770020  768.789978     0.110808\n",
            "2016-08-31  767.010010  769.090027  765.380005  767.049988    -0.002263\n",
            "2016-09-30  776.330017  780.940002  774.090027  777.289978     0.013350\n",
            "2016-10-31  795.469971  796.859985  784.000000  784.539978     0.009327\n",
            "2016-11-30  770.070007  772.989990  754.830017  758.039978    -0.033778\n",
            "2016-12-31  782.750000  782.780029  770.409973  771.820007     0.018178\n"
          ]
        },
        {
          "output_type": "stream",
          "name": "stderr",
          "text": [
            "/usr/local/lib/python3.7/dist-packages/ipykernel_launcher.py:1: SettingWithCopyWarning: \n",
            "A value is trying to be set on a copy of a slice from a DataFrame.\n",
            "Try using .loc[row_indexer,col_indexer] = value instead\n",
            "\n",
            "See the caveats in the documentation: https://pandas.pydata.org/pandas-docs/stable/user_guide/indexing.html#returning-a-view-versus-a-copy\n",
            "  \"\"\"Entry point for launching an IPython kernel.\n"
          ]
        }
      ]
    },
    {
      "cell_type": "markdown",
      "metadata": {
        "id": "_or6n5-LQUa-"
      },
      "source": [
        "Here the calculation introduced a NaN value. If the DataFrame is large, we would not be able to observe it. **isnull()** provides a convenient way to check abnormal values."
      ]
    },
    {
      "cell_type": "code",
      "metadata": {
        "colab": {
          "base_uri": "https://localhost:8080/"
        },
        "id": "V5wgmhIPHW-B",
        "outputId": "94e20013-1564-49f6-c493-7a0c8a6bee1c"
      },
      "source": [
        "missing = aapl_bar.isnull()\n",
        "print(missing)\n",
        "print('---------------------------------------------')\n",
        "print(missing.describe())"
      ],
      "execution_count": 182,
      "outputs": [
        {
          "output_type": "stream",
          "name": "stdout",
          "text": [
            "             Open   High    Low  Close  rate_return\n",
            "Date                                               \n",
            "2016-01-31  False  False  False  False         True\n",
            "2016-02-29  False  False  False  False        False\n",
            "2016-03-31  False  False  False  False        False\n",
            "2016-04-30  False  False  False  False        False\n",
            "2016-05-31  False  False  False  False        False\n",
            "2016-06-30  False  False  False  False        False\n",
            "2016-07-31  False  False  False  False        False\n",
            "2016-08-31  False  False  False  False        False\n",
            "2016-09-30  False  False  False  False        False\n",
            "2016-10-31  False  False  False  False        False\n",
            "2016-11-30  False  False  False  False        False\n",
            "2016-12-31  False  False  False  False        False\n",
            "---------------------------------------------\n",
            "         Open   High    Low  Close rate_return\n",
            "count      12     12     12     12          12\n",
            "unique      1      1      1      1           2\n",
            "top     False  False  False  False       False\n",
            "freq       12     12     12     12          11\n"
          ]
        }
      ]
    },
    {
      "cell_type": "code",
      "metadata": {
        "colab": {
          "base_uri": "https://localhost:8080/"
        },
        "id": "Y5la9Z9FV74c",
        "outputId": "1504724c-892e-4c2e-c52f-0722b28abc51"
      },
      "source": [
        "missing1 = gugol_bar.isnull()\n",
        "print(missing1)\n",
        "print('---------------------------------------------')\n",
        "print(missing1.describe())"
      ],
      "execution_count": 183,
      "outputs": [
        {
          "output_type": "stream",
          "name": "stdout",
          "text": [
            "             Open   High    Low  Close  rate_return\n",
            "Date                                               \n",
            "2016-01-31  False  False  False  False         True\n",
            "2016-02-29  False  False  False  False        False\n",
            "2016-03-31  False  False  False  False        False\n",
            "2016-04-30  False  False  False  False        False\n",
            "2016-05-31  False  False  False  False        False\n",
            "2016-06-30  False  False  False  False        False\n",
            "2016-07-31  False  False  False  False        False\n",
            "2016-08-31  False  False  False  False        False\n",
            "2016-09-30  False  False  False  False        False\n",
            "2016-10-31  False  False  False  False        False\n",
            "2016-11-30  False  False  False  False        False\n",
            "2016-12-31  False  False  False  False        False\n",
            "---------------------------------------------\n",
            "         Open   High    Low  Close rate_return\n",
            "count      12     12     12     12          12\n",
            "unique      1      1      1      1           2\n",
            "top     False  False  False  False       False\n",
            "freq       12     12     12     12          11\n"
          ]
        }
      ]
    },
    {
      "cell_type": "markdown",
      "metadata": {
        "id": "d6KFV4i0QfLW"
      },
      "source": [
        "The row labelled \"unique\" indicates the number of unique values in each column. Since the \"rate_return\" column has 2 unique values, it has at least one missing value.\n",
        "\n",
        "We can deduce the number of missing values by comparing \"count\" with \"freq\". There are 12 counts and 11 False values, so there is one True value which corresponds to the missing value.\n",
        "\n",
        "We can also find the rows with missing values easily:"
      ]
    },
    {
      "cell_type": "code",
      "metadata": {
        "colab": {
          "base_uri": "https://localhost:8080/"
        },
        "id": "Eo0ZAhCsHW-B",
        "outputId": "452c8f04-8d9e-42d5-eefd-d9cb5664aaf7"
      },
      "source": [
        "print(missing[missing.rate_return == True])"
      ],
      "execution_count": 184,
      "outputs": [
        {
          "output_type": "stream",
          "name": "stdout",
          "text": [
            "             Open   High    Low  Close  rate_return\n",
            "Date                                               \n",
            "2016-01-31  False  False  False  False         True\n"
          ]
        }
      ]
    },
    {
      "cell_type": "code",
      "metadata": {
        "colab": {
          "base_uri": "https://localhost:8080/"
        },
        "id": "kk6NVD5xWDir",
        "outputId": "c0a6d474-c9b0-4f7d-acd1-701a70488127"
      },
      "source": [
        "print(missing1[missing1.rate_return == True])"
      ],
      "execution_count": 185,
      "outputs": [
        {
          "output_type": "stream",
          "name": "stdout",
          "text": [
            "             Open   High    Low  Close  rate_return\n",
            "Date                                               \n",
            "2016-01-31  False  False  False  False         True\n"
          ]
        }
      ]
    },
    {
      "cell_type": "markdown",
      "metadata": {
        "id": "qgggpD8OQkZX"
      },
      "source": [
        "Usually when dealing with missing data, we either delete the whole row or fill it with some value. As we introduced in the Series chapter, the same method **dropna()** and **fillna()** can be applied to a DataFrame."
      ]
    },
    {
      "cell_type": "code",
      "metadata": {
        "colab": {
          "base_uri": "https://localhost:8080/"
        },
        "id": "j8PaIokjHW-B",
        "outputId": "aa2de4d4-e1ab-41b4-d800-d6f4a6de5562"
      },
      "source": [
        "drop = aapl_bar.dropna()\n",
        "print(drop)\n",
        "print('\\n--------------------------------------------------\\n')\n",
        "fill = aapl_bar.fillna(0)\n",
        "print(fill)"
      ],
      "execution_count": 186,
      "outputs": [
        {
          "output_type": "stream",
          "name": "stdout",
          "text": [
            "                 Open       High        Low      Close  rate_return\n",
            "Date                                                               \n",
            "2016-02-29  22.450755  22.768302  22.402081  22.411352    -0.001288\n",
            "2016-03-31  25.431522  25.473243  25.236821  25.262318     0.127211\n",
            "2016-04-30  21.785535  21.954739  21.442493  21.727589    -0.139921\n",
            "2016-05-31  23.226409  23.412967  23.044516  23.287041     0.071773\n",
            "2016-06-30  22.023110  22.333260  21.990462  22.293617    -0.042660\n",
            "2016-07-31  24.296778  24.380729  24.177847  24.301441     0.090063\n",
            "2016-08-31  24.773059  24.986417  24.768369  24.876221     0.023652\n",
            "2016-09-30  26.367384  26.580743  26.212641  26.505716     0.065504\n",
            "2016-10-31  26.646398  26.782385  26.540890  26.620607     0.004335\n",
            "2016-11-30  26.300088  26.441486  25.986654  26.045570    -0.021601\n",
            "2016-12-31  27.490197  27.619811  27.202687  27.294596     0.047955\n",
            "\n",
            "--------------------------------------------------\n",
            "\n",
            "                 Open       High        Low      Close  rate_return\n",
            "Date                                                               \n",
            "2016-01-31  21.852384  22.440247  21.750948  22.440247     0.000000\n",
            "2016-02-29  22.450755  22.768302  22.402081  22.411352    -0.001288\n",
            "2016-03-31  25.431522  25.473243  25.236821  25.262318     0.127211\n",
            "2016-04-30  21.785535  21.954739  21.442493  21.727589    -0.139921\n",
            "2016-05-31  23.226409  23.412967  23.044516  23.287041     0.071773\n",
            "2016-06-30  22.023110  22.333260  21.990462  22.293617    -0.042660\n",
            "2016-07-31  24.296778  24.380729  24.177847  24.301441     0.090063\n",
            "2016-08-31  24.773059  24.986417  24.768369  24.876221     0.023652\n",
            "2016-09-30  26.367384  26.580743  26.212641  26.505716     0.065504\n",
            "2016-10-31  26.646398  26.782385  26.540890  26.620607     0.004335\n",
            "2016-11-30  26.300088  26.441486  25.986654  26.045570    -0.021601\n",
            "2016-12-31  27.490197  27.619811  27.202687  27.294596     0.047955\n"
          ]
        }
      ]
    },
    {
      "cell_type": "code",
      "metadata": {
        "colab": {
          "base_uri": "https://localhost:8080/"
        },
        "id": "qy2p6Ya0WKfF",
        "outputId": "85c4e108-bb89-4710-85f2-fdd3b720a134"
      },
      "source": [
        "drop1 = gugol_bar.dropna()\n",
        "print(drop1)\n",
        "print('\\n--------------------------------------------------\\n')\n",
        "fill1 = gugol_bar.fillna(0)\n",
        "print(fill1)"
      ],
      "execution_count": 187,
      "outputs": [
        {
          "output_type": "stream",
          "name": "stdout",
          "text": [
            "                  Open        High         Low       Close  rate_return\n",
            "Date                                                                   \n",
            "2016-02-29  700.320007  710.890015  697.679993  697.770020    -0.060812\n",
            "2016-03-31  749.250000  750.849976  740.940002  744.950012     0.067615\n",
            "2016-04-30  690.700012  697.619995  689.000000  693.010010    -0.069723\n",
            "2016-05-31  731.739990  739.729980  731.260010  735.719971     0.061630\n",
            "2016-06-30  685.469971  692.320007  683.650024  692.099976    -0.059289\n",
            "2016-07-31  772.710022  778.549988  766.770020  768.789978     0.110808\n",
            "2016-08-31  767.010010  769.090027  765.380005  767.049988    -0.002263\n",
            "2016-09-30  776.330017  780.940002  774.090027  777.289978     0.013350\n",
            "2016-10-31  795.469971  796.859985  784.000000  784.539978     0.009327\n",
            "2016-11-30  770.070007  772.989990  754.830017  758.039978    -0.033778\n",
            "2016-12-31  782.750000  782.780029  770.409973  771.820007     0.018178\n",
            "\n",
            "--------------------------------------------------\n",
            "\n",
            "                  Open        High         Low       Close  rate_return\n",
            "Date                                                                   \n",
            "2016-01-31  731.530029  744.989990  726.799988  742.950012     0.000000\n",
            "2016-02-29  700.320007  710.890015  697.679993  697.770020    -0.060812\n",
            "2016-03-31  749.250000  750.849976  740.940002  744.950012     0.067615\n",
            "2016-04-30  690.700012  697.619995  689.000000  693.010010    -0.069723\n",
            "2016-05-31  731.739990  739.729980  731.260010  735.719971     0.061630\n",
            "2016-06-30  685.469971  692.320007  683.650024  692.099976    -0.059289\n",
            "2016-07-31  772.710022  778.549988  766.770020  768.789978     0.110808\n",
            "2016-08-31  767.010010  769.090027  765.380005  767.049988    -0.002263\n",
            "2016-09-30  776.330017  780.940002  774.090027  777.289978     0.013350\n",
            "2016-10-31  795.469971  796.859985  784.000000  784.539978     0.009327\n",
            "2016-11-30  770.070007  772.989990  754.830017  758.039978    -0.033778\n",
            "2016-12-31  782.750000  782.780029  770.409973  771.820007     0.018178\n"
          ]
        }
      ]
    },
    {
      "cell_type": "markdown",
      "metadata": {
        "id": "0tvoFlKWQxYG"
      },
      "source": [
        "## DataFrame Concat\n",
        "We have seen how to extract a Series from a dataFrame. Now we need to consider how to merge a Series or a DataFrame into another one.\n",
        "\n",
        "In Pandas, the function **concat()** allows us to merge multiple Series into a DataFrame:"
      ]
    },
    {
      "cell_type": "code",
      "metadata": {
        "colab": {
          "base_uri": "https://localhost:8080/"
        },
        "id": "uQrmLIWKHW-C",
        "outputId": "8284bbb5-985a-4677-f6b4-6132e2bf7757"
      },
      "source": [
        "s1 = pd.Series([143.5, 144.09, 142.73, 144.18, 143.77], name = 'AAPL')\n",
        "s2 = pd.Series([898.7, 911.71, 906.69, 918.59, 926.99], name = 'GOOG')\n",
        "data_frame = pd.concat([s1,s2], axis = 1)\n",
        "print(data_frame)"
      ],
      "execution_count": 188,
      "outputs": [
        {
          "output_type": "stream",
          "name": "stdout",
          "text": [
            "     AAPL    GOOG\n",
            "0  143.50  898.70\n",
            "1  144.09  911.71\n",
            "2  142.73  906.69\n",
            "3  144.18  918.59\n",
            "4  143.77  926.99\n"
          ]
        }
      ]
    },
    {
      "cell_type": "code",
      "metadata": {
        "colab": {
          "base_uri": "https://localhost:8080/"
        },
        "id": "nfj6zSKhXJIy",
        "outputId": "1e8bbe2c-57df-4548-a7f3-e6f171d878c9"
      },
      "source": [
        "s3 = pd.Series([111.1, 222.2, 152.36, 352.94, 53.49], name = 'IBM')\n",
        "s4 = pd.Series([398.7, 91.71, 96.69, 118.59, 526.99], name = 'ALM')\n",
        "data_frame1 = pd.concat([s3,s4], axis = 1)\n",
        "print(data_frame1)"
      ],
      "execution_count": 189,
      "outputs": [
        {
          "output_type": "stream",
          "name": "stdout",
          "text": [
            "      IBM     ALM\n",
            "0  111.10  398.70\n",
            "1  222.20   91.71\n",
            "2  152.36   96.69\n",
            "3  352.94  118.59\n",
            "4   53.49  526.99\n"
          ]
        }
      ]
    },
    {
      "cell_type": "markdown",
      "metadata": {
        "id": "3ojbNYJLR2vv"
      },
      "source": [
        "The \"axis = 1\" parameter will join two DataFrames by columns:"
      ]
    },
    {
      "cell_type": "code",
      "metadata": {
        "colab": {
          "base_uri": "https://localhost:8080/"
        },
        "id": "DJsaLd-cRoIm",
        "outputId": "5eecb75d-1d7d-47db-daba-e5fe5b0e009b"
      },
      "source": [
        "log_price = np.log(aapl_bar.Close)\n",
        "log_price.name = 'log_price'\n",
        "print(log_price)\n",
        "print('\\n---------------------- separate line--------------------\\n')\n",
        "concat = pd.concat([aapl_bar, log_price], axis = 1)\n",
        "print(concat)"
      ],
      "execution_count": null,
      "outputs": [
        {
          "output_type": "stream",
          "name": "stdout",
          "text": [
            "Date\n",
            "2016-01-31    3.110856\n",
            "2016-02-29    3.109568\n",
            "2016-03-31    3.229314\n",
            "2016-04-30    3.078583\n",
            "2016-05-31    3.147897\n",
            "2016-06-30    3.104301\n",
            "2016-07-31    3.190536\n",
            "2016-08-31    3.213912\n",
            "2016-09-30    3.277361\n",
            "2016-10-31    3.281686\n",
            "2016-11-30    3.259848\n",
            "2016-12-31    3.306689\n",
            "Freq: M, Name: log_price, dtype: float64\n",
            "\n",
            "---------------------- separate line--------------------\n",
            "\n",
            "                 Open       High        Low      Close  rate_return  log_price\n",
            "Date                                                                          \n",
            "2016-01-31  21.852388  22.440250  21.750952  22.440250          NaN   3.110856\n",
            "2016-02-29  22.450761  22.768308  22.402086  22.411358    -0.001288   3.109568\n",
            "2016-03-31  25.431520  25.473242  25.236819  25.262316     0.127210   3.229314\n",
            "2016-04-30  21.785529  21.954734  21.442488  21.727583    -0.139921   3.078583\n",
            "2016-05-31  23.226409  23.412967  23.044516  23.287041     0.071773   3.147897\n",
            "2016-06-30  22.023112  22.333262  21.990464  22.293619    -0.042660   3.104301\n",
            "2016-07-31  24.296780  24.380731  24.177849  24.301443     0.090063   3.190536\n",
            "2016-08-31  24.773054  24.986412  24.768364  24.876215     0.023652   3.213912\n",
            "2016-09-30  26.367388  26.580747  26.212645  26.505720     0.065505   3.277361\n",
            "2016-10-31  26.646396  26.782384  26.540888  26.620605     0.004334   3.281686\n",
            "2016-11-30  26.300094  26.441492  25.986660  26.045576    -0.021601   3.259848\n",
            "2016-12-31  27.490193  27.619807  27.202683  27.294592     0.047955   3.306689\n"
          ]
        }
      ]
    },
    {
      "cell_type": "code",
      "metadata": {
        "colab": {
          "base_uri": "https://localhost:8080/"
        },
        "id": "-QomzoOdYQti",
        "outputId": "7249cefa-6b8a-4d17-b738-bca41dc8ea26"
      },
      "source": [
        "log_price1 = np.log(gugol_bar.Close)\n",
        "log_price1.name = 'log_price'\n",
        "print(log_price1)\n",
        "print('\\n---------------------- separate line--------------------\\n')\n",
        "concat1 = pd.concat([gugol_bar, log_price1], axis = 1)\n",
        "print(concat1)"
      ],
      "execution_count": 190,
      "outputs": [
        {
          "output_type": "stream",
          "name": "stdout",
          "text": [
            "Date\n",
            "2016-01-31    6.610629\n",
            "2016-02-29    6.547890\n",
            "2016-03-31    6.613317\n",
            "2016-04-30    6.541044\n",
            "2016-05-31    6.600850\n",
            "2016-06-30    6.539730\n",
            "2016-07-31    6.644818\n",
            "2016-08-31    6.642552\n",
            "2016-09-30    6.655813\n",
            "2016-10-31    6.665098\n",
            "2016-11-30    6.630736\n",
            "2016-12-31    6.648751\n",
            "Freq: M, Name: log_price, dtype: float64\n",
            "\n",
            "---------------------- separate line--------------------\n",
            "\n",
            "                  Open        High  ...  rate_return  log_price\n",
            "Date                                ...                        \n",
            "2016-01-31  731.530029  744.989990  ...          NaN   6.610629\n",
            "2016-02-29  700.320007  710.890015  ...    -0.060812   6.547890\n",
            "2016-03-31  749.250000  750.849976  ...     0.067615   6.613317\n",
            "2016-04-30  690.700012  697.619995  ...    -0.069723   6.541044\n",
            "2016-05-31  731.739990  739.729980  ...     0.061630   6.600850\n",
            "2016-06-30  685.469971  692.320007  ...    -0.059289   6.539730\n",
            "2016-07-31  772.710022  778.549988  ...     0.110808   6.644818\n",
            "2016-08-31  767.010010  769.090027  ...    -0.002263   6.642552\n",
            "2016-09-30  776.330017  780.940002  ...     0.013350   6.655813\n",
            "2016-10-31  795.469971  796.859985  ...     0.009327   6.665098\n",
            "2016-11-30  770.070007  772.989990  ...    -0.033778   6.630736\n",
            "2016-12-31  782.750000  782.780029  ...     0.018178   6.648751\n",
            "\n",
            "[12 rows x 6 columns]\n"
          ]
        }
      ]
    },
    {
      "cell_type": "markdown",
      "metadata": {
        "id": "mIZz-FUyR_62"
      },
      "source": [
        "We can also join two DataFrames by rows. Consider these two DataFrames:"
      ]
    },
    {
      "cell_type": "code",
      "metadata": {
        "colab": {
          "base_uri": "https://localhost:8080/"
        },
        "id": "W7uXZptLHW-C",
        "outputId": "f8bfa4ce-8018-4150-e3f1-8abf3e200f0b"
      },
      "source": [
        "df_volume = aapl_table.loc['2016-10':'2017-04',['Volume', 'Stock Splits']].resample('M').agg(lambda x: x[-1])\n",
        "print(df_volume)\n",
        "print('\\n---------------------- separate line--------------------\\n')\n",
        "df_2017 = aapl_table.loc['2016-10':'2017-04',['Open', 'High', 'Low', 'Close']].resample('M').agg(lambda x: x[-1])\n",
        "print(df_2017)"
      ],
      "execution_count": 193,
      "outputs": [
        {
          "output_type": "stream",
          "name": "stdout",
          "text": [
            "               Volume  Stock Splits\n",
            "Date                               \n",
            "2016-10-31  105677600             0\n",
            "2016-11-30  144649200             0\n",
            "2016-12-31  122345200             0\n",
            "2017-01-31  196804000             0\n",
            "2017-02-28   93931600             0\n",
            "2017-03-31   78646800             0\n",
            "2017-04-30   83441600             0\n",
            "\n",
            "---------------------- separate line--------------------\n",
            "\n",
            "                 Open       High        Low      Close\n",
            "Date                                                  \n",
            "2016-10-31  26.646398  26.782385  26.540890  26.620607\n",
            "2016-11-30  26.300088  26.441486  25.986654  26.045570\n",
            "2016-12-31  27.490197  27.619811  27.202687  27.294596\n",
            "2017-01-31  28.550681  28.607239  28.425779  28.597813\n",
            "2017-02-28  32.444858  32.530065  32.354916  32.423557\n",
            "2017-03-31  34.016463  34.146641  33.848414  34.002262\n",
            "2017-04-30  34.104028  34.153733  33.909947  33.999886\n"
          ]
        }
      ]
    },
    {
      "cell_type": "code",
      "metadata": {
        "colab": {
          "base_uri": "https://localhost:8080/"
        },
        "id": "Uhcvp-9yYtEv",
        "outputId": "e08030f1-607f-4a7f-9df9-38d3e0570aae"
      },
      "source": [
        "df_volume1 = gugol_table.loc['2016-10':'2017-04',['Volume', 'Stock Splits']].resample('M').agg(lambda x: x[-1])\n",
        "print(df_volume1)\n",
        "print('\\n---------------------- separate line--------------------\\n')\n",
        "df_20171 = gugol_table.loc['2016-10':'2017-04',['Open', 'High', 'Low', 'Close']].resample('M').agg(lambda x: x[-1])\n",
        "print(df_20171)"
      ],
      "execution_count": 191,
      "outputs": [
        {
          "output_type": "stream",
          "name": "stdout",
          "text": [
            "             Volume  Stock Splits\n",
            "Date                             \n",
            "2016-10-31  2427300             0\n",
            "2016-11-30  2392900             0\n",
            "2016-12-31  1770000             0\n",
            "2017-01-31  2160600             0\n",
            "2017-02-28  2260800             0\n",
            "2017-03-31  1401900             0\n",
            "2017-04-30  3276300             0\n",
            "\n",
            "---------------------- separate line--------------------\n",
            "\n",
            "                  Open        High         Low       Close\n",
            "Date                                                      \n",
            "2016-10-31  795.469971  796.859985  784.000000  784.539978\n",
            "2016-11-30  770.070007  772.989990  754.830017  758.039978\n",
            "2016-12-31  782.750000  782.780029  770.409973  771.820007\n",
            "2017-01-31  796.859985  801.250000  790.520020  796.789978\n",
            "2017-02-28  825.609985  828.539978  820.200012  823.210022\n",
            "2017-03-31  828.969971  831.640015  827.390015  829.559998\n",
            "2017-04-30  910.659973  916.849976  905.770020  905.960022\n"
          ]
        }
      ]
    },
    {
      "cell_type": "markdown",
      "metadata": {
        "id": "iZk_C9aSSLeP"
      },
      "source": [
        "Now we merge the DataFrames with our DataFrame 'aapl_bar'"
      ]
    },
    {
      "cell_type": "code",
      "metadata": {
        "colab": {
          "base_uri": "https://localhost:8080/"
        },
        "id": "aFqmjokOHW-C",
        "outputId": "13f4fccc-77b0-4cef-f5b6-3e52298e28c2"
      },
      "source": [
        "concat = pd.concat([aapl_bar, df_volume], axis = 1)\n",
        "print(concat)"
      ],
      "execution_count": 194,
      "outputs": [
        {
          "output_type": "stream",
          "name": "stdout",
          "text": [
            "                 Open       High  ...       Volume  Stock Splits\n",
            "Date                              ...                           \n",
            "2016-01-31  21.852384  22.440247  ...          NaN           NaN\n",
            "2016-02-29  22.450755  22.768302  ...          NaN           NaN\n",
            "2016-03-31  25.431522  25.473243  ...          NaN           NaN\n",
            "2016-04-30  21.785535  21.954739  ...          NaN           NaN\n",
            "2016-05-31  23.226409  23.412967  ...          NaN           NaN\n",
            "2016-06-30  22.023110  22.333260  ...          NaN           NaN\n",
            "2016-07-31  24.296778  24.380729  ...          NaN           NaN\n",
            "2016-08-31  24.773059  24.986417  ...          NaN           NaN\n",
            "2016-09-30  26.367384  26.580743  ...          NaN           NaN\n",
            "2016-10-31  26.646398  26.782385  ...  105677600.0           0.0\n",
            "2016-11-30  26.300088  26.441486  ...  144649200.0           0.0\n",
            "2016-12-31  27.490197  27.619811  ...  122345200.0           0.0\n",
            "2017-01-31        NaN        NaN  ...  196804000.0           0.0\n",
            "2017-02-28        NaN        NaN  ...   93931600.0           0.0\n",
            "2017-03-31        NaN        NaN  ...   78646800.0           0.0\n",
            "2017-04-30        NaN        NaN  ...   83441600.0           0.0\n",
            "\n",
            "[16 rows x 7 columns]\n"
          ]
        }
      ]
    },
    {
      "cell_type": "code",
      "metadata": {
        "colab": {
          "base_uri": "https://localhost:8080/"
        },
        "id": "HoH_2ZXVZAW0",
        "outputId": "905346d3-28ff-4890-ac95-7ff605f40c9e"
      },
      "source": [
        "concat1 = pd.concat([gugol_bar, df_volume1], axis = 1)\n",
        "print(concat1)"
      ],
      "execution_count": 195,
      "outputs": [
        {
          "output_type": "stream",
          "name": "stdout",
          "text": [
            "                  Open        High  ...     Volume  Stock Splits\n",
            "Date                                ...                         \n",
            "2016-01-31  731.530029  744.989990  ...        NaN           NaN\n",
            "2016-02-29  700.320007  710.890015  ...        NaN           NaN\n",
            "2016-03-31  749.250000  750.849976  ...        NaN           NaN\n",
            "2016-04-30  690.700012  697.619995  ...        NaN           NaN\n",
            "2016-05-31  731.739990  739.729980  ...        NaN           NaN\n",
            "2016-06-30  685.469971  692.320007  ...        NaN           NaN\n",
            "2016-07-31  772.710022  778.549988  ...        NaN           NaN\n",
            "2016-08-31  767.010010  769.090027  ...        NaN           NaN\n",
            "2016-09-30  776.330017  780.940002  ...        NaN           NaN\n",
            "2016-10-31  795.469971  796.859985  ...  2427300.0           0.0\n",
            "2016-11-30  770.070007  772.989990  ...  2392900.0           0.0\n",
            "2016-12-31  782.750000  782.780029  ...  1770000.0           0.0\n",
            "2017-01-31         NaN         NaN  ...  2160600.0           0.0\n",
            "2017-02-28         NaN         NaN  ...  2260800.0           0.0\n",
            "2017-03-31         NaN         NaN  ...  1401900.0           0.0\n",
            "2017-04-30         NaN         NaN  ...  3276300.0           0.0\n",
            "\n",
            "[16 rows x 7 columns]\n"
          ]
        }
      ]
    },
    {
      "cell_type": "markdown",
      "metadata": {
        "id": "7yI3tgB4SR4O"
      },
      "source": [
        "By default the DataFrame are joined with all of the data. This default options results in zero information loss. We can also merge them by intersection, this is called 'inner join"
      ]
    },
    {
      "cell_type": "code",
      "metadata": {
        "colab": {
          "base_uri": "https://localhost:8080/"
        },
        "id": "31QGLyijHW-C",
        "outputId": "c93c7970-9331-4a0f-a007-5535a7313145"
      },
      "source": [
        "concat = pd.concat([aapl_bar,df_volume],axis = 1, join = 'inner')\n",
        "print(concat)"
      ],
      "execution_count": 196,
      "outputs": [
        {
          "output_type": "stream",
          "name": "stdout",
          "text": [
            "                 Open       High  ...     Volume  Stock Splits\n",
            "Date                              ...                         \n",
            "2016-10-31  26.646398  26.782385  ...  105677600             0\n",
            "2016-11-30  26.300088  26.441486  ...  144649200             0\n",
            "2016-12-31  27.490197  27.619811  ...  122345200             0\n",
            "\n",
            "[3 rows x 7 columns]\n"
          ]
        }
      ]
    },
    {
      "cell_type": "code",
      "metadata": {
        "colab": {
          "base_uri": "https://localhost:8080/"
        },
        "id": "lNpd2gk3ZIv2",
        "outputId": "b54b37c1-5748-48c3-c5ac-f4f3f2daf78d"
      },
      "source": [
        "concat1 = pd.concat([gugol_bar,df_volume1],axis = 1, join = 'inner')\n",
        "print(concat1)"
      ],
      "execution_count": 197,
      "outputs": [
        {
          "output_type": "stream",
          "name": "stdout",
          "text": [
            "                  Open        High  ...   Volume  Stock Splits\n",
            "Date                                ...                       \n",
            "2016-10-31  795.469971  796.859985  ...  2427300             0\n",
            "2016-11-30  770.070007  772.989990  ...  2392900             0\n",
            "2016-12-31  782.750000  782.780029  ...  1770000             0\n",
            "\n",
            "[3 rows x 7 columns]\n"
          ]
        }
      ]
    },
    {
      "cell_type": "markdown",
      "metadata": {
        "id": "oudcWMm5Sd0u"
      },
      "source": [
        "Only the intersection part was left if use 'inner join' method. Now let's try to append a DataFrame to another one:"
      ]
    },
    {
      "cell_type": "code",
      "metadata": {
        "colab": {
          "base_uri": "https://localhost:8080/"
        },
        "id": "lgw0qaOsHW-D",
        "outputId": "b09bb121-8f6a-40f4-8b4e-354325cb5852"
      },
      "source": [
        "append = aapl_bar.append(df_2017)\n",
        "print(append)"
      ],
      "execution_count": 198,
      "outputs": [
        {
          "output_type": "stream",
          "name": "stdout",
          "text": [
            "                 Open       High        Low      Close  rate_return\n",
            "Date                                                               \n",
            "2016-01-31  21.852384  22.440247  21.750948  22.440247          NaN\n",
            "2016-02-29  22.450755  22.768302  22.402081  22.411352    -0.001288\n",
            "2016-03-31  25.431522  25.473243  25.236821  25.262318     0.127211\n",
            "2016-04-30  21.785535  21.954739  21.442493  21.727589    -0.139921\n",
            "2016-05-31  23.226409  23.412967  23.044516  23.287041     0.071773\n",
            "2016-06-30  22.023110  22.333260  21.990462  22.293617    -0.042660\n",
            "2016-07-31  24.296778  24.380729  24.177847  24.301441     0.090063\n",
            "2016-08-31  24.773059  24.986417  24.768369  24.876221     0.023652\n",
            "2016-09-30  26.367384  26.580743  26.212641  26.505716     0.065504\n",
            "2016-10-31  26.646398  26.782385  26.540890  26.620607     0.004335\n",
            "2016-11-30  26.300088  26.441486  25.986654  26.045570    -0.021601\n",
            "2016-12-31  27.490197  27.619811  27.202687  27.294596     0.047955\n",
            "2016-10-31  26.646398  26.782385  26.540890  26.620607          NaN\n",
            "2016-11-30  26.300088  26.441486  25.986654  26.045570          NaN\n",
            "2016-12-31  27.490197  27.619811  27.202687  27.294596          NaN\n",
            "2017-01-31  28.550681  28.607239  28.425779  28.597813          NaN\n",
            "2017-02-28  32.444858  32.530065  32.354916  32.423557          NaN\n",
            "2017-03-31  34.016463  34.146641  33.848414  34.002262          NaN\n",
            "2017-04-30  34.104028  34.153733  33.909947  33.999886          NaN\n"
          ]
        }
      ]
    },
    {
      "cell_type": "code",
      "metadata": {
        "colab": {
          "base_uri": "https://localhost:8080/"
        },
        "id": "hQzqn0WLZOZm",
        "outputId": "69599a00-e05e-41a5-cefd-4fe6cc38f19f"
      },
      "source": [
        "append1 = gugol_bar.append(df_20171)\n",
        "print(append1)"
      ],
      "execution_count": 199,
      "outputs": [
        {
          "output_type": "stream",
          "name": "stdout",
          "text": [
            "                  Open        High         Low       Close  rate_return\n",
            "Date                                                                   \n",
            "2016-01-31  731.530029  744.989990  726.799988  742.950012          NaN\n",
            "2016-02-29  700.320007  710.890015  697.679993  697.770020    -0.060812\n",
            "2016-03-31  749.250000  750.849976  740.940002  744.950012     0.067615\n",
            "2016-04-30  690.700012  697.619995  689.000000  693.010010    -0.069723\n",
            "2016-05-31  731.739990  739.729980  731.260010  735.719971     0.061630\n",
            "2016-06-30  685.469971  692.320007  683.650024  692.099976    -0.059289\n",
            "2016-07-31  772.710022  778.549988  766.770020  768.789978     0.110808\n",
            "2016-08-31  767.010010  769.090027  765.380005  767.049988    -0.002263\n",
            "2016-09-30  776.330017  780.940002  774.090027  777.289978     0.013350\n",
            "2016-10-31  795.469971  796.859985  784.000000  784.539978     0.009327\n",
            "2016-11-30  770.070007  772.989990  754.830017  758.039978    -0.033778\n",
            "2016-12-31  782.750000  782.780029  770.409973  771.820007     0.018178\n",
            "2016-10-31  795.469971  796.859985  784.000000  784.539978          NaN\n",
            "2016-11-30  770.070007  772.989990  754.830017  758.039978          NaN\n",
            "2016-12-31  782.750000  782.780029  770.409973  771.820007          NaN\n",
            "2017-01-31  796.859985  801.250000  790.520020  796.789978          NaN\n",
            "2017-02-28  825.609985  828.539978  820.200012  823.210022          NaN\n",
            "2017-03-31  828.969971  831.640015  827.390015  829.559998          NaN\n",
            "2017-04-30  910.659973  916.849976  905.770020  905.960022          NaN\n"
          ]
        }
      ]
    },
    {
      "cell_type": "markdown",
      "metadata": {
        "id": "zXT6cMquSq_P"
      },
      "source": [
        "'Append' is essentially to concat two DataFrames by axis = 0, thus here is an alternative way to append:"
      ]
    },
    {
      "cell_type": "code",
      "metadata": {
        "colab": {
          "base_uri": "https://localhost:8080/"
        },
        "id": "2EuSaFO9HW-D",
        "outputId": "8af8113f-6ef2-49b9-d64b-fa0eb952fdf2"
      },
      "source": [
        "concat = pd.concat([aapl_bar, df_2017], axis = 0)\n",
        "print(concat)"
      ],
      "execution_count": 202,
      "outputs": [
        {
          "output_type": "stream",
          "name": "stdout",
          "text": [
            "                 Open       High        Low      Close  rate_return\n",
            "Date                                                               \n",
            "2016-01-31  21.852384  22.440247  21.750948  22.440247          NaN\n",
            "2016-02-29  22.450755  22.768302  22.402081  22.411352    -0.001288\n",
            "2016-03-31  25.431522  25.473243  25.236821  25.262318     0.127211\n",
            "2016-04-30  21.785535  21.954739  21.442493  21.727589    -0.139921\n",
            "2016-05-31  23.226409  23.412967  23.044516  23.287041     0.071773\n",
            "2016-06-30  22.023110  22.333260  21.990462  22.293617    -0.042660\n",
            "2016-07-31  24.296778  24.380729  24.177847  24.301441     0.090063\n",
            "2016-08-31  24.773059  24.986417  24.768369  24.876221     0.023652\n",
            "2016-09-30  26.367384  26.580743  26.212641  26.505716     0.065504\n",
            "2016-10-31  26.646398  26.782385  26.540890  26.620607     0.004335\n",
            "2016-11-30  26.300088  26.441486  25.986654  26.045570    -0.021601\n",
            "2016-12-31  27.490197  27.619811  27.202687  27.294596     0.047955\n",
            "2016-10-31  26.646398  26.782385  26.540890  26.620607          NaN\n",
            "2016-11-30  26.300088  26.441486  25.986654  26.045570          NaN\n",
            "2016-12-31  27.490197  27.619811  27.202687  27.294596          NaN\n",
            "2017-01-31  28.550681  28.607239  28.425779  28.597813          NaN\n",
            "2017-02-28  32.444858  32.530065  32.354916  32.423557          NaN\n",
            "2017-03-31  34.016463  34.146641  33.848414  34.002262          NaN\n",
            "2017-04-30  34.104028  34.153733  33.909947  33.999886          NaN\n"
          ]
        }
      ]
    },
    {
      "cell_type": "code",
      "metadata": {
        "colab": {
          "base_uri": "https://localhost:8080/"
        },
        "id": "fQ4y1FAyZXaA",
        "outputId": "c9a4a670-462a-4558-9dd3-5d024f148056"
      },
      "source": [
        "concat1 = pd.concat([gugol_bar, df_20171], axis = 0)\n",
        "print(concat1)"
      ],
      "execution_count": 201,
      "outputs": [
        {
          "output_type": "stream",
          "name": "stdout",
          "text": [
            "                  Open        High         Low       Close  rate_return\n",
            "Date                                                                   \n",
            "2016-01-31  731.530029  744.989990  726.799988  742.950012          NaN\n",
            "2016-02-29  700.320007  710.890015  697.679993  697.770020    -0.060812\n",
            "2016-03-31  749.250000  750.849976  740.940002  744.950012     0.067615\n",
            "2016-04-30  690.700012  697.619995  689.000000  693.010010    -0.069723\n",
            "2016-05-31  731.739990  739.729980  731.260010  735.719971     0.061630\n",
            "2016-06-30  685.469971  692.320007  683.650024  692.099976    -0.059289\n",
            "2016-07-31  772.710022  778.549988  766.770020  768.789978     0.110808\n",
            "2016-08-31  767.010010  769.090027  765.380005  767.049988    -0.002263\n",
            "2016-09-30  776.330017  780.940002  774.090027  777.289978     0.013350\n",
            "2016-10-31  795.469971  796.859985  784.000000  784.539978     0.009327\n",
            "2016-11-30  770.070007  772.989990  754.830017  758.039978    -0.033778\n",
            "2016-12-31  782.750000  782.780029  770.409973  771.820007     0.018178\n",
            "2016-10-31  795.469971  796.859985  784.000000  784.539978          NaN\n",
            "2016-11-30  770.070007  772.989990  754.830017  758.039978          NaN\n",
            "2016-12-31  782.750000  782.780029  770.409973  771.820007          NaN\n",
            "2017-01-31  796.859985  801.250000  790.520020  796.789978          NaN\n",
            "2017-02-28  825.609985  828.539978  820.200012  823.210022          NaN\n",
            "2017-03-31  828.969971  831.640015  827.390015  829.559998          NaN\n",
            "2017-04-30  910.659973  916.849976  905.770020  905.960022          NaN\n"
          ]
        }
      ]
    },
    {
      "cell_type": "markdown",
      "metadata": {
        "id": "-YXL7V9ASst9"
      },
      "source": [
        "Please note that if the two DataFrame have some columns with the same column names, these columns are considered to be the same and will be merged. It's very important to have the right column names. If we change a column names here:"
      ]
    },
    {
      "cell_type": "code",
      "metadata": {
        "colab": {
          "base_uri": "https://localhost:8080/"
        },
        "id": "aT1eoa8mHW-D",
        "outputId": "103e30e5-f421-4fca-d45d-4e7e7bf6f5fc"
      },
      "source": [
        "df_2017.columns = ['Change', 'High','Low','Close']\n",
        "concat = pd.concat([aapl_bar, df_2017], axis = 0)\n",
        "print(concat)"
      ],
      "execution_count": 203,
      "outputs": [
        {
          "output_type": "stream",
          "name": "stdout",
          "text": [
            "                 Open       High        Low      Close  rate_return     Change\n",
            "Date                                                                          \n",
            "2016-01-31  21.852384  22.440247  21.750948  22.440247          NaN        NaN\n",
            "2016-02-29  22.450755  22.768302  22.402081  22.411352    -0.001288        NaN\n",
            "2016-03-31  25.431522  25.473243  25.236821  25.262318     0.127211        NaN\n",
            "2016-04-30  21.785535  21.954739  21.442493  21.727589    -0.139921        NaN\n",
            "2016-05-31  23.226409  23.412967  23.044516  23.287041     0.071773        NaN\n",
            "2016-06-30  22.023110  22.333260  21.990462  22.293617    -0.042660        NaN\n",
            "2016-07-31  24.296778  24.380729  24.177847  24.301441     0.090063        NaN\n",
            "2016-08-31  24.773059  24.986417  24.768369  24.876221     0.023652        NaN\n",
            "2016-09-30  26.367384  26.580743  26.212641  26.505716     0.065504        NaN\n",
            "2016-10-31  26.646398  26.782385  26.540890  26.620607     0.004335        NaN\n",
            "2016-11-30  26.300088  26.441486  25.986654  26.045570    -0.021601        NaN\n",
            "2016-12-31  27.490197  27.619811  27.202687  27.294596     0.047955        NaN\n",
            "2016-10-31        NaN  26.782385  26.540890  26.620607          NaN  26.646398\n",
            "2016-11-30        NaN  26.441486  25.986654  26.045570          NaN  26.300088\n",
            "2016-12-31        NaN  27.619811  27.202687  27.294596          NaN  27.490197\n",
            "2017-01-31        NaN  28.607239  28.425779  28.597813          NaN  28.550681\n",
            "2017-02-28        NaN  32.530065  32.354916  32.423557          NaN  32.444858\n",
            "2017-03-31        NaN  34.146641  33.848414  34.002262          NaN  34.016463\n",
            "2017-04-30        NaN  34.153733  33.909947  33.999886          NaN  34.104028\n"
          ]
        }
      ]
    },
    {
      "cell_type": "code",
      "metadata": {
        "colab": {
          "base_uri": "https://localhost:8080/"
        },
        "id": "QrZCUYWpZnJi",
        "outputId": "c9e19f98-7496-4424-da0c-18c4b570172a"
      },
      "source": [
        "df_20171.columns = ['Change', 'High','Low','Close']\n",
        "concat1 = pd.concat([gugol_bar, df_20171], axis = 0)\n",
        "print(concat1)"
      ],
      "execution_count": 204,
      "outputs": [
        {
          "output_type": "stream",
          "name": "stdout",
          "text": [
            "                  Open        High  ...  rate_return      Change\n",
            "Date                                ...                         \n",
            "2016-01-31  731.530029  744.989990  ...          NaN         NaN\n",
            "2016-02-29  700.320007  710.890015  ...    -0.060812         NaN\n",
            "2016-03-31  749.250000  750.849976  ...     0.067615         NaN\n",
            "2016-04-30  690.700012  697.619995  ...    -0.069723         NaN\n",
            "2016-05-31  731.739990  739.729980  ...     0.061630         NaN\n",
            "2016-06-30  685.469971  692.320007  ...    -0.059289         NaN\n",
            "2016-07-31  772.710022  778.549988  ...     0.110808         NaN\n",
            "2016-08-31  767.010010  769.090027  ...    -0.002263         NaN\n",
            "2016-09-30  776.330017  780.940002  ...     0.013350         NaN\n",
            "2016-10-31  795.469971  796.859985  ...     0.009327         NaN\n",
            "2016-11-30  770.070007  772.989990  ...    -0.033778         NaN\n",
            "2016-12-31  782.750000  782.780029  ...     0.018178         NaN\n",
            "2016-10-31         NaN  796.859985  ...          NaN  795.469971\n",
            "2016-11-30         NaN  772.989990  ...          NaN  770.070007\n",
            "2016-12-31         NaN  782.780029  ...          NaN  782.750000\n",
            "2017-01-31         NaN  801.250000  ...          NaN  796.859985\n",
            "2017-02-28         NaN  828.539978  ...          NaN  825.609985\n",
            "2017-03-31         NaN  831.640015  ...          NaN  828.969971\n",
            "2017-04-30         NaN  916.849976  ...          NaN  910.659973\n",
            "\n",
            "[19 rows x 6 columns]\n"
          ]
        }
      ]
    },
    {
      "cell_type": "markdown",
      "metadata": {
        "id": "shbpOFyyS6uV"
      },
      "source": [
        "Since the column name of 'Open' has been changed, the new DataFrame has an new column named 'Change'.\n",
        "\n",
        "# Summary\n",
        "\n",
        "Hereby we introduced the most import part of python: resampling and DataFrame manipulation. We only introduced the most commonly used method in Financial data analysis. There are also many methods used in data mining, which are also beneficial. You can always check the [Pandas](https://pandas.pydata.org/pandas-docs/stable/index.html) official documentations for help."
      ]
    }
  ]
}